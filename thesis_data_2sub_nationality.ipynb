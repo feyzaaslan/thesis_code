{
  "cells": [
    {
      "cell_type": "code",
      "execution_count": null,
      "metadata": {
        "id": "1matYXpe1mIp"
      },
      "outputs": [],
      "source": [
        "#import modules\n",
        "\n",
        "import pandas as pd\n",
        "import numpy as np\n",
        "import json\n",
        "\n",
        "#scikit learn\n",
        "from sklearn.model_selection import train_test_split\n",
        "from sklearn.linear_model import LogisticRegression\n",
        "from sklearn.feature_extraction.text import CountVectorizer, TfidfVectorizer\n",
        "from sklearn.metrics import classification_report, accuracy_score, roc_auc_score, roc_curve, auc\n",
        "from sklearn.preprocessing import LabelEncoder, label_binarize\n",
        "from sklearn.dummy import DummyClassifier\n",
        "from sklearn.naive_bayes import MultinomialNB\n",
        "from sklearn.metrics import confusion_matrix\n",
        "from sklearn.datasets import make_classification\n",
        "\n",
        "\n",
        "from nltk.corpus import stopwords\n",
        "import spacy\n",
        "import re\n",
        "import matplotlib.pyplot as plt\n",
        "from wordcloud import WordCloud\n",
        "from collections import Counter\n",
        "import seaborn as sns\n",
        "\n",
        "\n"
      ]
    },
    {
      "cell_type": "code",
      "execution_count": null,
      "metadata": {
        "colab": {
          "base_uri": "https://localhost:8080/"
        },
        "id": "Vt8eMqpo4nXg",
        "outputId": "d66d5a24-114e-459d-d32b-640994542e55"
      },
      "outputs": [
        {
          "output_type": "stream",
          "name": "stdout",
          "text": [
            "Mounted at /content/drive\n",
            "/content/drive/MyDrive/Colab Notebooks\n"
          ]
        }
      ],
      "source": [
        "#connect to google drive\n",
        "from google.colab import drive\n",
        "drive.mount('/content/drive')\n",
        "%cd /content/drive/MyDrive/Colab Notebooks"
      ]
    },
    {
      "cell_type": "code",
      "execution_count": null,
      "metadata": {
        "id": "zj1HnjSS4tS3"
      },
      "outputs": [],
      "source": [
        "#set random seed\n",
        "np.random.seed(42)"
      ]
    },
    {
      "cell_type": "code",
      "source": [
        "cleaned_nationality_filtered = pd.read_csv('cleaned_nationality_filtered.csv')"
      ],
      "metadata": {
        "id": "fDOU2JlgNNPc"
      },
      "execution_count": null,
      "outputs": []
    },
    {
      "cell_type": "code",
      "source": [
        "cleaned_nationality_filtered.groupby(\"nationality\").count()"
      ],
      "metadata": {
        "colab": {
          "base_uri": "https://localhost:8080/",
          "height": 221
        },
        "id": "yUXHpIs73Xu5",
        "outputId": "6692418f-e239-4c97-da63-7eb7990b17dd"
      },
      "execution_count": null,
      "outputs": [
        {
          "output_type": "execute_result",
          "data": {
            "text/plain": [
              "                 Unnamed: 0.2  Unnamed: 0.1  Unnamed: 0  author_ID   post  \\\n",
              "nationality                                                                 \n",
              "Germany                 21187         21187       21187      21187  21187   \n",
              "The Netherlands         10899         10899       10899      10899  10899   \n",
              "USA                     20376         20376       20376      20376  20376   \n",
              "United Kingdom          18251         18251       18251      18251  18251   \n",
              "\n",
              "                 cleaned_post  is_repeating  \n",
              "nationality                                  \n",
              "Germany                 21187         21187  \n",
              "The Netherlands         10899         10899  \n",
              "USA                     20376         20376  \n",
              "United Kingdom          18251         18251  "
            ],
            "text/html": [
              "\n",
              "  <div id=\"df-882f9c2b-dbff-454d-a2b0-9ad40492346f\" class=\"colab-df-container\">\n",
              "    <div>\n",
              "<style scoped>\n",
              "    .dataframe tbody tr th:only-of-type {\n",
              "        vertical-align: middle;\n",
              "    }\n",
              "\n",
              "    .dataframe tbody tr th {\n",
              "        vertical-align: top;\n",
              "    }\n",
              "\n",
              "    .dataframe thead th {\n",
              "        text-align: right;\n",
              "    }\n",
              "</style>\n",
              "<table border=\"1\" class=\"dataframe\">\n",
              "  <thead>\n",
              "    <tr style=\"text-align: right;\">\n",
              "      <th></th>\n",
              "      <th>Unnamed: 0.2</th>\n",
              "      <th>Unnamed: 0.1</th>\n",
              "      <th>Unnamed: 0</th>\n",
              "      <th>author_ID</th>\n",
              "      <th>post</th>\n",
              "      <th>cleaned_post</th>\n",
              "      <th>is_repeating</th>\n",
              "    </tr>\n",
              "    <tr>\n",
              "      <th>nationality</th>\n",
              "      <th></th>\n",
              "      <th></th>\n",
              "      <th></th>\n",
              "      <th></th>\n",
              "      <th></th>\n",
              "      <th></th>\n",
              "      <th></th>\n",
              "    </tr>\n",
              "  </thead>\n",
              "  <tbody>\n",
              "    <tr>\n",
              "      <th>Germany</th>\n",
              "      <td>21187</td>\n",
              "      <td>21187</td>\n",
              "      <td>21187</td>\n",
              "      <td>21187</td>\n",
              "      <td>21187</td>\n",
              "      <td>21187</td>\n",
              "      <td>21187</td>\n",
              "    </tr>\n",
              "    <tr>\n",
              "      <th>The Netherlands</th>\n",
              "      <td>10899</td>\n",
              "      <td>10899</td>\n",
              "      <td>10899</td>\n",
              "      <td>10899</td>\n",
              "      <td>10899</td>\n",
              "      <td>10899</td>\n",
              "      <td>10899</td>\n",
              "    </tr>\n",
              "    <tr>\n",
              "      <th>USA</th>\n",
              "      <td>20376</td>\n",
              "      <td>20376</td>\n",
              "      <td>20376</td>\n",
              "      <td>20376</td>\n",
              "      <td>20376</td>\n",
              "      <td>20376</td>\n",
              "      <td>20376</td>\n",
              "    </tr>\n",
              "    <tr>\n",
              "      <th>United Kingdom</th>\n",
              "      <td>18251</td>\n",
              "      <td>18251</td>\n",
              "      <td>18251</td>\n",
              "      <td>18251</td>\n",
              "      <td>18251</td>\n",
              "      <td>18251</td>\n",
              "      <td>18251</td>\n",
              "    </tr>\n",
              "  </tbody>\n",
              "</table>\n",
              "</div>\n",
              "    <div class=\"colab-df-buttons\">\n",
              "\n",
              "  <div class=\"colab-df-container\">\n",
              "    <button class=\"colab-df-convert\" onclick=\"convertToInteractive('df-882f9c2b-dbff-454d-a2b0-9ad40492346f')\"\n",
              "            title=\"Convert this dataframe to an interactive table.\"\n",
              "            style=\"display:none;\">\n",
              "\n",
              "  <svg xmlns=\"http://www.w3.org/2000/svg\" height=\"24px\" viewBox=\"0 -960 960 960\">\n",
              "    <path d=\"M120-120v-720h720v720H120Zm60-500h600v-160H180v160Zm220 220h160v-160H400v160Zm0 220h160v-160H400v160ZM180-400h160v-160H180v160Zm440 0h160v-160H620v160ZM180-180h160v-160H180v160Zm440 0h160v-160H620v160Z\"/>\n",
              "  </svg>\n",
              "    </button>\n",
              "\n",
              "  <style>\n",
              "    .colab-df-container {\n",
              "      display:flex;\n",
              "      gap: 12px;\n",
              "    }\n",
              "\n",
              "    .colab-df-convert {\n",
              "      background-color: #E8F0FE;\n",
              "      border: none;\n",
              "      border-radius: 50%;\n",
              "      cursor: pointer;\n",
              "      display: none;\n",
              "      fill: #1967D2;\n",
              "      height: 32px;\n",
              "      padding: 0 0 0 0;\n",
              "      width: 32px;\n",
              "    }\n",
              "\n",
              "    .colab-df-convert:hover {\n",
              "      background-color: #E2EBFA;\n",
              "      box-shadow: 0px 1px 2px rgba(60, 64, 67, 0.3), 0px 1px 3px 1px rgba(60, 64, 67, 0.15);\n",
              "      fill: #174EA6;\n",
              "    }\n",
              "\n",
              "    .colab-df-buttons div {\n",
              "      margin-bottom: 4px;\n",
              "    }\n",
              "\n",
              "    [theme=dark] .colab-df-convert {\n",
              "      background-color: #3B4455;\n",
              "      fill: #D2E3FC;\n",
              "    }\n",
              "\n",
              "    [theme=dark] .colab-df-convert:hover {\n",
              "      background-color: #434B5C;\n",
              "      box-shadow: 0px 1px 3px 1px rgba(0, 0, 0, 0.15);\n",
              "      filter: drop-shadow(0px 1px 2px rgba(0, 0, 0, 0.3));\n",
              "      fill: #FFFFFF;\n",
              "    }\n",
              "  </style>\n",
              "\n",
              "    <script>\n",
              "      const buttonEl =\n",
              "        document.querySelector('#df-882f9c2b-dbff-454d-a2b0-9ad40492346f button.colab-df-convert');\n",
              "      buttonEl.style.display =\n",
              "        google.colab.kernel.accessAllowed ? 'block' : 'none';\n",
              "\n",
              "      async function convertToInteractive(key) {\n",
              "        const element = document.querySelector('#df-882f9c2b-dbff-454d-a2b0-9ad40492346f');\n",
              "        const dataTable =\n",
              "          await google.colab.kernel.invokeFunction('convertToInteractive',\n",
              "                                                    [key], {});\n",
              "        if (!dataTable) return;\n",
              "\n",
              "        const docLinkHtml = 'Like what you see? Visit the ' +\n",
              "          '<a target=\"_blank\" href=https://colab.research.google.com/notebooks/data_table.ipynb>data table notebook</a>'\n",
              "          + ' to learn more about interactive tables.';\n",
              "        element.innerHTML = '';\n",
              "        dataTable['output_type'] = 'display_data';\n",
              "        await google.colab.output.renderOutput(dataTable, element);\n",
              "        const docLink = document.createElement('div');\n",
              "        docLink.innerHTML = docLinkHtml;\n",
              "        element.appendChild(docLink);\n",
              "      }\n",
              "    </script>\n",
              "  </div>\n",
              "\n",
              "\n",
              "<div id=\"df-6aa4d44d-1023-430f-a51d-66ba366cdc2f\">\n",
              "  <button class=\"colab-df-quickchart\" onclick=\"quickchart('df-6aa4d44d-1023-430f-a51d-66ba366cdc2f')\"\n",
              "            title=\"Suggest charts\"\n",
              "            style=\"display:none;\">\n",
              "\n",
              "<svg xmlns=\"http://www.w3.org/2000/svg\" height=\"24px\"viewBox=\"0 0 24 24\"\n",
              "     width=\"24px\">\n",
              "    <g>\n",
              "        <path d=\"M19 3H5c-1.1 0-2 .9-2 2v14c0 1.1.9 2 2 2h14c1.1 0 2-.9 2-2V5c0-1.1-.9-2-2-2zM9 17H7v-7h2v7zm4 0h-2V7h2v10zm4 0h-2v-4h2v4z\"/>\n",
              "    </g>\n",
              "</svg>\n",
              "  </button>\n",
              "\n",
              "<style>\n",
              "  .colab-df-quickchart {\n",
              "      --bg-color: #E8F0FE;\n",
              "      --fill-color: #1967D2;\n",
              "      --hover-bg-color: #E2EBFA;\n",
              "      --hover-fill-color: #174EA6;\n",
              "      --disabled-fill-color: #AAA;\n",
              "      --disabled-bg-color: #DDD;\n",
              "  }\n",
              "\n",
              "  [theme=dark] .colab-df-quickchart {\n",
              "      --bg-color: #3B4455;\n",
              "      --fill-color: #D2E3FC;\n",
              "      --hover-bg-color: #434B5C;\n",
              "      --hover-fill-color: #FFFFFF;\n",
              "      --disabled-bg-color: #3B4455;\n",
              "      --disabled-fill-color: #666;\n",
              "  }\n",
              "\n",
              "  .colab-df-quickchart {\n",
              "    background-color: var(--bg-color);\n",
              "    border: none;\n",
              "    border-radius: 50%;\n",
              "    cursor: pointer;\n",
              "    display: none;\n",
              "    fill: var(--fill-color);\n",
              "    height: 32px;\n",
              "    padding: 0;\n",
              "    width: 32px;\n",
              "  }\n",
              "\n",
              "  .colab-df-quickchart:hover {\n",
              "    background-color: var(--hover-bg-color);\n",
              "    box-shadow: 0 1px 2px rgba(60, 64, 67, 0.3), 0 1px 3px 1px rgba(60, 64, 67, 0.15);\n",
              "    fill: var(--button-hover-fill-color);\n",
              "  }\n",
              "\n",
              "  .colab-df-quickchart-complete:disabled,\n",
              "  .colab-df-quickchart-complete:disabled:hover {\n",
              "    background-color: var(--disabled-bg-color);\n",
              "    fill: var(--disabled-fill-color);\n",
              "    box-shadow: none;\n",
              "  }\n",
              "\n",
              "  .colab-df-spinner {\n",
              "    border: 2px solid var(--fill-color);\n",
              "    border-color: transparent;\n",
              "    border-bottom-color: var(--fill-color);\n",
              "    animation:\n",
              "      spin 1s steps(1) infinite;\n",
              "  }\n",
              "\n",
              "  @keyframes spin {\n",
              "    0% {\n",
              "      border-color: transparent;\n",
              "      border-bottom-color: var(--fill-color);\n",
              "      border-left-color: var(--fill-color);\n",
              "    }\n",
              "    20% {\n",
              "      border-color: transparent;\n",
              "      border-left-color: var(--fill-color);\n",
              "      border-top-color: var(--fill-color);\n",
              "    }\n",
              "    30% {\n",
              "      border-color: transparent;\n",
              "      border-left-color: var(--fill-color);\n",
              "      border-top-color: var(--fill-color);\n",
              "      border-right-color: var(--fill-color);\n",
              "    }\n",
              "    40% {\n",
              "      border-color: transparent;\n",
              "      border-right-color: var(--fill-color);\n",
              "      border-top-color: var(--fill-color);\n",
              "    }\n",
              "    60% {\n",
              "      border-color: transparent;\n",
              "      border-right-color: var(--fill-color);\n",
              "    }\n",
              "    80% {\n",
              "      border-color: transparent;\n",
              "      border-right-color: var(--fill-color);\n",
              "      border-bottom-color: var(--fill-color);\n",
              "    }\n",
              "    90% {\n",
              "      border-color: transparent;\n",
              "      border-bottom-color: var(--fill-color);\n",
              "    }\n",
              "  }\n",
              "</style>\n",
              "\n",
              "  <script>\n",
              "    async function quickchart(key) {\n",
              "      const quickchartButtonEl =\n",
              "        document.querySelector('#' + key + ' button');\n",
              "      quickchartButtonEl.disabled = true;  // To prevent multiple clicks.\n",
              "      quickchartButtonEl.classList.add('colab-df-spinner');\n",
              "      try {\n",
              "        const charts = await google.colab.kernel.invokeFunction(\n",
              "            'suggestCharts', [key], {});\n",
              "      } catch (error) {\n",
              "        console.error('Error during call to suggestCharts:', error);\n",
              "      }\n",
              "      quickchartButtonEl.classList.remove('colab-df-spinner');\n",
              "      quickchartButtonEl.classList.add('colab-df-quickchart-complete');\n",
              "    }\n",
              "    (() => {\n",
              "      let quickchartButtonEl =\n",
              "        document.querySelector('#df-6aa4d44d-1023-430f-a51d-66ba366cdc2f button');\n",
              "      quickchartButtonEl.style.display =\n",
              "        google.colab.kernel.accessAllowed ? 'block' : 'none';\n",
              "    })();\n",
              "  </script>\n",
              "</div>\n",
              "    </div>\n",
              "  </div>\n"
            ]
          },
          "metadata": {},
          "execution_count": 10
        }
      ]
    },
    {
      "cell_type": "code",
      "source": [
        "# Load German stopwords\n",
        "with open('stopwords-de.json', 'r') as file:\n",
        "    german_stopwords = set(json.load(file))"
      ],
      "metadata": {
        "id": "LcfYnUPDrMJJ"
      },
      "execution_count": null,
      "outputs": []
    },
    {
      "cell_type": "code",
      "source": [
        "german_stopwords"
      ],
      "metadata": {
        "id": "iXgei3AoJRyJ"
      },
      "execution_count": null,
      "outputs": []
    },
    {
      "cell_type": "code",
      "source": [
        "# Load Dutch stopwords\n",
        "with open('stopwords-nl.json', 'r') as file:\n",
        "    dutch_stopwords = set(json.load(file))"
      ],
      "metadata": {
        "id": "gpCFM6XmrTxR"
      },
      "execution_count": null,
      "outputs": []
    },
    {
      "cell_type": "code",
      "source": [
        "data['new_key'] = 'new_value'"
      ],
      "metadata": {
        "id": "69r446LdJOHD"
      },
      "execution_count": null,
      "outputs": []
    },
    {
      "cell_type": "code",
      "source": [
        "combined_stopwords = dutch_stopwords.union(german_stopwords)"
      ],
      "metadata": {
        "id": "vXIqpZBZrt5m"
      },
      "execution_count": null,
      "outputs": []
    },
    {
      "cell_type": "markdown",
      "metadata": {
        "id": "XVPSl8de0qIt"
      },
      "source": [
        "Exploratory Data Analysis"
      ]
    },
    {
      "cell_type": "code",
      "source": [
        "\n",
        "# Counting the number of posts per nationality and selecting the top 30\n",
        "top_30_nationalities = cleaned_nationality_filtered['nationality'].value_counts().head(30)\n",
        "\n",
        "# Creating a bar plot for the top 30 nationalities\n",
        "plt.figure(figsize=(15, 10))\n",
        "top_30_nationalities.plot(kind='bar', color='teal')\n",
        "plt.title('Top 30 Nationalities Distribution of Posts', fontsize=16)\n",
        "plt.xlabel('Nationality', fontsize=14)\n",
        "plt.ylabel('Number of Posts', fontsize=14)\n",
        "plt.xticks(rotation=45, ha='right', fontsize=12)\n",
        "plt.yticks(fontsize=12)\n",
        "plt.tight_layout()\n",
        "plt.show()\n",
        "\n"
      ],
      "metadata": {
        "id": "Bh9NtTTVWGNS"
      },
      "execution_count": null,
      "outputs": []
    },
    {
      "cell_type": "code",
      "execution_count": null,
      "metadata": {
        "id": "M-qNdtvkweTO"
      },
      "outputs": [],
      "source": [
        "# Count the occurrences of each nationality\n",
        "nationality_counts = cleaned_nationality_filtered['nationality'].value_counts()\n",
        "\n",
        "# Calculate the percentage of each nationality\n",
        "nationality_percentage = cleaned_nationality_filtered['nationality'].value_counts(normalize=True) * 100\n",
        "\n",
        "# Create a DataFrame to display counts and percentages side by side\n",
        "nationality_distribution = pd.DataFrame({'Count': nationality_counts, 'Percentage': nationality_percentage})\n",
        "\n",
        "\n",
        "print(nationality_distribution)"
      ]
    },
    {
      "cell_type": "code",
      "execution_count": null,
      "metadata": {
        "id": "oDRFzkZia2wY"
      },
      "outputs": [],
      "source": [
        "# Numerical summary\n",
        "total_posts = len(cleaned_nationality_filtered)\n",
        "\n",
        "print(f\"Total number of posts: {total_posts}\")\n"
      ]
    },
    {
      "cell_type": "code",
      "source": [
        "class_counts = cleaned_nationality_filtered['nationality'].value_counts()\n",
        "print(class_counts)"
      ],
      "metadata": {
        "id": "n-dE5oVgK346"
      },
      "execution_count": null,
      "outputs": []
    },
    {
      "cell_type": "code",
      "source": [
        "import matplotlib.pyplot as plt\n",
        "import seaborn as sns\n",
        "\n",
        "# Count the frequency of each nationality\n",
        "nationality_counts = cleaned_nationality_filtered['nationality'].value_counts()\n",
        "\n",
        "# Plot\n",
        "plt.figure(figsize=(20, 6))\n",
        "sns.barplot(x=nationality_counts.index, y=nationality_counts.values)\n",
        "plt.xticks(rotation=45)\n",
        "plt.title('Frequency of Each Nationality')\n",
        "plt.xlabel('Nationality')\n",
        "plt.ylabel('Frequency')\n",
        "plt.show()\n"
      ],
      "metadata": {
        "id": "zSkh8-AO3wsU"
      },
      "execution_count": null,
      "outputs": []
    },
    {
      "cell_type": "code",
      "source": [
        "from wordcloud import WordCloud\n",
        "\n",
        "# Create a text string for the word cloud\n",
        "text = ' '.join(cleaned_nationality_filtered['nationality'])\n",
        "\n",
        "# Generate a word cloud image\n",
        "wordcloud = WordCloud(width=800, height=400, background_color='white').generate(text)\n",
        "\n",
        "# Display the word cloud\n",
        "plt.figure(figsize=(10, 5))\n",
        "plt.imshow(wordcloud, interpolation='bilinear')\n",
        "plt.axis('off')\n",
        "plt.show()\n"
      ],
      "metadata": {
        "id": "yLlrwkhD31Px"
      },
      "execution_count": null,
      "outputs": []
    },
    {
      "cell_type": "code",
      "source": [
        "import matplotlib.pyplot as plt\n",
        "import seaborn as sns\n",
        "\n",
        "# Select the top 5 nationalities\n",
        "top_nationalities = cleaned_nationality_filtered['nationality'].value_counts().head(10)\n",
        "\n",
        "# Plot\n",
        "plt.figure(figsize=(15, 6))\n",
        "sns.barplot(x=top_nationalities.index, y=top_nationalities.values)\n",
        "plt.title('Top 10 Nationalities in the Dataset')\n",
        "plt.xlabel('Nationality')\n",
        "plt.ylabel('Frequency')\n",
        "plt.show()\n"
      ],
      "metadata": {
        "id": "ODLq_cT94M1x"
      },
      "execution_count": null,
      "outputs": []
    },
    {
      "cell_type": "code",
      "source": [
        "# Plot\n",
        "plt.figure(figsize=(10, 6))\n",
        "sns.barplot(x=top_nationalities.values, y=top_nationalities.index)\n",
        "plt.title('Top 5 Nationalities in the Dataset')\n",
        "plt.xlabel('Frequency')\n",
        "plt.ylabel('Nationality')\n",
        "plt.show()\n"
      ],
      "metadata": {
        "id": "ECIlXxwv4YrJ"
      },
      "execution_count": null,
      "outputs": []
    },
    {
      "cell_type": "code",
      "source": [
        "\n",
        "# Step 1: Identify the top 5 nationalities\n",
        "top_nationalities = cleaned_nationality_filtered['nationality'].value_counts().head(5).index\n",
        "\n",
        "# Step 2: Filter the DataFrame to include only the top 5 nationalities and calculate average post length\n",
        "top_nationalities_data = cleaned_nationality_filtered[cleaned_nationality_filtered['nationality'].isin(top_nationalities)]\n",
        "average_post_length = top_nationalities_data.groupby('nationality')['cleaned_post'].apply(lambda x: x.str.len().mean())\n",
        "\n",
        "# Step 3: Create a bar chart\n",
        "plt.figure(figsize=(10, 6))\n",
        "sns.barplot(x=average_post_length.index, y=average_post_length.values)\n",
        "plt.title('Average Post Length for Top 5 Nationalities')\n",
        "plt.xlabel('Nationality')\n",
        "plt.ylabel('Average Post Length')\n",
        "plt.show()\n"
      ],
      "metadata": {
        "id": "xtOoO9wG5YG5"
      },
      "execution_count": null,
      "outputs": []
    },
    {
      "cell_type": "code",
      "source": [
        "!pip install squarify"
      ],
      "metadata": {
        "colab": {
          "base_uri": "https://localhost:8080/"
        },
        "id": "1w-uQrrC4IZ0",
        "outputId": "6712cb98-32d1-4afd-b802-d7643ccfaccf"
      },
      "execution_count": null,
      "outputs": [
        {
          "output_type": "stream",
          "name": "stdout",
          "text": [
            "Collecting squarify\n",
            "  Downloading squarify-0.4.3-py3-none-any.whl (4.3 kB)\n",
            "Installing collected packages: squarify\n",
            "Successfully installed squarify-0.4.3\n"
          ]
        }
      ]
    },
    {
      "cell_type": "code",
      "source": [
        "import squarify\n",
        "\n",
        "# Create a color palette\n",
        "cmap = plt.cm.Spectral\n",
        "mini=min(nationality_counts.values)\n",
        "maxi=max(nationality_counts.values)\n",
        "norm = plt.Normalize(vmin=mini, vmax=maxi)\n",
        "colors = [cmap(norm(value)) for value in nationality_counts.values]\n",
        "\n",
        "# Plot\n",
        "plt.figure(figsize=(22, 10))\n",
        "squarify.plot(sizes=nationality_counts.values, label=nationality_counts.index, alpha=0.8, color=colors, ec='black')\n",
        "plt.title('Posts by Nationality')\n",
        "plt.axis('off')\n",
        "plt.show()\n"
      ],
      "metadata": {
        "colab": {
          "base_uri": "https://localhost:8080/",
          "height": 760
        },
        "id": "0-4nRupt4B3D",
        "outputId": "aee2597a-83c2-4edb-d195-ad4562f941bb"
      },
      "execution_count": null,
      "outputs": [
        {
          "output_type": "display_data",
          "data": {
            "text/plain": [
              "<Figure size 2200x1000 with 1 Axes>"
            ],
            "image/png": "[encoded data removed]"
          },
          "metadata": {}
        }
      ]
    },
    {
      "cell_type": "code",
      "execution_count": null,
      "metadata": {
        "id": "PJ0sFC4L0uu1"
      },
      "outputs": [],
      "source": [
        "# Count posts by nationality\n",
        "nationality_counts = cleaned_nationality_df['nationality'].value_counts()\n",
        "\n",
        "# Plotting\n",
        "plt.subplot(1, 2, 2)\n",
        "sns.barplot(x=nationality_counts.index, y=nationality_counts.values)\n",
        "plt.title('Posts by Nationality')\n",
        "plt.xticks(rotation=60)\n",
        "plt.show()\n"
      ]
    },
    {
      "cell_type": "code",
      "execution_count": null,
      "metadata": {
        "id": "BOWmAFox3Ba8"
      },
      "outputs": [],
      "source": [
        "# Define the number of top nationalities to display\n",
        "top_n = 10\n",
        "\n",
        "# Calculate post counts for each nationality\n",
        "nationality_counts = cleaned_nationality_df['nationality'].value_counts()\n",
        "\n",
        "# Filter for top N nationalities\n",
        "top_nationalities = nationality_counts.head(top_n)\n",
        "\n",
        "# Plotting\n",
        "plt.figure(figsize=(10, 6))\n",
        "sns.barplot(x=top_nationalities.values, y=top_nationalities.index)\n",
        "plt.title(f'Top {top_n} Nationalities in Posts')\n",
        "plt.xlabel('Number of Posts')\n",
        "plt.ylabel('Nationality')\n",
        "plt.show()\n"
      ]
    },
    {
      "cell_type": "code",
      "source": [
        "cleaned_nationality.groupby('nationality').count()"
      ],
      "metadata": {
        "id": "FXCufZ3LnTKX"
      },
      "execution_count": null,
      "outputs": []
    },
    {
      "cell_type": "code",
      "source": [
        "#also remove the dutch and german stopwords\n",
        "def remove_additional_stopwords(cleaned_text):\n",
        "    words = cleaned_text.split()\n",
        "    words_filtered = [word for word in words if word not in combined_stopwords]\n",
        "    return ' '.join(words_filtered)\n",
        "\n",
        "cleaned_nationality['cleaned_post'] = cleaned_nationality['cleaned_post'].apply(remove_additional_stopwords)\n"
      ],
      "metadata": {
        "id": "gntWulwrsXPM"
      },
      "execution_count": null,
      "outputs": []
    },
    {
      "cell_type": "code",
      "source": [
        "# Filter for top 4 nationalities\n",
        "nationalities = ['United Kingdom', 'USA', 'Germany', 'The Netherlands']\n",
        "\n",
        "cleaned_nationality_filtered = cleaned_nationality[cleaned_nationality['nationality'].isin(nationalities)]\n",
        "cleaned_nationality_filtered.groupby('nationality').count()"
      ],
      "metadata": {
        "colab": {
          "base_uri": "https://localhost:8080/",
          "height": 221
        },
        "id": "FCcet_fZnQBv",
        "outputId": "f5179577-c1ca-4e19-f8f0-e35d3f3c188e"
      },
      "execution_count": null,
      "outputs": [
        {
          "output_type": "execute_result",
          "data": {
            "text/plain": [
              "                 Unnamed: 0.1  Unnamed: 0  author_ID   post  cleaned_post  \\\n",
              "nationality                                                                 \n",
              "Germany                 21187       21187      21187  21187         21187   \n",
              "The Netherlands         10899       10899      10899  10899         10899   \n",
              "USA                     20376       20376      20376  20376         20376   \n",
              "United Kingdom          18251       18251      18251  18251         18251   \n",
              "\n",
              "                 is_repeating  \n",
              "nationality                    \n",
              "Germany                 21187  \n",
              "The Netherlands         10899  \n",
              "USA                     20376  \n",
              "United Kingdom          18251  "
            ],
            "text/html": [
              "\n",
              "  <div id=\"df-668b7547-c350-4ac6-801e-862bf49e52a6\" class=\"colab-df-container\">\n",
              "    <div>\n",
              "<style scoped>\n",
              "    .dataframe tbody tr th:only-of-type {\n",
              "        vertical-align: middle;\n",
              "    }\n",
              "\n",
              "    .dataframe tbody tr th {\n",
              "        vertical-align: top;\n",
              "    }\n",
              "\n",
              "    .dataframe thead th {\n",
              "        text-align: right;\n",
              "    }\n",
              "</style>\n",
              "<table border=\"1\" class=\"dataframe\">\n",
              "  <thead>\n",
              "    <tr style=\"text-align: right;\">\n",
              "      <th></th>\n",
              "      <th>Unnamed: 0.1</th>\n",
              "      <th>Unnamed: 0</th>\n",
              "      <th>author_ID</th>\n",
              "      <th>post</th>\n",
              "      <th>cleaned_post</th>\n",
              "      <th>is_repeating</th>\n",
              "    </tr>\n",
              "    <tr>\n",
              "      <th>nationality</th>\n",
              "      <th></th>\n",
              "      <th></th>\n",
              "      <th></th>\n",
              "      <th></th>\n",
              "      <th></th>\n",
              "      <th></th>\n",
              "    </tr>\n",
              "  </thead>\n",
              "  <tbody>\n",
              "    <tr>\n",
              "      <th>Germany</th>\n",
              "      <td>21187</td>\n",
              "      <td>21187</td>\n",
              "      <td>21187</td>\n",
              "      <td>21187</td>\n",
              "      <td>21187</td>\n",
              "      <td>21187</td>\n",
              "    </tr>\n",
              "    <tr>\n",
              "      <th>The Netherlands</th>\n",
              "      <td>10899</td>\n",
              "      <td>10899</td>\n",
              "      <td>10899</td>\n",
              "      <td>10899</td>\n",
              "      <td>10899</td>\n",
              "      <td>10899</td>\n",
              "    </tr>\n",
              "    <tr>\n",
              "      <th>USA</th>\n",
              "      <td>20376</td>\n",
              "      <td>20376</td>\n",
              "      <td>20376</td>\n",
              "      <td>20376</td>\n",
              "      <td>20376</td>\n",
              "      <td>20376</td>\n",
              "    </tr>\n",
              "    <tr>\n",
              "      <th>United Kingdom</th>\n",
              "      <td>18251</td>\n",
              "      <td>18251</td>\n",
              "      <td>18251</td>\n",
              "      <td>18251</td>\n",
              "      <td>18251</td>\n",
              "      <td>18251</td>\n",
              "    </tr>\n",
              "  </tbody>\n",
              "</table>\n",
              "</div>\n",
              "    <div class=\"colab-df-buttons\">\n",
              "\n",
              "  <div class=\"colab-df-container\">\n",
              "    <button class=\"colab-df-convert\" onclick=\"convertToInteractive('df-668b7547-c350-4ac6-801e-862bf49e52a6')\"\n",
              "            title=\"Convert this dataframe to an interactive table.\"\n",
              "            style=\"display:none;\">\n",
              "\n",
              "  <svg xmlns=\"http://www.w3.org/2000/svg\" height=\"24px\" viewBox=\"0 -960 960 960\">\n",
              "    <path d=\"M120-120v-720h720v720H120Zm60-500h600v-160H180v160Zm220 220h160v-160H400v160Zm0 220h160v-160H400v160ZM180-400h160v-160H180v160Zm440 0h160v-160H620v160ZM180-180h160v-160H180v160Zm440 0h160v-160H620v160Z\"/>\n",
              "  </svg>\n",
              "    </button>\n",
              "\n",
              "  <style>\n",
              "    .colab-df-container {\n",
              "      display:flex;\n",
              "      gap: 12px;\n",
              "    }\n",
              "\n",
              "    .colab-df-convert {\n",
              "      background-color: #E8F0FE;\n",
              "      border: none;\n",
              "      border-radius: 50%;\n",
              "      cursor: pointer;\n",
              "      display: none;\n",
              "      fill: #1967D2;\n",
              "      height: 32px;\n",
              "      padding: 0 0 0 0;\n",
              "      width: 32px;\n",
              "    }\n",
              "\n",
              "    .colab-df-convert:hover {\n",
              "      background-color: #E2EBFA;\n",
              "      box-shadow: 0px 1px 2px rgba(60, 64, 67, 0.3), 0px 1px 3px 1px rgba(60, 64, 67, 0.15);\n",
              "      fill: #174EA6;\n",
              "    }\n",
              "\n",
              "    .colab-df-buttons div {\n",
              "      margin-bottom: 4px;\n",
              "    }\n",
              "\n",
              "    [theme=dark] .colab-df-convert {\n",
              "      background-color: #3B4455;\n",
              "      fill: #D2E3FC;\n",
              "    }\n",
              "\n",
              "    [theme=dark] .colab-df-convert:hover {\n",
              "      background-color: #434B5C;\n",
              "      box-shadow: 0px 1px 3px 1px rgba(0, 0, 0, 0.15);\n",
              "      filter: drop-shadow(0px 1px 2px rgba(0, 0, 0, 0.3));\n",
              "      fill: #FFFFFF;\n",
              "    }\n",
              "  </style>\n",
              "\n",
              "    <script>\n",
              "      const buttonEl =\n",
              "        document.querySelector('#df-668b7547-c350-4ac6-801e-862bf49e52a6 button.colab-df-convert');\n",
              "      buttonEl.style.display =\n",
              "        google.colab.kernel.accessAllowed ? 'block' : 'none';\n",
              "\n",
              "      async function convertToInteractive(key) {\n",
              "        const element = document.querySelector('#df-668b7547-c350-4ac6-801e-862bf49e52a6');\n",
              "        const dataTable =\n",
              "          await google.colab.kernel.invokeFunction('convertToInteractive',\n",
              "                                                    [key], {});\n",
              "        if (!dataTable) return;\n",
              "\n",
              "        const docLinkHtml = 'Like what you see? Visit the ' +\n",
              "          '<a target=\"_blank\" href=https://colab.research.google.com/notebooks/data_table.ipynb>data table notebook</a>'\n",
              "          + ' to learn more about interactive tables.';\n",
              "        element.innerHTML = '';\n",
              "        dataTable['output_type'] = 'display_data';\n",
              "        await google.colab.output.renderOutput(dataTable, element);\n",
              "        const docLink = document.createElement('div');\n",
              "        docLink.innerHTML = docLinkHtml;\n",
              "        element.appendChild(docLink);\n",
              "      }\n",
              "    </script>\n",
              "  </div>\n",
              "\n",
              "\n",
              "<div id=\"df-c9519aa5-339a-45df-a788-9da7721afd38\">\n",
              "  <button class=\"colab-df-quickchart\" onclick=\"quickchart('df-c9519aa5-339a-45df-a788-9da7721afd38')\"\n",
              "            title=\"Suggest charts\"\n",
              "            style=\"display:none;\">\n",
              "\n",
              "<svg xmlns=\"http://www.w3.org/2000/svg\" height=\"24px\"viewBox=\"0 0 24 24\"\n",
              "     width=\"24px\">\n",
              "    <g>\n",
              "        <path d=\"M19 3H5c-1.1 0-2 .9-2 2v14c0 1.1.9 2 2 2h14c1.1 0 2-.9 2-2V5c0-1.1-.9-2-2-2zM9 17H7v-7h2v7zm4 0h-2V7h2v10zm4 0h-2v-4h2v4z\"/>\n",
              "    </g>\n",
              "</svg>\n",
              "  </button>\n",
              "\n",
              "<style>\n",
              "  .colab-df-quickchart {\n",
              "      --bg-color: #E8F0FE;\n",
              "      --fill-color: #1967D2;\n",
              "      --hover-bg-color: #E2EBFA;\n",
              "      --hover-fill-color: #174EA6;\n",
              "      --disabled-fill-color: #AAA;\n",
              "      --disabled-bg-color: #DDD;\n",
              "  }\n",
              "\n",
              "  [theme=dark] .colab-df-quickchart {\n",
              "      --bg-color: #3B4455;\n",
              "      --fill-color: #D2E3FC;\n",
              "      --hover-bg-color: #434B5C;\n",
              "      --hover-fill-color: #FFFFFF;\n",
              "      --disabled-bg-color: #3B4455;\n",
              "      --disabled-fill-color: #666;\n",
              "  }\n",
              "\n",
              "  .colab-df-quickchart {\n",
              "    background-color: var(--bg-color);\n",
              "    border: none;\n",
              "    border-radius: 50%;\n",
              "    cursor: pointer;\n",
              "    display: none;\n",
              "    fill: var(--fill-color);\n",
              "    height: 32px;\n",
              "    padding: 0;\n",
              "    width: 32px;\n",
              "  }\n",
              "\n",
              "  .colab-df-quickchart:hover {\n",
              "    background-color: var(--hover-bg-color);\n",
              "    box-shadow: 0 1px 2px rgba(60, 64, 67, 0.3), 0 1px 3px 1px rgba(60, 64, 67, 0.15);\n",
              "    fill: var(--button-hover-fill-color);\n",
              "  }\n",
              "\n",
              "  .colab-df-quickchart-complete:disabled,\n",
              "  .colab-df-quickchart-complete:disabled:hover {\n",
              "    background-color: var(--disabled-bg-color);\n",
              "    fill: var(--disabled-fill-color);\n",
              "    box-shadow: none;\n",
              "  }\n",
              "\n",
              "  .colab-df-spinner {\n",
              "    border: 2px solid var(--fill-color);\n",
              "    border-color: transparent;\n",
              "    border-bottom-color: var(--fill-color);\n",
              "    animation:\n",
              "      spin 1s steps(1) infinite;\n",
              "  }\n",
              "\n",
              "  @keyframes spin {\n",
              "    0% {\n",
              "      border-color: transparent;\n",
              "      border-bottom-color: var(--fill-color);\n",
              "      border-left-color: var(--fill-color);\n",
              "    }\n",
              "    20% {\n",
              "      border-color: transparent;\n",
              "      border-left-color: var(--fill-color);\n",
              "      border-top-color: var(--fill-color);\n",
              "    }\n",
              "    30% {\n",
              "      border-color: transparent;\n",
              "      border-left-color: var(--fill-color);\n",
              "      border-top-color: var(--fill-color);\n",
              "      border-right-color: var(--fill-color);\n",
              "    }\n",
              "    40% {\n",
              "      border-color: transparent;\n",
              "      border-right-color: var(--fill-color);\n",
              "      border-top-color: var(--fill-color);\n",
              "    }\n",
              "    60% {\n",
              "      border-color: transparent;\n",
              "      border-right-color: var(--fill-color);\n",
              "    }\n",
              "    80% {\n",
              "      border-color: transparent;\n",
              "      border-right-color: var(--fill-color);\n",
              "      border-bottom-color: var(--fill-color);\n",
              "    }\n",
              "    90% {\n",
              "      border-color: transparent;\n",
              "      border-bottom-color: var(--fill-color);\n",
              "    }\n",
              "  }\n",
              "</style>\n",
              "\n",
              "  <script>\n",
              "    async function quickchart(key) {\n",
              "      const quickchartButtonEl =\n",
              "        document.querySelector('#' + key + ' button');\n",
              "      quickchartButtonEl.disabled = true;  // To prevent multiple clicks.\n",
              "      quickchartButtonEl.classList.add('colab-df-spinner');\n",
              "      try {\n",
              "        const charts = await google.colab.kernel.invokeFunction(\n",
              "            'suggestCharts', [key], {});\n",
              "      } catch (error) {\n",
              "        console.error('Error during call to suggestCharts:', error);\n",
              "      }\n",
              "      quickchartButtonEl.classList.remove('colab-df-spinner');\n",
              "      quickchartButtonEl.classList.add('colab-df-quickchart-complete');\n",
              "    }\n",
              "    (() => {\n",
              "      let quickchartButtonEl =\n",
              "        document.querySelector('#df-c9519aa5-339a-45df-a788-9da7721afd38 button');\n",
              "      quickchartButtonEl.style.display =\n",
              "        google.colab.kernel.accessAllowed ? 'block' : 'none';\n",
              "    })();\n",
              "  </script>\n",
              "</div>\n",
              "    </div>\n",
              "  </div>\n"
            ]
          },
          "metadata": {},
          "execution_count": 11
        }
      ]
    },
    {
      "cell_type": "code",
      "source": [
        "cleaned_nationality_filtered.to_csv('/content/drive/MyDrive/Colab Notebooks/cleaned_nationality_filtered.csv')"
      ],
      "metadata": {
        "id": "nIgJOXA8ObpC"
      },
      "execution_count": null,
      "outputs": []
    },
    {
      "cell_type": "markdown",
      "metadata": {
        "id": "Bckfn2BI0s33"
      },
      "source": [
        "Logistic Regression model voor nationality"
      ]
    },
    {
      "cell_type": "code",
      "execution_count": null,
      "metadata": {
        "id": "hdPJ37ER7WrI"
      },
      "outputs": [],
      "source": [
        "# Feature extraction using TF-IDF, and also remove english stopwords\n",
        "tfidf_vectorizer = TfidfVectorizer(max_features=10000, stop_words='english', ngram_range=(1,2))"
      ]
    },
    {
      "cell_type": "code",
      "execution_count": null,
      "metadata": {
        "id": "GT2HAupp7YV7"
      },
      "outputs": [],
      "source": [
        "# Apply TF-IDF to the cleaned posts\n",
        "X = tfidf_vectorizer.fit_transform(cleaned_nationality_filtered['cleaned_post'])\n",
        "y = cleaned_nationality_filtered['nationality']"
      ]
    },
    {
      "cell_type": "code",
      "source": [
        "print(X.shape)"
      ],
      "metadata": {
        "colab": {
          "base_uri": "https://localhost:8080/"
        },
        "id": "tH9QoEPMPSTU",
        "outputId": "d77a3b97-0edc-4e37-9a88-da4e3ccc2e41"
      },
      "execution_count": null,
      "outputs": [
        {
          "output_type": "stream",
          "name": "stdout",
          "text": [
            "(70713, 5000)\n"
          ]
        }
      ]
    },
    {
      "cell_type": "code",
      "source": [
        "label_encoder = LabelEncoder()\n",
        "y_encoded = label_encoder.fit_transform(y)"
      ],
      "metadata": {
        "id": "mSQHBC1EypeW"
      },
      "execution_count": null,
      "outputs": []
    },
    {
      "cell_type": "code",
      "execution_count": null,
      "metadata": {
        "id": "WK-G-lc-7c2g"
      },
      "outputs": [],
      "source": [
        "#split data\n",
        "X_train_nationality, X_test_nationality, y_train_nationality, y_test_nationality  = train_test_split(X, y_encoded, test_size=0.2, stratify=y_encoded, random_state=42)\n"
      ]
    },
    {
      "cell_type": "code",
      "execution_count": null,
      "metadata": {
        "colab": {
          "base_uri": "https://localhost:8080/",
          "height": 93
        },
        "id": "GK_EO0_K7dip",
        "outputId": "8d200d54-7a1f-45be-adcf-18664769bd38"
      },
      "outputs": [
        {
          "output_type": "execute_result",
          "data": {
            "text/plain": [
              "LogisticRegression(max_iter=1000, multi_class='multinomial')"
            ],
            "text/html": [
              "<style>#sk-container-id-1 {color: black;background-color: white;}#sk-container-id-1 pre{padding: 0;}#sk-container-id-1 div.sk-toggleable {background-color: white;}#sk-container-id-1 label.sk-toggleable__label {cursor: pointer;display: block;width: 100%;margin-bottom: 0;padding: 0.3em;box-sizing: border-box;text-align: center;}#sk-container-id-1 label.sk-toggleable__label-arrow:before {content: \"▸\";float: left;margin-right: 0.25em;color: #696969;}#sk-container-id-1 label.sk-toggleable__label-arrow:hover:before {color: black;}#sk-container-id-1 div.sk-estimator:hover label.sk-toggleable__label-arrow:before {color: black;}#sk-container-id-1 div.sk-toggleable__content {max-height: 0;max-width: 0;overflow: hidden;text-align: left;background-color: #f0f8ff;}#sk-container-id-1 div.sk-toggleable__content pre {margin: 0.2em;color: black;border-radius: 0.25em;background-color: #f0f8ff;}#sk-container-id-1 input.sk-toggleable__control:checked~div.sk-toggleable__content {max-height: 200px;max-width: 100%;overflow: auto;}#sk-container-id-1 input.sk-toggleable__control:checked~label.sk-toggleable__label-arrow:before {content: \"▾\";}#sk-container-id-1 div.sk-estimator input.sk-toggleable__control:checked~label.sk-toggleable__label {background-color: #d4ebff;}#sk-container-id-1 div.sk-label input.sk-toggleable__control:checked~label.sk-toggleable__label {background-color: #d4ebff;}#sk-container-id-1 input.sk-hidden--visually {border: 0;clip: rect(1px 1px 1px 1px);clip: rect(1px, 1px, 1px, 1px);height: 1px;margin: -1px;overflow: hidden;padding: 0;position: absolute;width: 1px;}#sk-container-id-1 div.sk-estimator {font-family: monospace;background-color: #f0f8ff;border: 1px dotted black;border-radius: 0.25em;box-sizing: border-box;margin-bottom: 0.5em;}#sk-container-id-1 div.sk-estimator:hover {background-color: #d4ebff;}#sk-container-id-1 div.sk-parallel-item::after {content: \"\";width: 100%;border-bottom: 1px solid gray;flex-grow: 1;}#sk-container-id-1 div.sk-label:hover label.sk-toggleable__label {background-color: #d4ebff;}#sk-container-id-1 div.sk-serial::before {content: \"\";position: absolute;border-left: 1px solid gray;box-sizing: border-box;top: 0;bottom: 0;left: 50%;z-index: 0;}#sk-container-id-1 div.sk-serial {display: flex;flex-direction: column;align-items: center;background-color: white;padding-right: 0.2em;padding-left: 0.2em;position: relative;}#sk-container-id-1 div.sk-item {position: relative;z-index: 1;}#sk-container-id-1 div.sk-parallel {display: flex;align-items: stretch;justify-content: center;background-color: white;position: relative;}#sk-container-id-1 div.sk-item::before, #sk-container-id-1 div.sk-parallel-item::before {content: \"\";position: absolute;border-left: 1px solid gray;box-sizing: border-box;top: 0;bottom: 0;left: 50%;z-index: -1;}#sk-container-id-1 div.sk-parallel-item {display: flex;flex-direction: column;z-index: 1;position: relative;background-color: white;}#sk-container-id-1 div.sk-parallel-item:first-child::after {align-self: flex-end;width: 50%;}#sk-container-id-1 div.sk-parallel-item:last-child::after {align-self: flex-start;width: 50%;}#sk-container-id-1 div.sk-parallel-item:only-child::after {width: 0;}#sk-container-id-1 div.sk-dashed-wrapped {border: 1px dashed gray;margin: 0 0.4em 0.5em 0.4em;box-sizing: border-box;padding-bottom: 0.4em;background-color: white;}#sk-container-id-1 div.sk-label label {font-family: monospace;font-weight: bold;display: inline-block;line-height: 1.2em;}#sk-container-id-1 div.sk-label-container {text-align: center;}#sk-container-id-1 div.sk-container {/* jupyter's `normalize.less` sets `[hidden] { display: none; }` but bootstrap.min.css set `[hidden] { display: none !important; }` so we also need the `!important` here to be able to override the default hidden behavior on the sphinx rendered scikit-learn.org. See: https://github.com/scikit-learn/scikit-learn/issues/21755 */display: inline-block !important;position: relative;}#sk-container-id-1 div.sk-text-repr-fallback {display: none;}</style><div id=\"sk-container-id-1\" class=\"sk-top-container\"><div class=\"sk-text-repr-fallback\"><pre>LogisticRegression(max_iter=1000, multi_class=&#x27;multinomial&#x27;)</pre><b>In a Jupyter environment, please rerun this cell to show the HTML representation or trust the notebook. <br />On GitHub, the HTML representation is unable to render, please try loading this page with nbviewer.org.</b></div><div class=\"sk-container\" hidden><div class=\"sk-item\"><div class=\"sk-estimator sk-toggleable\"><input class=\"sk-toggleable__control sk-hidden--visually\" id=\"sk-estimator-id-1\" type=\"checkbox\" checked><label for=\"sk-estimator-id-1\" class=\"sk-toggleable__label sk-toggleable__label-arrow\">LogisticRegression</label><div class=\"sk-toggleable__content\"><pre>LogisticRegression(max_iter=1000, multi_class=&#x27;multinomial&#x27;)</pre></div></div></div></div></div>"
            ]
          },
          "metadata": {},
          "execution_count": 9
        }
      ],
      "source": [
        "# Initialize and train the logistic regression model\n",
        "lr_model = LogisticRegression(multi_class='multinomial', max_iter=1000)\n",
        "lr_model.fit(X_train_nationality, y_train_nationality)"
      ]
    },
    {
      "cell_type": "code",
      "execution_count": null,
      "metadata": {
        "id": "MMxjq_F97gtz"
      },
      "outputs": [],
      "source": [
        "# Predictions\n",
        "y_pred_nationality = lr_model.predict(X_test_nationality)\n"
      ]
    },
    {
      "cell_type": "code",
      "execution_count": null,
      "metadata": {
        "colab": {
          "base_uri": "https://localhost:8080/"
        },
        "id": "ZFSt6esq7hel",
        "outputId": "ad468187-5e60-4e2e-9f2d-026a5f493269"
      },
      "outputs": [
        {
          "output_type": "stream",
          "name": "stdout",
          "text": [
            "Accuracy: 0.9275966909425157\n",
            "                 precision    recall  f1-score   support\n",
            "\n",
            "        Germany     0.9348    0.9174    0.9260      4238\n",
            "The Netherlands     0.9474    0.8592    0.9011      2180\n",
            "            USA     0.9006    0.9610    0.9298      4075\n",
            " United Kingdom     0.9407    0.9430    0.9419      3650\n",
            "\n",
            "       accuracy                         0.9276     14143\n",
            "      macro avg     0.9309    0.9201    0.9247     14143\n",
            "   weighted avg     0.9284    0.9276    0.9274     14143\n",
            "\n"
          ]
        }
      ],
      "source": [
        "# Evaluation\n",
        "print(f'Accuracy: {accuracy_score(y_test_nationality, y_pred_nationality)}')\n",
        "print(classification_report(y_test_nationality, y_pred_nationality, target_names=label_encoder.classes_, digits=4))"
      ]
    },
    {
      "cell_type": "code",
      "source": [
        "y_pred_prob_nationality = lr_model.predict_proba(X_test_nationality)"
      ],
      "metadata": {
        "id": "Mj0bmeA85I8W"
      },
      "execution_count": null,
      "outputs": []
    },
    {
      "cell_type": "code",
      "execution_count": null,
      "metadata": {
        "colab": {
          "base_uri": "https://localhost:8080/",
          "height": 470
        },
        "id": "Q72jrSxxLcy1",
        "outputId": "afcc6076-690e-4dbc-9601-2626c530bf4f"
      },
      "outputs": [
        {
          "output_type": "display_data",
          "data": {
            "text/plain": [
              "<Figure size 640x480 with 2 Axes>"
            ],
            "image/png": "[encoded data removed]"
          },
          "metadata": {}
        }
      ],
      "source": [
        "cm = confusion_matrix(y_test_nationality, y_pred_nationality)\n",
        "sns.heatmap(cm, annot=True, fmt='d')\n",
        "plt.xlabel('Predicted')\n",
        "plt.ylabel('True')\n",
        "plt.show()"
      ]
    },
    {
      "cell_type": "code",
      "execution_count": null,
      "metadata": {
        "id": "KwvCV1QoLxIc",
        "colab": {
          "base_uri": "https://localhost:8080/"
        },
        "outputId": "47c655ea-7f1f-4cb9-8bed-a9c62ae4bc06"
      },
      "outputs": [
        {
          "output_type": "stream",
          "name": "stdout",
          "text": [
            "Cross-validated scores: [0.85420349 0.85399137 0.84076929 0.85518314 0.78821949]\n"
          ]
        }
      ],
      "source": [
        "from sklearn.model_selection import cross_val_score\n",
        "\n",
        "scores = cross_val_score(lr_model, X, y_encoded, cv=5, scoring='accuracy')\n",
        "print(\"Cross-validated scores:\", scores)\n"
      ]
    },
    {
      "cell_type": "code",
      "execution_count": null,
      "metadata": {
        "colab": {
          "base_uri": "https://localhost:8080/"
        },
        "id": "FB9ORZLc7lYR",
        "outputId": "e36cd589-6bcf-4005-f4ad-3a501c426e63"
      },
      "outputs": [
        {
          "output_type": "stream",
          "name": "stdout",
          "text": [
            "Top features for 'Germany':\n",
            "  finde: 2.0666309828659766\n",
            "  danke: 2.0899627557948257\n",
            "  capitalism: 2.1222552239079135\n",
            "  essence: 2.1249982223551798\n",
            "  hm: 2.1319151951889284\n",
            "  yes: 2.136195717882664\n",
            "  gpu: 2.150734184695939\n",
            "  deutschland: 2.1550586874393787\n",
            "  write: 2.1585082005312386\n",
            "  wall text: 2.159950699266017\n",
            "  additional: 2.160589656503913\n",
            "  money: 2.1746362757000055\n",
            "  dmg: 2.177076771516092\n",
            "  actual: 2.1780030312617087\n",
            "  leider: 2.1950673388647317\n",
            "  live germany: 2.2229285761258626\n",
            "  usa: 2.2334025098859476\n",
            "  ne: 2.274156475367633\n",
            "  problem: 2.2809019422739842\n",
            "  stupid: 2.2972339312745347\n",
            "  ps: 2.3721771998466825\n",
            "  totally: 2.390211771251151\n",
            "  bayern: 2.427067175025571\n",
            "  absolutely: 2.429258902347118\n",
            "  sadly: 2.492604572097677\n",
            "  weiß: 2.522649861925104\n",
            "  tho: 2.53450223819072\n",
            "  nz: 2.552803790438746\n",
            "  eu: 2.577246513686091\n",
            "  cunt cunt: 2.5967060915903932\n",
            "  somebody: 2.6024788825661913\n",
            "  eigentlich: 2.663989449575232\n",
            "  course: 2.6663950893051327\n",
            "  relationship: 2.6721324861478952\n",
            "  cdu: 2.7363962332140326\n",
            "  eher: 2.820021844939003\n",
            "  kinda: 2.9140851339039964\n",
            "  harry: 3.0424242175456135\n",
            "  usually: 3.053553785938093\n",
            "  everybody: 3.0728453585587556\n",
            "  actually: 3.1314933184940377\n",
            "  leute: 3.2593519528596517\n",
            "  stuff: 3.3844663924523726\n",
            "  halt: 3.4345245387579424\n",
            "  especially: 3.6167077507052436\n",
            "  basically: 4.243046410438352\n",
            "  einfach: 5.304368998734312\n",
            "  berlin: 7.695183138475427\n",
            "  german: 10.382357410898711\n",
            "  germany: 11.545008304800064\n",
            "\n",
            "\n",
            "Top features for 'The Netherlands':\n",
            "  plant: 1.8981756225091022\n",
            "  beter: 1.9111162582604948\n",
            "  denk: 1.9161697181090078\n",
            "  example: 1.9338262568882612\n",
            "  extra: 1.9348012770358949\n",
            "  zit: 1.9430008410748771\n",
            "  zoal: 1.9557171624409533\n",
            "  km: 2.0155706805148075\n",
            "  explain: 2.0329176303752545\n",
            "  keer: 2.0419330685193744\n",
            "  budget: 2.084034517875996\n",
            "  bike: 2.084511193056022\n",
            "  psv: 2.0913472423697157\n",
            "  luckily: 2.1274845586142748\n",
            "  zien: 2.142179418376462\n",
            "  source: 2.1436789273504635\n",
            "  lot: 2.188408667047556\n",
            "  emission: 2.1963144461449495\n",
            "  rotterdam: 2.208435294753292\n",
            "  vind: 2.269970080924725\n",
            "  sony: 2.286098960144394\n",
            "  eachother: 2.298328602417281\n",
            "  province: 2.379052789633495\n",
            "  holland: 2.3937950806095727\n",
            "  lvl: 2.436002903709077\n",
            "  goed: 2.508485267011722\n",
            "  servant: 2.544724351925862\n",
            "  instead: 2.566002338497439\n",
            "  gaan: 2.779583985484642\n",
            "  nta: 2.8264934363167122\n",
            "  iet: 2.855919008596986\n",
            "  belgium: 2.8571365613862603\n",
            "  nederland: 2.947017106036986\n",
            "  echt: 3.027940066697276\n",
            "  source url: 3.087988403351453\n",
            "  ah: 3.1530987840889813\n",
            "  ajax: 3.306706904534204\n",
            "  mensen: 3.353537346421317\n",
            "  euro: 3.3895928365478483\n",
            "  eu: 3.426241379888343\n",
            "  anymore: 3.5149339891268534\n",
            "  jaar: 3.5293195108758297\n",
            "  gaat: 3.5340093142314637\n",
            "  chelsea: 3.5520293439478814\n",
            "  ofcourse: 4.302604546404991\n",
            "  amsterdam: 4.730875706635828\n",
            "  nl: 4.9234719446240245\n",
            "  meet: 4.92529700634434\n",
            "  dutch: 12.246962452245716\n",
            "  netherlands: 13.939976518919734\n",
            "\n",
            "\n",
            "Top features for 'USA':\n",
            "  think: 2.0494267606877203\n",
            "  dumbass: 2.0556995909241063\n",
            "  dollar: 2.060591582805241\n",
            "  continue: 2.065678836081985\n",
            "  ppl: 2.0727156246448897\n",
            "  denver: 2.074465962973315\n",
            "  houston: 2.078666465869955\n",
            "  remove rule: 2.087186849581517\n",
            "  awhile: 2.0884609004889927\n",
            "  american: 2.098442776551676\n",
            "  theater: 2.1117203279445342\n",
            "  humor: 2.1836447482239065\n",
            "  yard: 2.2274883833538883\n",
            "  dc: 2.2456239683003862\n",
            "  say: 2.28966319685184\n",
            "  florida: 2.293206992865268\n",
            "  america: 2.295400868230791\n",
            "  recognize: 2.3377961677682833\n",
            "  baseball: 2.3440507457506743\n",
            "  neighbor: 2.3613059979633197\n",
            "  starlink: 2.362562931948408\n",
            "  high school: 2.383763990117523\n",
            "  congress: 2.4103140431135577\n",
            "  guitar: 2.4248332101686025\n",
            "  gacha: 2.457287471265245\n",
            "  center: 2.4739408165281307\n",
            "  neighborhood: 2.484680945514661\n",
            "  armenian: 2.563457524204252\n",
            "  colorado: 2.611033754591368\n",
            "  chicago: 2.6363391328428265\n",
            "  behavior: 2.6450025629711944\n",
            "  ya: 2.725672442420278\n",
            "  california: 2.9158291892440378\n",
            "  color: 2.9426056945739996\n",
            "  flavor: 2.947379842766303\n",
            "  organization: 2.9740740294530195\n",
            "  ass: 2.984950458758691\n",
            "  county: 3.0655087144326396\n",
            "  defense: 3.0726366899778514\n",
            "  favor: 3.09799101433749\n",
            "  anyways: 3.216353716817789\n",
            "  state: 3.360680568588643\n",
            "  luz: 3.3792734844408834\n",
            "  nyc: 3.550497729554763\n",
            "  lol: 3.552858091870875\n",
            "  texas: 3.658083448994485\n",
            "  college: 4.265421086016656\n",
            "  favorite: 4.4000691660354185\n",
            "  labor: 4.678853419848153\n",
            "  realize: 6.581935355015266\n",
            "\n",
            "\n",
            "Top features for 'United Kingdom':\n",
            "  reckon: 2.342910917060059\n",
            "  favour: 2.343344778589358\n",
            "  particularly: 2.356671652178166\n",
            "  wale: 2.358527368916776\n",
            "  uni: 2.372661808403021\n",
            "  flavour: 2.393003074252478\n",
            "  despite: 2.450361436090974\n",
            "  lad: 2.475164884824063\n",
            "  presumably: 2.4833969807205585\n",
            "  round: 2.4869178621416754\n",
            "  fair: 2.497827185550581\n",
            "  goku: 2.510261643628828\n",
            "  testosterone: 2.5385150261441054\n",
            "  neighbour: 2.5703526659767157\n",
            "  arse: 2.6165541615838754\n",
            "  think: 2.749584789994456\n",
            "  suggest: 2.761422166956493\n",
            "  organisation: 2.8179253247422156\n",
            "  tbh: 2.8603355049982753\n",
            "  cos: 2.8969546265773216\n",
            "  pub: 2.9521253407468078\n",
            "  sort: 3.051107988577714\n",
            "  genuinely: 3.126670130280489\n",
            "  boris: 3.141602964105799\n",
            "  britain: 3.144144219236342\n",
            "  armour: 3.1458055493396335\n",
            "  load: 3.1911220616528015\n",
            "  scottish: 3.2709315141170103\n",
            "  film: 3.2874054115129865\n",
            "  bbc: 3.3147364716110514\n",
            "  surely: 3.3611312098111936\n",
            "  colour: 3.4814423002412416\n",
            "  mate: 3.5205066492195876\n",
            "  shite: 3.521195589375886\n",
            "  criticise: 3.582205110827393\n",
            "  recognise: 3.6688704172722844\n",
            "  nhs: 3.8371577957178613\n",
            "  defence: 4.132889297588702\n",
            "  centre: 4.50210352707337\n",
            "  mum: 4.57184536286053\n",
            "  england: 4.596835672711867\n",
            "  labour: 4.728716413080369\n",
            "  scotland: 4.906216428705175\n",
            "  british: 4.937657883341996\n",
            "  whilst: 5.215719888797782\n",
            "  tory: 5.3685191667031935\n",
            "  favourite: 5.582016881164531\n",
            "  london: 6.622800573806818\n",
            "  realise: 8.419605294362324\n",
            "  uk: 9.622175723351\n",
            "\n",
            "\n"
          ]
        }
      ],
      "source": [
        "\n",
        "\n",
        "# Get feature names from the TF-IDF vectorizer\n",
        "feature_names = tfidf_vectorizer.get_feature_names_out()\n",
        "\n",
        "# Number of top features to display for each class\n",
        "top_n = 50\n",
        "\n",
        "# Get the coefficients from the logistic regression model\n",
        "coefficients = lr_model.coef_\n",
        "\n",
        "# Iterate over each class\n",
        "for i, class_label in enumerate(label_encoder.classes_):\n",
        "    class_coefficients = coefficients[i]\n",
        "\n",
        "    # Get the top feature indices for this class\n",
        "    top_feature_indices = np.argsort(class_coefficients)[-top_n:]\n",
        "\n",
        "    # Get the names and values of these features\n",
        "    top_features = [(feature_names[j], class_coefficients[j]) for j in top_feature_indices]\n",
        "\n",
        "    # Print the top features for this class\n",
        "    print(f\"Top features for '{class_label}':\")\n",
        "    for feature, value in top_features:\n",
        "        print(f\"  {feature}: {value}\")\n",
        "    print(\"\\n\")\n"
      ]
    },
    {
      "cell_type": "markdown",
      "metadata": {
        "id": "GMshUfKM_wwo"
      },
      "source": [
        "-----------------------------------\n",
        "naive bayes"
      ]
    },
    {
      "cell_type": "code",
      "execution_count": null,
      "metadata": {
        "id": "U-cHkolN_wf4"
      },
      "outputs": [],
      "source": [
        "# Initialize the Multinomial Naive Bayes classifier\n",
        "mnb_model = MultinomialNB()"
      ]
    },
    {
      "cell_type": "code",
      "execution_count": null,
      "metadata": {
        "colab": {
          "base_uri": "https://localhost:8080/",
          "height": 93
        },
        "id": "E8us9Uaa_-HQ",
        "outputId": "55789673-1ef0-4673-e097-32cb7db9d101"
      },
      "outputs": [
        {
          "output_type": "execute_result",
          "data": {
            "text/plain": [
              "MultinomialNB()"
            ],
            "text/html": [
              "<style>#sk-container-id-1 {color: black;background-color: white;}#sk-container-id-1 pre{padding: 0;}#sk-container-id-1 div.sk-toggleable {background-color: white;}#sk-container-id-1 label.sk-toggleable__label {cursor: pointer;display: block;width: 100%;margin-bottom: 0;padding: 0.3em;box-sizing: border-box;text-align: center;}#sk-container-id-1 label.sk-toggleable__label-arrow:before {content: \"▸\";float: left;margin-right: 0.25em;color: #696969;}#sk-container-id-1 label.sk-toggleable__label-arrow:hover:before {color: black;}#sk-container-id-1 div.sk-estimator:hover label.sk-toggleable__label-arrow:before {color: black;}#sk-container-id-1 div.sk-toggleable__content {max-height: 0;max-width: 0;overflow: hidden;text-align: left;background-color: #f0f8ff;}#sk-container-id-1 div.sk-toggleable__content pre {margin: 0.2em;color: black;border-radius: 0.25em;background-color: #f0f8ff;}#sk-container-id-1 input.sk-toggleable__control:checked~div.sk-toggleable__content {max-height: 200px;max-width: 100%;overflow: auto;}#sk-container-id-1 input.sk-toggleable__control:checked~label.sk-toggleable__label-arrow:before {content: \"▾\";}#sk-container-id-1 div.sk-estimator input.sk-toggleable__control:checked~label.sk-toggleable__label {background-color: #d4ebff;}#sk-container-id-1 div.sk-label input.sk-toggleable__control:checked~label.sk-toggleable__label {background-color: #d4ebff;}#sk-container-id-1 input.sk-hidden--visually {border: 0;clip: rect(1px 1px 1px 1px);clip: rect(1px, 1px, 1px, 1px);height: 1px;margin: -1px;overflow: hidden;padding: 0;position: absolute;width: 1px;}#sk-container-id-1 div.sk-estimator {font-family: monospace;background-color: #f0f8ff;border: 1px dotted black;border-radius: 0.25em;box-sizing: border-box;margin-bottom: 0.5em;}#sk-container-id-1 div.sk-estimator:hover {background-color: #d4ebff;}#sk-container-id-1 div.sk-parallel-item::after {content: \"\";width: 100%;border-bottom: 1px solid gray;flex-grow: 1;}#sk-container-id-1 div.sk-label:hover label.sk-toggleable__label {background-color: #d4ebff;}#sk-container-id-1 div.sk-serial::before {content: \"\";position: absolute;border-left: 1px solid gray;box-sizing: border-box;top: 0;bottom: 0;left: 50%;z-index: 0;}#sk-container-id-1 div.sk-serial {display: flex;flex-direction: column;align-items: center;background-color: white;padding-right: 0.2em;padding-left: 0.2em;position: relative;}#sk-container-id-1 div.sk-item {position: relative;z-index: 1;}#sk-container-id-1 div.sk-parallel {display: flex;align-items: stretch;justify-content: center;background-color: white;position: relative;}#sk-container-id-1 div.sk-item::before, #sk-container-id-1 div.sk-parallel-item::before {content: \"\";position: absolute;border-left: 1px solid gray;box-sizing: border-box;top: 0;bottom: 0;left: 50%;z-index: -1;}#sk-container-id-1 div.sk-parallel-item {display: flex;flex-direction: column;z-index: 1;position: relative;background-color: white;}#sk-container-id-1 div.sk-parallel-item:first-child::after {align-self: flex-end;width: 50%;}#sk-container-id-1 div.sk-parallel-item:last-child::after {align-self: flex-start;width: 50%;}#sk-container-id-1 div.sk-parallel-item:only-child::after {width: 0;}#sk-container-id-1 div.sk-dashed-wrapped {border: 1px dashed gray;margin: 0 0.4em 0.5em 0.4em;box-sizing: border-box;padding-bottom: 0.4em;background-color: white;}#sk-container-id-1 div.sk-label label {font-family: monospace;font-weight: bold;display: inline-block;line-height: 1.2em;}#sk-container-id-1 div.sk-label-container {text-align: center;}#sk-container-id-1 div.sk-container {/* jupyter's `normalize.less` sets `[hidden] { display: none; }` but bootstrap.min.css set `[hidden] { display: none !important; }` so we also need the `!important` here to be able to override the default hidden behavior on the sphinx rendered scikit-learn.org. See: https://github.com/scikit-learn/scikit-learn/issues/21755 */display: inline-block !important;position: relative;}#sk-container-id-1 div.sk-text-repr-fallback {display: none;}</style><div id=\"sk-container-id-1\" class=\"sk-top-container\"><div class=\"sk-text-repr-fallback\"><pre>MultinomialNB()</pre><b>In a Jupyter environment, please rerun this cell to show the HTML representation or trust the notebook. <br />On GitHub, the HTML representation is unable to render, please try loading this page with nbviewer.org.</b></div><div class=\"sk-container\" hidden><div class=\"sk-item\"><div class=\"sk-estimator sk-toggleable\"><input class=\"sk-toggleable__control sk-hidden--visually\" id=\"sk-estimator-id-1\" type=\"checkbox\" checked><label for=\"sk-estimator-id-1\" class=\"sk-toggleable__label sk-toggleable__label-arrow\">MultinomialNB</label><div class=\"sk-toggleable__content\"><pre>MultinomialNB()</pre></div></div></div></div></div>"
            ]
          },
          "metadata": {},
          "execution_count": 9
        }
      ],
      "source": [
        "# Train the model\n",
        "mnb_model.fit(X_train_nationality, y_train_nationality)"
      ]
    },
    {
      "cell_type": "code",
      "source": [
        "# Get feature names\n",
        "feature_names = tfidf_vectorizer.get_feature_names_out()"
      ],
      "metadata": {
        "id": "opeZRrVg-3jt"
      },
      "execution_count": null,
      "outputs": []
    },
    {
      "cell_type": "code",
      "source": [
        "# Get log probabilities\n",
        "log_prob = mnb_model.feature_log_prob_"
      ],
      "metadata": {
        "id": "vDTFsGkb-711"
      },
      "execution_count": null,
      "outputs": []
    },
    {
      "cell_type": "code",
      "source": [
        "# Exponentiate to get actual probabilities\n",
        "prob = np.exp(log_prob)"
      ],
      "metadata": {
        "id": "a6fArX30ARq7"
      },
      "execution_count": null,
      "outputs": []
    },
    {
      "cell_type": "code",
      "source": [
        "# For each class, print the top N words\n",
        "top_n = 50\n",
        "\n",
        "# Iterate over each class\n",
        "for i, class_label in enumerate(label_encoder.classes_):\n",
        "    class_log_probs = log_prob[i]\n",
        "\n",
        "    # Get the top feature indices for this class\n",
        "    top_feature_indices = np.argsort(class_log_probs)[-top_n:]\n",
        "\n",
        "    # Get the names and values of these features\n",
        "    top_features = [(feature_names[j], class_log_probs[j]) for j in top_feature_indices]\n",
        "\n",
        "    # Print the top features for this class\n",
        "    print(f\"Top features for '{class_label}':\")\n",
        "    for feature, value in reversed(top_features):\n",
        "        print(f\"  {feature}: {value.4f}\")\n",
        "    print(\"\\n\")"
      ],
      "metadata": {
        "colab": {
          "base_uri": "https://localhost:8080/"
        },
        "id": "JrRI1-jSAP3w",
        "outputId": "37280ee9-ea6c-451a-be0c-a4dd5574abb1"
      },
      "execution_count": null,
      "outputs": [
        {
          "output_type": "stream",
          "name": "stdout",
          "text": [
            "Top features for 'Germany':\n",
            "  stuff: -7.067213428565106\n",
            "  pretty: -7.063882850598575\n",
            "  big: -7.0532333087031365\n",
            "  make: -7.039972492638989\n",
            "  eher: -7.039482257571796\n",
            "  long: -7.031341682752388\n",
            "  yeah: -7.027670866195228\n",
            "  money: -7.022201174552866\n",
            "  hi: -7.010846718281452\n",
            "  new: -7.00420917697986\n",
            "  maybe: -6.991900001912996\n",
            "  day: -6.979143334653912\n",
            "  come: -6.975186871813298\n",
            "  probably: -6.958950737742067\n",
            "  point: -6.947705352856655\n",
            "  eu: -6.940483693463568\n",
            "  try: -6.890413063412563\n",
            "  yes: -6.871368424740455\n",
            "  leute: -6.864793807554807\n",
            "  play: -6.8328954370531925\n",
            "  lot: -6.820440840350615\n",
            "  ukraine: -6.819273671992167\n",
            "  say: -6.790204287082559\n",
            "  use: -6.771609938645543\n",
            "  bad: -6.771464677175553\n",
            "  problem: -6.765467306065923\n",
            "  actually: -6.763213073747795\n",
            "  russia: -6.722357385527254\n",
            "  year: -6.689113070041169\n",
            "  country: -6.665729373788128\n",
            "  right: -6.648136405339639\n",
            "  mean: -6.633964663635736\n",
            "  look: -6.627101009093249\n",
            "  way: -6.612131488783839\n",
            "  need: -6.542423283344819\n",
            "  work: -6.531946306902864\n",
            "  halt: -6.514073806571251\n",
            "  thing: -6.497505303027371\n",
            "  game: -6.4859578890615435\n",
            "  einfach: -6.4095453408770044\n",
            "  time: -6.402621186801688\n",
            "  know: -6.386363216624574\n",
            "  good: -6.3479465442108385\n",
            "  german: -6.246042449276586\n",
            "  think: -6.220305230686698\n",
            "  url: -6.136751557138796\n",
            "  germany: -6.075900580341129\n",
            "  people: -5.912970326194064\n",
            "  like: -5.706460980032213\n",
            "  gt: -5.600037156056163\n",
            "\n",
            "\n",
            "Top features for 'The Netherlands':\n",
            "  different: -6.961338162822\n",
            "  pretty: -6.95778465611106\n",
            "  long: -6.945667825005071\n",
            "  yes: -6.924020139136097\n",
            "  eu: -6.921614490667948\n",
            "  actually: -6.917803703909384\n",
            "  big: -6.916371077580043\n",
            "  probably: -6.897872090305085\n",
            "  day: -6.891355251455265\n",
            "  point: -6.891155347460203\n",
            "  sure: -6.880721559284002\n",
            "  come: -6.873678712735467\n",
            "  make: -6.869302631825441\n",
            "  feel: -6.856156750191643\n",
            "  start: -6.845453270018901\n",
            "  gaan: -6.833764117689448\n",
            "  play: -6.826807493714453\n",
            "  yeah: -6.825156737920658\n",
            "  car: -6.824340598962214\n",
            "  try: -6.81340665264158\n",
            "  bad: -6.809709775694771\n",
            "  nuclear: -6.798380277189192\n",
            "  jaar: -6.796564126818796\n",
            "  echt: -6.778788616482257\n",
            "  gaat: -6.7749527023317855\n",
            "  right: -6.689118295354796\n",
            "  say: -6.643510205916405\n",
            "  use: -6.60525113149332\n",
            "  mean: -6.589360405937841\n",
            "  country: -6.58230407274841\n",
            "  lot: -6.5611761327842615\n",
            "  way: -6.551057334578478\n",
            "  look: -6.534545456539089\n",
            "  work: -6.5183775526084\n",
            "  year: -6.481297036206081\n",
            "  thing: -6.461190386616386\n",
            "  need: -6.46069352917303\n",
            "  game: -6.454150088900496\n",
            "  mensen: -6.4272770044173795\n",
            "  netherlands: -6.414544019398012\n",
            "  url: -6.379058428847566\n",
            "  time: -6.298057821654674\n",
            "  know: -6.255393795390866\n",
            "  good: -6.252443116127977\n",
            "  dutch: -6.158757597918712\n",
            "  think: -6.062589309577026\n",
            "  meet: -5.8974545712501865\n",
            "  people: -5.842349409427205\n",
            "  gt: -5.65891553379217\n",
            "  like: -5.613542655629508\n",
            "\n",
            "\n",
            "Top features for 'USA':\n",
            "  long: -6.9199407081509845\n",
            "  tell: -6.9154586190775404\n",
            "  use: -6.909048974667436\n",
            "  life: -6.904591800005764\n",
            "  great: -6.899466020716016\n",
            "  start: -6.8918741868602575\n",
            "  happen: -6.891793252572814\n",
            "  team: -6.855588528402174\n",
            "  love: -6.84938656537548\n",
            "  probably: -6.847372152551385\n",
            "  new: -6.841980430716194\n",
            "  fuck: -6.8374498824739876\n",
            "  live: -6.821435686923871\n",
            "  make: -6.793485146896751\n",
            "  actually: -6.78801754838995\n",
            "  sure: -6.786043237252582\n",
            "  pretty: -6.769443288865592\n",
            "  russia: -6.752364959604698\n",
            "  point: -6.74293698206906\n",
            "  yeah: -6.730335720494695\n",
            "  guy: -6.720335285242916\n",
            "  country: -6.704594861276468\n",
            "  day: -6.704513333399327\n",
            "  come: -6.691476128405399\n",
            "  shit: -6.66229634829288\n",
            "  play: -6.659355706401117\n",
            "  feel: -6.6424208052158145\n",
            "  mean: -6.62162418096059\n",
            "  bad: -6.616639988613824\n",
            "  try: -6.6048171415010035\n",
            "  lot: -6.569858057375687\n",
            "  state: -6.56446856630297\n",
            "  way: -6.522610471815349\n",
            "  need: -6.4883696656386105\n",
            "  right: -6.479448837773114\n",
            "  work: -6.468371950325421\n",
            "  lol: -6.46461098631961\n",
            "  look: -6.450671362105913\n",
            "  say: -6.3802193658731\n",
            "  url: -6.369553871294982\n",
            "  game: -6.330815047561262\n",
            "  year: -6.291688102094747\n",
            "  thing: -6.2842449807748615\n",
            "  time: -6.215789425492433\n",
            "  know: -6.158179297832998\n",
            "  good: -6.134343155621011\n",
            "  gt: -6.004226519231555\n",
            "  think: -5.81799617111271\n",
            "  people: -5.66229430864304\n",
            "  like: -5.441992837872177\n",
            "\n",
            "\n",
            "Top features for 'United Kingdom':\n",
            "  player: -6.932569234078953\n",
            "  live: -6.928152962375124\n",
            "  new: -6.927823563266711\n",
            "  big: -6.921208413090785\n",
            "  world: -6.92040635768169\n",
            "  long: -6.918649371713872\n",
            "  change: -6.912381809641944\n",
            "  start: -6.903002640256102\n",
            "  tory: -6.897289710954872\n",
            "  sure: -6.8691489637514485\n",
            "  make: -6.859864090237093\n",
            "  scotland: -6.85127002591701\n",
            "  pay: -6.847365453275637\n",
            "  fuck: -6.841722451032761\n",
            "  use: -6.827778342782057\n",
            "  team: -6.826654375362923\n",
            "  yeah: -6.8141265458377465\n",
            "  bit: -6.788427445426859\n",
            "  probably: -6.783176185920178\n",
            "  actually: -6.780730435871007\n",
            "  feel: -6.779530340071645\n",
            "  british: -6.778725912846851\n",
            "  play: -6.74246346205176\n",
            "  england: -6.727752334270321\n",
            "  bad: -6.724886175803823\n",
            "  try: -6.684783427784509\n",
            "  lot: -6.661723005714492\n",
            "  day: -6.642187494542634\n",
            "  come: -6.640613446807946\n",
            "  mean: -6.627826992963323\n",
            "  point: -6.617182001744481\n",
            "  right: -6.612811440395067\n",
            "  game: -6.582762716788806\n",
            "  way: -6.565581696567986\n",
            "  country: -6.547233244349978\n",
            "  work: -6.456318224973988\n",
            "  need: -6.449407124629026\n",
            "  look: -6.445686845053656\n",
            "  say: -6.409882725975593\n",
            "  url: -6.3576519766712\n",
            "  thing: -6.319013579495844\n",
            "  know: -6.269081787046604\n",
            "  year: -6.253310012539492\n",
            "  time: -6.217923259105872\n",
            "  good: -6.138123668280731\n",
            "  uk: -6.008533764346222\n",
            "  gt: -5.847877270161817\n",
            "  think: -5.808529741079779\n",
            "  people: -5.69900234535055\n",
            "  like: -5.652385039484394\n",
            "\n",
            "\n"
          ]
        }
      ]
    },
    {
      "cell_type": "code",
      "source": [
        "y_pred_mnb = mnb_model.predict(X_test_nationality)"
      ],
      "metadata": {
        "id": "ew9fXs2m89eU"
      },
      "execution_count": null,
      "outputs": []
    },
    {
      "cell_type": "code",
      "execution_count": null,
      "metadata": {
        "colab": {
          "base_uri": "https://localhost:8080/"
        },
        "id": "_Poks5Q5_-iH",
        "outputId": "0330027b-7a8a-45c9-efa9-84cd686b0b8c"
      },
      "outputs": [
        {
          "output_type": "stream",
          "name": "stdout",
          "text": [
            "Accuracy: 0.8004666619529096\n",
            "                 precision    recall  f1-score   support\n",
            "\n",
            "        Germany     0.9881    0.6255    0.7661      4238\n",
            "The Netherlands     0.9548    0.6592    0.7799      2180\n",
            "            USA     0.6561    0.9791    0.7857      4075\n",
            " United Kingdom     0.8371    0.8885    0.8620      3650\n",
            "\n",
            "       accuracy                         0.8005     14143\n",
            "      macro avg     0.8590    0.7881    0.7984     14143\n",
            "   weighted avg     0.8484    0.8005    0.7986     14143\n",
            "\n"
          ]
        }
      ],
      "source": [
        "# Evaluation\n",
        "print(f'Accuracy: {accuracy_score(y_test_nationality, y_pred_mnb)}')\n",
        "print(classification_report(y_test_nationality, y_pred_mnb, target_names=label_encoder.classes_, digits=4))\n"
      ]
    },
    {
      "cell_type": "code",
      "source": [
        "n_classes = len(np.unique(y_train_nationality))\n",
        "\n",
        "# Binarize the output\n",
        "y_train_bin = label_binarize(y_train_nationality, classes=np.unique(y_train_nationality))\n",
        "y_test_bin = label_binarize(y_test_nationality, classes=np.unique(y_test_nationality))\n",
        "\n",
        "def compute_roc_auc(model, X_test_nationality, y_test_nationality):\n",
        "    y_score = model.predict_proba(X_test_nationality)\n",
        "    fpr = dict()\n",
        "    tpr = dict()\n",
        "    roc_auc = dict()\n",
        "    for i in range(n_classes):\n",
        "        fpr[i], tpr[i], _ = roc_curve(y_test_nationality[:, i], y_score[:, i])\n",
        "        roc_auc[i] = auc(fpr[i], tpr[i])\n",
        "    return fpr, tpr, roc_auc\n",
        "\n",
        "# Compute ROC AUC for both models\n",
        "fpr_lr, tpr_lr, roc_auc_lr = compute_roc_auc(lr_model, X_test_nationality, y_test_bin)\n",
        "fpr_mnb, tpr_mnb, roc_auc_mnb = compute_roc_auc(mnb_model, X_test_nationality, y_test_bin)\n",
        "\n",
        "# Plotting\n",
        "plt.figure(figsize=(10, 6))\n",
        "\n",
        "# Plot ROC for Logistic Regression\n",
        "for i in range(n_classes):\n",
        "    plt.plot(fpr_lr[i], tpr_lr[i], linestyle='--',\n",
        "             label=f'LR Class {i} AUC: {roc_auc_lr[i]:.2f}')\n",
        "\n",
        "# Plot ROC for MultinomialNB\n",
        "for i in range(n_classes):\n",
        "    plt.plot(fpr_mnb[i], tpr_mnb[i], linestyle=':',\n",
        "             label=f'MNB Class {i} AUC: {roc_auc_mnb[i]:.2f}')\n",
        "\n",
        "plt.plot([0, 1], [0, 1], 'k--', lw=2)\n",
        "plt.xlim([0.0, 1.0])\n",
        "plt.ylim([0.0, 1.05])\n",
        "plt.xlabel('False Positive Rate')\n",
        "plt.ylabel('True Positive Rate')\n",
        "plt.title('Multi-class ROC Comparison: Logistic Regression vs MNB')\n",
        "plt.legend(loc=\"lower right\")\n",
        "plt.show()"
      ],
      "metadata": {
        "colab": {
          "base_uri": "https://localhost:8080/",
          "height": 585
        },
        "id": "v7T--lB9REFJ",
        "outputId": "3d5b53bf-c84e-45ba-e98c-4035e8856428"
      },
      "execution_count": null,
      "outputs": [
        {
          "output_type": "display_data",
          "data": {
            "text/plain": [
              "<Figure size 1000x600 with 1 Axes>"
            ],
            "image/png": "[encoded data removed]"
          },
          "metadata": {}
        }
      ]
    },
    {
      "cell_type": "markdown",
      "source": [
        "Baseline Model"
      ],
      "metadata": {
        "id": "BPfR7mUqmL29"
      }
    },
    {
      "cell_type": "code",
      "source": [
        "#baseline model for nationality\n",
        "\n",
        "dummy_clf_nationality = DummyClassifier(strategy=\"most_frequent\")\n",
        "\n",
        "dummy_clf_nationality.fit(X_train_nationality, y_train_nationality)\n",
        "\n",
        "nationality_pred = dummy_clf_nationality.predict(X_test_nationality)\n",
        "\n",
        "accuracy_nationality = accuracy_score(y_test_nationality, nationality_pred)\n",
        "\n",
        "print(f\"Dummy Classifier (Majority Baseline) Accuracy for Nationality: {accuracy_nationality}\")\n"
      ],
      "metadata": {
        "colab": {
          "base_uri": "https://localhost:8080/"
        },
        "id": "h6LYkQE_mPDv",
        "outputId": "a39cc8e7-f86f-4a0b-f540-37f4c52b2ee6"
      },
      "execution_count": null,
      "outputs": [
        {
          "output_type": "stream",
          "name": "stdout",
          "text": [
            "Dummy Classifier (Majority Baseline) Accuracy for Nationality: 0.2996535388531429\n"
          ]
        }
      ]
    }
  ],
  "metadata": {
    "colab": {
      "machine_shape": "hm",
      "provenance": [],
      "gpuType": "T4"
    },
    "kernelspec": {
      "display_name": "Python 3",
      "name": "python3"
    },
    "language_info": {
      "name": "python"
    },
    "accelerator": "GPU"
  },
  "nbformat": 4,
  "nbformat_minor": 0
}