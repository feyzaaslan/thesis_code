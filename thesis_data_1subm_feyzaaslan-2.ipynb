{
  "cells": [
    {
      "cell_type": "code",
      "execution_count": null,
      "metadata": {
        "id": "1matYXpe1mIp"
      },
      "outputs": [],
      "source": [
        "#import modules\n",
        "\n",
        "import pandas as pd\n",
        "import numpy as np\n",
        "\n",
        "#scikit learn\n",
        "from sklearn.model_selection import train_test_split\n",
        "from sklearn.linear_model import LogisticRegression\n",
        "from sklearn.feature_extraction.text import CountVectorizer, TfidfVectorizer\n",
        "from sklearn.metrics import classification_report, accuracy_score\n",
        "from sklearn.preprocessing import LabelEncoder\n",
        "from sklearn.dummy import DummyClassifier\n",
        "from sklearn.naive_bayes import MultinomialNB\n",
        "from sklearn.metrics import confusion_matrix\n",
        "\n",
        "\n",
        "from nltk.corpus import stopwords\n",
        "import spacy\n",
        "import re\n",
        "import matplotlib.pyplot as plt\n",
        "from wordcloud import WordCloud\n",
        "from collections import Counter\n",
        "import seaborn as sns\n",
        "\n",
        "\n"
      ]
    },
    {
      "cell_type": "code",
      "execution_count": null,
      "metadata": {
        "colab": {
          "base_uri": "https://localhost:8080/"
        },
        "id": "Vt8eMqpo4nXg",
        "outputId": "d8330296-a586-4c71-c6e3-9afc97cd5d3c"
      },
      "outputs": [
        {
          "output_type": "stream",
          "name": "stdout",
          "text": [
            "Mounted at /content/drive\n",
            "/content/drive/MyDrive/Colab Notebooks\n"
          ]
        }
      ],
      "source": [
        "#connect to google drive\n",
        "from google.colab import drive\n",
        "drive.mount('/content/drive')\n",
        "%cd /content/drive/MyDrive/Colab Notebooks"
      ]
    },
    {
      "cell_type": "code",
      "execution_count": null,
      "metadata": {
        "id": "zj1HnjSS4tS3"
      },
      "outputs": [],
      "source": [
        "#set random seed\n",
        "np.random.seed(42)"
      ]
    },
    {
      "cell_type": "code",
      "execution_count": null,
      "metadata": {
        "id": "p2rjJ7pW3z7K",
        "colab": {
          "base_uri": "https://localhost:8080/",
          "height": 281
        },
        "outputId": "144568fb-7906-4988-92c6-7b7fcd37d1dc"
      },
      "outputs": [
        {
          "output_type": "error",
          "ename": "ParserError",
          "evalue": "Error tokenizing data. C error: Calling read(nbytes) on source failed. Try engine='python'.",
          "traceback": [
            "\u001b[0;31m---------------------------------------------------------------------------\u001b[0m",
            "\u001b[0;31mParserError\u001b[0m                               Traceback (most recent call last)",
            "\u001b[0;32m<ipython-input-24-049d21fb89e1>\u001b[0m in \u001b[0;36m<cell line: 2>\u001b[0;34m()\u001b[0m\n\u001b[1;32m      1\u001b[0m \u001b[0;31m#load datasets\u001b[0m\u001b[0;34m\u001b[0m\u001b[0;34m\u001b[0m\u001b[0m\n\u001b[0;32m----> 2\u001b[0;31m \u001b[0mcleaned_gender_df\u001b[0m \u001b[0;34m=\u001b[0m \u001b[0mpd\u001b[0m\u001b[0;34m.\u001b[0m\u001b[0mread_csv\u001b[0m\u001b[0;34m(\u001b[0m\u001b[0;34m'cleaned_gender_df.csv'\u001b[0m\u001b[0;34m)\u001b[0m\u001b[0;34m\u001b[0m\u001b[0;34m\u001b[0m\u001b[0m\n\u001b[0m\u001b[1;32m      3\u001b[0m \u001b[0mcleaned_nationality_df\u001b[0m \u001b[0;34m=\u001b[0m \u001b[0mpd\u001b[0m\u001b[0;34m.\u001b[0m\u001b[0mread_csv\u001b[0m\u001b[0;34m(\u001b[0m\u001b[0;34m'cleaned_nationality_df.csv'\u001b[0m\u001b[0;34m)\u001b[0m\u001b[0;34m\u001b[0m\u001b[0;34m\u001b[0m\u001b[0m\n",
            "\u001b[0;32m/usr/local/lib/python3.10/dist-packages/pandas/util/_decorators.py\u001b[0m in \u001b[0;36mwrapper\u001b[0;34m(*args, **kwargs)\u001b[0m\n\u001b[1;32m    209\u001b[0m                 \u001b[0;32melse\u001b[0m\u001b[0;34m:\u001b[0m\u001b[0;34m\u001b[0m\u001b[0;34m\u001b[0m\u001b[0m\n\u001b[1;32m    210\u001b[0m                     \u001b[0mkwargs\u001b[0m\u001b[0;34m[\u001b[0m\u001b[0mnew_arg_name\u001b[0m\u001b[0;34m]\u001b[0m \u001b[0;34m=\u001b[0m \u001b[0mnew_arg_value\u001b[0m\u001b[0;34m\u001b[0m\u001b[0;34m\u001b[0m\u001b[0m\n\u001b[0;32m--> 211\u001b[0;31m             \u001b[0;32mreturn\u001b[0m \u001b[0mfunc\u001b[0m\u001b[0;34m(\u001b[0m\u001b[0;34m*\u001b[0m\u001b[0margs\u001b[0m\u001b[0;34m,\u001b[0m \u001b[0;34m**\u001b[0m\u001b[0mkwargs\u001b[0m\u001b[0;34m)\u001b[0m\u001b[0;34m\u001b[0m\u001b[0;34m\u001b[0m\u001b[0m\n\u001b[0m\u001b[1;32m    212\u001b[0m \u001b[0;34m\u001b[0m\u001b[0m\n\u001b[1;32m    213\u001b[0m         \u001b[0;32mreturn\u001b[0m \u001b[0mcast\u001b[0m\u001b[0;34m(\u001b[0m\u001b[0mF\u001b[0m\u001b[0;34m,\u001b[0m \u001b[0mwrapper\u001b[0m\u001b[0;34m)\u001b[0m\u001b[0;34m\u001b[0m\u001b[0;34m\u001b[0m\u001b[0m\n",
            "\u001b[0;32m/usr/local/lib/python3.10/dist-packages/pandas/util/_decorators.py\u001b[0m in \u001b[0;36mwrapper\u001b[0;34m(*args, **kwargs)\u001b[0m\n\u001b[1;32m    329\u001b[0m                     \u001b[0mstacklevel\u001b[0m\u001b[0;34m=\u001b[0m\u001b[0mfind_stack_level\u001b[0m\u001b[0;34m(\u001b[0m\u001b[0;34m)\u001b[0m\u001b[0;34m,\u001b[0m\u001b[0;34m\u001b[0m\u001b[0;34m\u001b[0m\u001b[0m\n\u001b[1;32m    330\u001b[0m                 )\n\u001b[0;32m--> 331\u001b[0;31m             \u001b[0;32mreturn\u001b[0m \u001b[0mfunc\u001b[0m\u001b[0;34m(\u001b[0m\u001b[0;34m*\u001b[0m\u001b[0margs\u001b[0m\u001b[0;34m,\u001b[0m \u001b[0;34m**\u001b[0m\u001b[0mkwargs\u001b[0m\u001b[0;34m)\u001b[0m\u001b[0;34m\u001b[0m\u001b[0;34m\u001b[0m\u001b[0m\n\u001b[0m\u001b[1;32m    332\u001b[0m \u001b[0;34m\u001b[0m\u001b[0m\n\u001b[1;32m    333\u001b[0m         \u001b[0;31m# error: \"Callable[[VarArg(Any), KwArg(Any)], Any]\" has no\u001b[0m\u001b[0;34m\u001b[0m\u001b[0;34m\u001b[0m\u001b[0m\n",
            "\u001b[0;32m/usr/local/lib/python3.10/dist-packages/pandas/io/parsers/readers.py\u001b[0m in \u001b[0;36mread_csv\u001b[0;34m(filepath_or_buffer, sep, delimiter, header, names, index_col, usecols, squeeze, prefix, mangle_dupe_cols, dtype, engine, converters, true_values, false_values, skipinitialspace, skiprows, skipfooter, nrows, na_values, keep_default_na, na_filter, verbose, skip_blank_lines, parse_dates, infer_datetime_format, keep_date_col, date_parser, dayfirst, cache_dates, iterator, chunksize, compression, thousands, decimal, lineterminator, quotechar, quoting, doublequote, escapechar, comment, encoding, encoding_errors, dialect, error_bad_lines, warn_bad_lines, on_bad_lines, delim_whitespace, low_memory, memory_map, float_precision, storage_options)\u001b[0m\n\u001b[1;32m    948\u001b[0m     \u001b[0mkwds\u001b[0m\u001b[0;34m.\u001b[0m\u001b[0mupdate\u001b[0m\u001b[0;34m(\u001b[0m\u001b[0mkwds_defaults\u001b[0m\u001b[0;34m)\u001b[0m\u001b[0;34m\u001b[0m\u001b[0;34m\u001b[0m\u001b[0m\n\u001b[1;32m    949\u001b[0m \u001b[0;34m\u001b[0m\u001b[0m\n\u001b[0;32m--> 950\u001b[0;31m     \u001b[0;32mreturn\u001b[0m \u001b[0m_read\u001b[0m\u001b[0;34m(\u001b[0m\u001b[0mfilepath_or_buffer\u001b[0m\u001b[0;34m,\u001b[0m \u001b[0mkwds\u001b[0m\u001b[0;34m)\u001b[0m\u001b[0;34m\u001b[0m\u001b[0;34m\u001b[0m\u001b[0m\n\u001b[0m\u001b[1;32m    951\u001b[0m \u001b[0;34m\u001b[0m\u001b[0m\n\u001b[1;32m    952\u001b[0m \u001b[0;34m\u001b[0m\u001b[0m\n",
            "\u001b[0;32m/usr/local/lib/python3.10/dist-packages/pandas/io/parsers/readers.py\u001b[0m in \u001b[0;36m_read\u001b[0;34m(filepath_or_buffer, kwds)\u001b[0m\n\u001b[1;32m    609\u001b[0m \u001b[0;34m\u001b[0m\u001b[0m\n\u001b[1;32m    610\u001b[0m     \u001b[0;32mwith\u001b[0m \u001b[0mparser\u001b[0m\u001b[0;34m:\u001b[0m\u001b[0;34m\u001b[0m\u001b[0;34m\u001b[0m\u001b[0m\n\u001b[0;32m--> 611\u001b[0;31m         \u001b[0;32mreturn\u001b[0m \u001b[0mparser\u001b[0m\u001b[0;34m.\u001b[0m\u001b[0mread\u001b[0m\u001b[0;34m(\u001b[0m\u001b[0mnrows\u001b[0m\u001b[0;34m)\u001b[0m\u001b[0;34m\u001b[0m\u001b[0;34m\u001b[0m\u001b[0m\n\u001b[0m\u001b[1;32m    612\u001b[0m \u001b[0;34m\u001b[0m\u001b[0m\n\u001b[1;32m    613\u001b[0m \u001b[0;34m\u001b[0m\u001b[0m\n",
            "\u001b[0;32m/usr/local/lib/python3.10/dist-packages/pandas/io/parsers/readers.py\u001b[0m in \u001b[0;36mread\u001b[0;34m(self, nrows)\u001b[0m\n\u001b[1;32m   1776\u001b[0m                     \u001b[0mcolumns\u001b[0m\u001b[0;34m,\u001b[0m\u001b[0;34m\u001b[0m\u001b[0;34m\u001b[0m\u001b[0m\n\u001b[1;32m   1777\u001b[0m                     \u001b[0mcol_dict\u001b[0m\u001b[0;34m,\u001b[0m\u001b[0;34m\u001b[0m\u001b[0;34m\u001b[0m\u001b[0m\n\u001b[0;32m-> 1778\u001b[0;31m                 \u001b[0;34m)\u001b[0m \u001b[0;34m=\u001b[0m \u001b[0mself\u001b[0m\u001b[0;34m.\u001b[0m\u001b[0m_engine\u001b[0m\u001b[0;34m.\u001b[0m\u001b[0mread\u001b[0m\u001b[0;34m(\u001b[0m  \u001b[0;31m# type: ignore[attr-defined]\u001b[0m\u001b[0;34m\u001b[0m\u001b[0;34m\u001b[0m\u001b[0m\n\u001b[0m\u001b[1;32m   1779\u001b[0m                     \u001b[0mnrows\u001b[0m\u001b[0;34m\u001b[0m\u001b[0;34m\u001b[0m\u001b[0m\n\u001b[1;32m   1780\u001b[0m                 )\n",
            "\u001b[0;32m/usr/local/lib/python3.10/dist-packages/pandas/io/parsers/c_parser_wrapper.py\u001b[0m in \u001b[0;36mread\u001b[0;34m(self, nrows)\u001b[0m\n\u001b[1;32m    228\u001b[0m         \u001b[0;32mtry\u001b[0m\u001b[0;34m:\u001b[0m\u001b[0;34m\u001b[0m\u001b[0;34m\u001b[0m\u001b[0m\n\u001b[1;32m    229\u001b[0m             \u001b[0;32mif\u001b[0m \u001b[0mself\u001b[0m\u001b[0;34m.\u001b[0m\u001b[0mlow_memory\u001b[0m\u001b[0;34m:\u001b[0m\u001b[0;34m\u001b[0m\u001b[0;34m\u001b[0m\u001b[0m\n\u001b[0;32m--> 230\u001b[0;31m                 \u001b[0mchunks\u001b[0m \u001b[0;34m=\u001b[0m \u001b[0mself\u001b[0m\u001b[0;34m.\u001b[0m\u001b[0m_reader\u001b[0m\u001b[0;34m.\u001b[0m\u001b[0mread_low_memory\u001b[0m\u001b[0;34m(\u001b[0m\u001b[0mnrows\u001b[0m\u001b[0;34m)\u001b[0m\u001b[0;34m\u001b[0m\u001b[0;34m\u001b[0m\u001b[0m\n\u001b[0m\u001b[1;32m    231\u001b[0m                 \u001b[0;31m# destructive to chunks\u001b[0m\u001b[0;34m\u001b[0m\u001b[0;34m\u001b[0m\u001b[0m\n\u001b[1;32m    232\u001b[0m                 \u001b[0mdata\u001b[0m \u001b[0;34m=\u001b[0m \u001b[0m_concatenate_chunks\u001b[0m\u001b[0;34m(\u001b[0m\u001b[0mchunks\u001b[0m\u001b[0;34m)\u001b[0m\u001b[0;34m\u001b[0m\u001b[0;34m\u001b[0m\u001b[0m\n",
            "\u001b[0;32m/usr/local/lib/python3.10/dist-packages/pandas/_libs/parsers.pyx\u001b[0m in \u001b[0;36mpandas._libs.parsers.TextReader.read_low_memory\u001b[0;34m()\u001b[0m\n",
            "\u001b[0;32m/usr/local/lib/python3.10/dist-packages/pandas/_libs/parsers.pyx\u001b[0m in \u001b[0;36mpandas._libs.parsers.TextReader._read_rows\u001b[0;34m()\u001b[0m\n",
            "\u001b[0;32m/usr/local/lib/python3.10/dist-packages/pandas/_libs/parsers.pyx\u001b[0m in \u001b[0;36mpandas._libs.parsers.TextReader._tokenize_rows\u001b[0;34m()\u001b[0m\n",
            "\u001b[0;32m/usr/local/lib/python3.10/dist-packages/pandas/_libs/parsers.pyx\u001b[0m in \u001b[0;36mpandas._libs.parsers.raise_parser_error\u001b[0;34m()\u001b[0m\n",
            "\u001b[0;31mParserError\u001b[0m: Error tokenizing data. C error: Calling read(nbytes) on source failed. Try engine='python'."
          ]
        }
      ],
      "source": [
        "#load datasets\n",
        "#cleaned_gender_df = pd.read_csv('cleaned_gender_df.csv')\n",
        "#cleaned_nationality_df = pd.read_csv('cleaned_nationality_df.csv')\n"
      ]
    },
    {
      "cell_type": "code",
      "source": [
        "cleaned_gender_df[cleaned_gender_df['author_ID'].str.contains('t2_4jnzekzd', case=False, na=False)]"
      ],
      "metadata": {
        "colab": {
          "base_uri": "https://localhost:8080/",
          "height": 953
        },
        "id": "pXSJq5tVV1o_",
        "outputId": "d6566c5b-e156-4281-a547-c2ba3df56423"
      },
      "execution_count": null,
      "outputs": [
        {
          "output_type": "execute_result",
          "data": {
            "text/plain": [
              "         author_ID                                               post  female  \\\n",
              "44779  t2_4jnzekzd  What happens to bi people? Actually every line...       0   \n",
              "44780  t2_4jnzekzd  yiff yiff yiff yiff yiff yiff yiff yiff yiff y...       0   \n",
              "44781  t2_4jnzekzd  yiff yiff yiff yiff yiff yiff yiff yiff yiff y...       0   \n",
              "44782  t2_4jnzekzd  yiff yiff yiff yiff yiff yiff yiff yiff yiff y...       0   \n",
              "44783  t2_4jnzekzd  yiff yiff yiff yiff yiff yiff yiff yiff yiff y...       0   \n",
              "44784  t2_4jnzekzd  yiff yiff yiff yiff yiff yiff yiff yiff yiff y...       0   \n",
              "44785  t2_4jnzekzd  yiff yiff yiff yiff yiff yiff yiff yiff yiff y...       0   \n",
              "44786  t2_4jnzekzd  yiff yiff yiff yiff yiff yiff yiff yiff yiff y...       0   \n",
              "44787  t2_4jnzekzd  yiff yiff yiff yiff yiff yiff yiff yiff yiff y...       0   \n",
              "44788  t2_4jnzekzd  yiff yiff yiff yiff yiff yiff yiff yiff yiff y...       0   \n",
              "44789  t2_4jnzekzd  yiff yiff yiff yiff yiff yiff yiff yiff yiff y...       0   \n",
              "44790  t2_4jnzekzd  yiff yiff yiff yiff yiff yiff yiff yiff yiff y...       0   \n",
              "44791  t2_4jnzekzd  yiff yiff yiff yiff yiff yiff yiff yiff yiff y...       0   \n",
              "44792  t2_4jnzekzd  yiff yiff yiff yiff yiff yiff yiff yiff yiff y...       0   \n",
              "44793  t2_4jnzekzd  yiff yiff yiff yiff yiff yiff yiff yiff yiff y...       0   \n",
              "44794  t2_4jnzekzd  yiff yiff yiff yiff yiff yiff yiff yiff yiff y...       0   \n",
              "44795  t2_4jnzekzd  yiff yiff yiff yiff yiff yiff yiff yiff yiff y...       0   \n",
              "44796  t2_4jnzekzd  yiff yiff yiff yiff yiff yiff yiff yiff yiff y...       0   \n",
              "44797  t2_4jnzekzd  yiff yiff yiff yiff yiff yiff yiff yiff yiff y...       0   \n",
              "44798  t2_4jnzekzd  yiff yiff yiff yiff yiff yiff yiff yiff yiff y...       0   \n",
              "44799  t2_4jnzekzd  year old. They fought with a weapon that was a...       0   \n",
              "44800  t2_4jnzekzd  would work too Good r/196 has less strict rule...       0   \n",
              "44801  t2_4jnzekzd  a difference between shitposting and shit post...       0   \n",
              "44802  t2_4jnzekzd  cum cum cum cum cum cum cum cum cum cum cum cu...       0   \n",
              "44803  t2_4jnzekzd  cum cum cum cum cum cum cum cum cum cum cum cu...       0   \n",
              "44804  t2_4jnzekzd  cum cum cum cum cum cum cum cum cum cum cum cu...       0   \n",
              "44805  t2_4jnzekzd  cum cum cum cum cum cum cum cum cum cum cum cu...       0   \n",
              "44806  t2_4jnzekzd  cum cum cum cum cum cum cum cum cum cum cum cu...       0   \n",
              "44807  t2_4jnzekzd  cum cum cum cum cum cum cum cum cum cum cum cu...       0   \n",
              "\n",
              "                                            cleaned_post  \n",
              "44779  happen bi people actually line kid name potato...  \n",
              "44780  yiff yiff yiff yiff yiff yiff yiff yiff yiff y...  \n",
              "44781  yiff yiff yiff yiff yiff yiff yiff yiff yiff y...  \n",
              "44782  yiff yiff yiff yiff yiff yiff yiff yiff yiff y...  \n",
              "44783  yiff yiff yiff yiff yiff yiff yiff yiff yiff y...  \n",
              "44784  yiff yiff yiff yiff yiff yiff yiff yiff yiff y...  \n",
              "44785  yiff yiff yiff yiff yiff yiff yiff yiff yiff y...  \n",
              "44786  yiff yiff yiff yiff yiff yiff yiff yiff yiff y...  \n",
              "44787  yiff yiff yiff yiff yiff yiff yiff yiff yiff y...  \n",
              "44788  yiff yiff yiff yiff yiff yiff yiff yiff yiff y...  \n",
              "44789  yiff yiff yiff yiff yiff yiff yiff yiff yiff y...  \n",
              "44790  yiff yiff yiff yiff yiff yiff yiff yiff yiff y...  \n",
              "44791  yiff yiff yiff yiff yiff yiff yiff yiff yiff y...  \n",
              "44792  yiff yiff yiff yiff yiff yiff yiff yiff yiff y...  \n",
              "44793  yiff yiff yiff yiff yiff yiff yiff yiff yiff y...  \n",
              "44794  yiff yiff yiff yiff yiff yiff yiff yiff yiff y...  \n",
              "44795  yiff yiff yiff yiff yiff yiff yiff yiff yiff y...  \n",
              "44796  yiff yiff yiff yiff yiff yiff yiff yiff yiff y...  \n",
              "44797  yiff yiff yiff yiff yiff yiff yiff yiff yiff y...  \n",
              "44798  yiff yiff yiff yiff yiff yiff yiff yiff yiff y...  \n",
              "44799  year old fight weapon combination ak-47 m16 ho...  \n",
              "44800  work good r/196 strict rule artist user crossp...  \n",
              "44801  difference shitposte shit post go to act like ...  \n",
              "44802  cum cum cum cum cum cum cum cum cum cum cum cu...  \n",
              "44803  cum cum cum cum cum cum cum cum cum cum cum cu...  \n",
              "44804  cum cum cum cum cum cum cum cum cum cum cum cu...  \n",
              "44805  cum cum cum cum cum cum cum cum cum cum cum cu...  \n",
              "44806  cum cum cum cum cum cum cum cum cum cum cum cu...  \n",
              "44807  cum cum cum cum cum cum cum cum cum cum cum cu...  "
            ],
            "text/html": [
              "\n",
              "  <div id=\"df-4adb9981-5d56-4478-8645-87381139a10b\" class=\"colab-df-container\">\n",
              "    <div>\n",
              "<style scoped>\n",
              "    .dataframe tbody tr th:only-of-type {\n",
              "        vertical-align: middle;\n",
              "    }\n",
              "\n",
              "    .dataframe tbody tr th {\n",
              "        vertical-align: top;\n",
              "    }\n",
              "\n",
              "    .dataframe thead th {\n",
              "        text-align: right;\n",
              "    }\n",
              "</style>\n",
              "<table border=\"1\" class=\"dataframe\">\n",
              "  <thead>\n",
              "    <tr style=\"text-align: right;\">\n",
              "      <th></th>\n",
              "      <th>author_ID</th>\n",
              "      <th>post</th>\n",
              "      <th>female</th>\n",
              "      <th>cleaned_post</th>\n",
              "    </tr>\n",
              "  </thead>\n",
              "  <tbody>\n",
              "    <tr>\n",
              "      <th>44779</th>\n",
              "      <td>t2_4jnzekzd</td>\n",
              "      <td>What happens to bi people? Actually every line...</td>\n",
              "      <td>0</td>\n",
              "      <td>happen bi people actually line kid name potato...</td>\n",
              "    </tr>\n",
              "    <tr>\n",
              "      <th>44780</th>\n",
              "      <td>t2_4jnzekzd</td>\n",
              "      <td>yiff yiff yiff yiff yiff yiff yiff yiff yiff y...</td>\n",
              "      <td>0</td>\n",
              "      <td>yiff yiff yiff yiff yiff yiff yiff yiff yiff y...</td>\n",
              "    </tr>\n",
              "    <tr>\n",
              "      <th>44781</th>\n",
              "      <td>t2_4jnzekzd</td>\n",
              "      <td>yiff yiff yiff yiff yiff yiff yiff yiff yiff y...</td>\n",
              "      <td>0</td>\n",
              "      <td>yiff yiff yiff yiff yiff yiff yiff yiff yiff y...</td>\n",
              "    </tr>\n",
              "    <tr>\n",
              "      <th>44782</th>\n",
              "      <td>t2_4jnzekzd</td>\n",
              "      <td>yiff yiff yiff yiff yiff yiff yiff yiff yiff y...</td>\n",
              "      <td>0</td>\n",
              "      <td>yiff yiff yiff yiff yiff yiff yiff yiff yiff y...</td>\n",
              "    </tr>\n",
              "    <tr>\n",
              "      <th>44783</th>\n",
              "      <td>t2_4jnzekzd</td>\n",
              "      <td>yiff yiff yiff yiff yiff yiff yiff yiff yiff y...</td>\n",
              "      <td>0</td>\n",
              "      <td>yiff yiff yiff yiff yiff yiff yiff yiff yiff y...</td>\n",
              "    </tr>\n",
              "    <tr>\n",
              "      <th>44784</th>\n",
              "      <td>t2_4jnzekzd</td>\n",
              "      <td>yiff yiff yiff yiff yiff yiff yiff yiff yiff y...</td>\n",
              "      <td>0</td>\n",
              "      <td>yiff yiff yiff yiff yiff yiff yiff yiff yiff y...</td>\n",
              "    </tr>\n",
              "    <tr>\n",
              "      <th>44785</th>\n",
              "      <td>t2_4jnzekzd</td>\n",
              "      <td>yiff yiff yiff yiff yiff yiff yiff yiff yiff y...</td>\n",
              "      <td>0</td>\n",
              "      <td>yiff yiff yiff yiff yiff yiff yiff yiff yiff y...</td>\n",
              "    </tr>\n",
              "    <tr>\n",
              "      <th>44786</th>\n",
              "      <td>t2_4jnzekzd</td>\n",
              "      <td>yiff yiff yiff yiff yiff yiff yiff yiff yiff y...</td>\n",
              "      <td>0</td>\n",
              "      <td>yiff yiff yiff yiff yiff yiff yiff yiff yiff y...</td>\n",
              "    </tr>\n",
              "    <tr>\n",
              "      <th>44787</th>\n",
              "      <td>t2_4jnzekzd</td>\n",
              "      <td>yiff yiff yiff yiff yiff yiff yiff yiff yiff y...</td>\n",
              "      <td>0</td>\n",
              "      <td>yiff yiff yiff yiff yiff yiff yiff yiff yiff y...</td>\n",
              "    </tr>\n",
              "    <tr>\n",
              "      <th>44788</th>\n",
              "      <td>t2_4jnzekzd</td>\n",
              "      <td>yiff yiff yiff yiff yiff yiff yiff yiff yiff y...</td>\n",
              "      <td>0</td>\n",
              "      <td>yiff yiff yiff yiff yiff yiff yiff yiff yiff y...</td>\n",
              "    </tr>\n",
              "    <tr>\n",
              "      <th>44789</th>\n",
              "      <td>t2_4jnzekzd</td>\n",
              "      <td>yiff yiff yiff yiff yiff yiff yiff yiff yiff y...</td>\n",
              "      <td>0</td>\n",
              "      <td>yiff yiff yiff yiff yiff yiff yiff yiff yiff y...</td>\n",
              "    </tr>\n",
              "    <tr>\n",
              "      <th>44790</th>\n",
              "      <td>t2_4jnzekzd</td>\n",
              "      <td>yiff yiff yiff yiff yiff yiff yiff yiff yiff y...</td>\n",
              "      <td>0</td>\n",
              "      <td>yiff yiff yiff yiff yiff yiff yiff yiff yiff y...</td>\n",
              "    </tr>\n",
              "    <tr>\n",
              "      <th>44791</th>\n",
              "      <td>t2_4jnzekzd</td>\n",
              "      <td>yiff yiff yiff yiff yiff yiff yiff yiff yiff y...</td>\n",
              "      <td>0</td>\n",
              "      <td>yiff yiff yiff yiff yiff yiff yiff yiff yiff y...</td>\n",
              "    </tr>\n",
              "    <tr>\n",
              "      <th>44792</th>\n",
              "      <td>t2_4jnzekzd</td>\n",
              "      <td>yiff yiff yiff yiff yiff yiff yiff yiff yiff y...</td>\n",
              "      <td>0</td>\n",
              "      <td>yiff yiff yiff yiff yiff yiff yiff yiff yiff y...</td>\n",
              "    </tr>\n",
              "    <tr>\n",
              "      <th>44793</th>\n",
              "      <td>t2_4jnzekzd</td>\n",
              "      <td>yiff yiff yiff yiff yiff yiff yiff yiff yiff y...</td>\n",
              "      <td>0</td>\n",
              "      <td>yiff yiff yiff yiff yiff yiff yiff yiff yiff y...</td>\n",
              "    </tr>\n",
              "    <tr>\n",
              "      <th>44794</th>\n",
              "      <td>t2_4jnzekzd</td>\n",
              "      <td>yiff yiff yiff yiff yiff yiff yiff yiff yiff y...</td>\n",
              "      <td>0</td>\n",
              "      <td>yiff yiff yiff yiff yiff yiff yiff yiff yiff y...</td>\n",
              "    </tr>\n",
              "    <tr>\n",
              "      <th>44795</th>\n",
              "      <td>t2_4jnzekzd</td>\n",
              "      <td>yiff yiff yiff yiff yiff yiff yiff yiff yiff y...</td>\n",
              "      <td>0</td>\n",
              "      <td>yiff yiff yiff yiff yiff yiff yiff yiff yiff y...</td>\n",
              "    </tr>\n",
              "    <tr>\n",
              "      <th>44796</th>\n",
              "      <td>t2_4jnzekzd</td>\n",
              "      <td>yiff yiff yiff yiff yiff yiff yiff yiff yiff y...</td>\n",
              "      <td>0</td>\n",
              "      <td>yiff yiff yiff yiff yiff yiff yiff yiff yiff y...</td>\n",
              "    </tr>\n",
              "    <tr>\n",
              "      <th>44797</th>\n",
              "      <td>t2_4jnzekzd</td>\n",
              "      <td>yiff yiff yiff yiff yiff yiff yiff yiff yiff y...</td>\n",
              "      <td>0</td>\n",
              "      <td>yiff yiff yiff yiff yiff yiff yiff yiff yiff y...</td>\n",
              "    </tr>\n",
              "    <tr>\n",
              "      <th>44798</th>\n",
              "      <td>t2_4jnzekzd</td>\n",
              "      <td>yiff yiff yiff yiff yiff yiff yiff yiff yiff y...</td>\n",
              "      <td>0</td>\n",
              "      <td>yiff yiff yiff yiff yiff yiff yiff yiff yiff y...</td>\n",
              "    </tr>\n",
              "    <tr>\n",
              "      <th>44799</th>\n",
              "      <td>t2_4jnzekzd</td>\n",
              "      <td>year old. They fought with a weapon that was a...</td>\n",
              "      <td>0</td>\n",
              "      <td>year old fight weapon combination ak-47 m16 ho...</td>\n",
              "    </tr>\n",
              "    <tr>\n",
              "      <th>44800</th>\n",
              "      <td>t2_4jnzekzd</td>\n",
              "      <td>would work too Good r/196 has less strict rule...</td>\n",
              "      <td>0</td>\n",
              "      <td>work good r/196 strict rule artist user crossp...</td>\n",
              "    </tr>\n",
              "    <tr>\n",
              "      <th>44801</th>\n",
              "      <td>t2_4jnzekzd</td>\n",
              "      <td>a difference between shitposting and shit post...</td>\n",
              "      <td>0</td>\n",
              "      <td>difference shitposte shit post go to act like ...</td>\n",
              "    </tr>\n",
              "    <tr>\n",
              "      <th>44802</th>\n",
              "      <td>t2_4jnzekzd</td>\n",
              "      <td>cum cum cum cum cum cum cum cum cum cum cum cu...</td>\n",
              "      <td>0</td>\n",
              "      <td>cum cum cum cum cum cum cum cum cum cum cum cu...</td>\n",
              "    </tr>\n",
              "    <tr>\n",
              "      <th>44803</th>\n",
              "      <td>t2_4jnzekzd</td>\n",
              "      <td>cum cum cum cum cum cum cum cum cum cum cum cu...</td>\n",
              "      <td>0</td>\n",
              "      <td>cum cum cum cum cum cum cum cum cum cum cum cu...</td>\n",
              "    </tr>\n",
              "    <tr>\n",
              "      <th>44804</th>\n",
              "      <td>t2_4jnzekzd</td>\n",
              "      <td>cum cum cum cum cum cum cum cum cum cum cum cu...</td>\n",
              "      <td>0</td>\n",
              "      <td>cum cum cum cum cum cum cum cum cum cum cum cu...</td>\n",
              "    </tr>\n",
              "    <tr>\n",
              "      <th>44805</th>\n",
              "      <td>t2_4jnzekzd</td>\n",
              "      <td>cum cum cum cum cum cum cum cum cum cum cum cu...</td>\n",
              "      <td>0</td>\n",
              "      <td>cum cum cum cum cum cum cum cum cum cum cum cu...</td>\n",
              "    </tr>\n",
              "    <tr>\n",
              "      <th>44806</th>\n",
              "      <td>t2_4jnzekzd</td>\n",
              "      <td>cum cum cum cum cum cum cum cum cum cum cum cu...</td>\n",
              "      <td>0</td>\n",
              "      <td>cum cum cum cum cum cum cum cum cum cum cum cu...</td>\n",
              "    </tr>\n",
              "    <tr>\n",
              "      <th>44807</th>\n",
              "      <td>t2_4jnzekzd</td>\n",
              "      <td>cum cum cum cum cum cum cum cum cum cum cum cu...</td>\n",
              "      <td>0</td>\n",
              "      <td>cum cum cum cum cum cum cum cum cum cum cum cu...</td>\n",
              "    </tr>\n",
              "  </tbody>\n",
              "</table>\n",
              "</div>\n",
              "    <div class=\"colab-df-buttons\">\n",
              "\n",
              "  <div class=\"colab-df-container\">\n",
              "    <button class=\"colab-df-convert\" onclick=\"convertToInteractive('df-4adb9981-5d56-4478-8645-87381139a10b')\"\n",
              "            title=\"Convert this dataframe to an interactive table.\"\n",
              "            style=\"display:none;\">\n",
              "\n",
              "  <svg xmlns=\"http://www.w3.org/2000/svg\" height=\"24px\" viewBox=\"0 -960 960 960\">\n",
              "    <path d=\"M120-120v-720h720v720H120Zm60-500h600v-160H180v160Zm220 220h160v-160H400v160Zm0 220h160v-160H400v160ZM180-400h160v-160H180v160Zm440 0h160v-160H620v160ZM180-180h160v-160H180v160Zm440 0h160v-160H620v160Z\"/>\n",
              "  </svg>\n",
              "    </button>\n",
              "\n",
              "  <style>\n",
              "    .colab-df-container {\n",
              "      display:flex;\n",
              "      gap: 12px;\n",
              "    }\n",
              "\n",
              "    .colab-df-convert {\n",
              "      background-color: #E8F0FE;\n",
              "      border: none;\n",
              "      border-radius: 50%;\n",
              "      cursor: pointer;\n",
              "      display: none;\n",
              "      fill: #1967D2;\n",
              "      height: 32px;\n",
              "      padding: 0 0 0 0;\n",
              "      width: 32px;\n",
              "    }\n",
              "\n",
              "    .colab-df-convert:hover {\n",
              "      background-color: #E2EBFA;\n",
              "      box-shadow: 0px 1px 2px rgba(60, 64, 67, 0.3), 0px 1px 3px 1px rgba(60, 64, 67, 0.15);\n",
              "      fill: #174EA6;\n",
              "    }\n",
              "\n",
              "    .colab-df-buttons div {\n",
              "      margin-bottom: 4px;\n",
              "    }\n",
              "\n",
              "    [theme=dark] .colab-df-convert {\n",
              "      background-color: #3B4455;\n",
              "      fill: #D2E3FC;\n",
              "    }\n",
              "\n",
              "    [theme=dark] .colab-df-convert:hover {\n",
              "      background-color: #434B5C;\n",
              "      box-shadow: 0px 1px 3px 1px rgba(0, 0, 0, 0.15);\n",
              "      filter: drop-shadow(0px 1px 2px rgba(0, 0, 0, 0.3));\n",
              "      fill: #FFFFFF;\n",
              "    }\n",
              "  </style>\n",
              "\n",
              "    <script>\n",
              "      const buttonEl =\n",
              "        document.querySelector('#df-4adb9981-5d56-4478-8645-87381139a10b button.colab-df-convert');\n",
              "      buttonEl.style.display =\n",
              "        google.colab.kernel.accessAllowed ? 'block' : 'none';\n",
              "\n",
              "      async function convertToInteractive(key) {\n",
              "        const element = document.querySelector('#df-4adb9981-5d56-4478-8645-87381139a10b');\n",
              "        const dataTable =\n",
              "          await google.colab.kernel.invokeFunction('convertToInteractive',\n",
              "                                                    [key], {});\n",
              "        if (!dataTable) return;\n",
              "\n",
              "        const docLinkHtml = 'Like what you see? Visit the ' +\n",
              "          '<a target=\"_blank\" href=https://colab.research.google.com/notebooks/data_table.ipynb>data table notebook</a>'\n",
              "          + ' to learn more about interactive tables.';\n",
              "        element.innerHTML = '';\n",
              "        dataTable['output_type'] = 'display_data';\n",
              "        await google.colab.output.renderOutput(dataTable, element);\n",
              "        const docLink = document.createElement('div');\n",
              "        docLink.innerHTML = docLinkHtml;\n",
              "        element.appendChild(docLink);\n",
              "      }\n",
              "    </script>\n",
              "  </div>\n",
              "\n",
              "\n",
              "<div id=\"df-2d5e3e34-b449-43cc-882f-f1d7902562d8\">\n",
              "  <button class=\"colab-df-quickchart\" onclick=\"quickchart('df-2d5e3e34-b449-43cc-882f-f1d7902562d8')\"\n",
              "            title=\"Suggest charts\"\n",
              "            style=\"display:none;\">\n",
              "\n",
              "<svg xmlns=\"http://www.w3.org/2000/svg\" height=\"24px\"viewBox=\"0 0 24 24\"\n",
              "     width=\"24px\">\n",
              "    <g>\n",
              "        <path d=\"M19 3H5c-1.1 0-2 .9-2 2v14c0 1.1.9 2 2 2h14c1.1 0 2-.9 2-2V5c0-1.1-.9-2-2-2zM9 17H7v-7h2v7zm4 0h-2V7h2v10zm4 0h-2v-4h2v4z\"/>\n",
              "    </g>\n",
              "</svg>\n",
              "  </button>\n",
              "\n",
              "<style>\n",
              "  .colab-df-quickchart {\n",
              "      --bg-color: #E8F0FE;\n",
              "      --fill-color: #1967D2;\n",
              "      --hover-bg-color: #E2EBFA;\n",
              "      --hover-fill-color: #174EA6;\n",
              "      --disabled-fill-color: #AAA;\n",
              "      --disabled-bg-color: #DDD;\n",
              "  }\n",
              "\n",
              "  [theme=dark] .colab-df-quickchart {\n",
              "      --bg-color: #3B4455;\n",
              "      --fill-color: #D2E3FC;\n",
              "      --hover-bg-color: #434B5C;\n",
              "      --hover-fill-color: #FFFFFF;\n",
              "      --disabled-bg-color: #3B4455;\n",
              "      --disabled-fill-color: #666;\n",
              "  }\n",
              "\n",
              "  .colab-df-quickchart {\n",
              "    background-color: var(--bg-color);\n",
              "    border: none;\n",
              "    border-radius: 50%;\n",
              "    cursor: pointer;\n",
              "    display: none;\n",
              "    fill: var(--fill-color);\n",
              "    height: 32px;\n",
              "    padding: 0;\n",
              "    width: 32px;\n",
              "  }\n",
              "\n",
              "  .colab-df-quickchart:hover {\n",
              "    background-color: var(--hover-bg-color);\n",
              "    box-shadow: 0 1px 2px rgba(60, 64, 67, 0.3), 0 1px 3px 1px rgba(60, 64, 67, 0.15);\n",
              "    fill: var(--button-hover-fill-color);\n",
              "  }\n",
              "\n",
              "  .colab-df-quickchart-complete:disabled,\n",
              "  .colab-df-quickchart-complete:disabled:hover {\n",
              "    background-color: var(--disabled-bg-color);\n",
              "    fill: var(--disabled-fill-color);\n",
              "    box-shadow: none;\n",
              "  }\n",
              "\n",
              "  .colab-df-spinner {\n",
              "    border: 2px solid var(--fill-color);\n",
              "    border-color: transparent;\n",
              "    border-bottom-color: var(--fill-color);\n",
              "    animation:\n",
              "      spin 1s steps(1) infinite;\n",
              "  }\n",
              "\n",
              "  @keyframes spin {\n",
              "    0% {\n",
              "      border-color: transparent;\n",
              "      border-bottom-color: var(--fill-color);\n",
              "      border-left-color: var(--fill-color);\n",
              "    }\n",
              "    20% {\n",
              "      border-color: transparent;\n",
              "      border-left-color: var(--fill-color);\n",
              "      border-top-color: var(--fill-color);\n",
              "    }\n",
              "    30% {\n",
              "      border-color: transparent;\n",
              "      border-left-color: var(--fill-color);\n",
              "      border-top-color: var(--fill-color);\n",
              "      border-right-color: var(--fill-color);\n",
              "    }\n",
              "    40% {\n",
              "      border-color: transparent;\n",
              "      border-right-color: var(--fill-color);\n",
              "      border-top-color: var(--fill-color);\n",
              "    }\n",
              "    60% {\n",
              "      border-color: transparent;\n",
              "      border-right-color: var(--fill-color);\n",
              "    }\n",
              "    80% {\n",
              "      border-color: transparent;\n",
              "      border-right-color: var(--fill-color);\n",
              "      border-bottom-color: var(--fill-color);\n",
              "    }\n",
              "    90% {\n",
              "      border-color: transparent;\n",
              "      border-bottom-color: var(--fill-color);\n",
              "    }\n",
              "  }\n",
              "</style>\n",
              "\n",
              "  <script>\n",
              "    async function quickchart(key) {\n",
              "      const quickchartButtonEl =\n",
              "        document.querySelector('#' + key + ' button');\n",
              "      quickchartButtonEl.disabled = true;  // To prevent multiple clicks.\n",
              "      quickchartButtonEl.classList.add('colab-df-spinner');\n",
              "      try {\n",
              "        const charts = await google.colab.kernel.invokeFunction(\n",
              "            'suggestCharts', [key], {});\n",
              "      } catch (error) {\n",
              "        console.error('Error during call to suggestCharts:', error);\n",
              "      }\n",
              "      quickchartButtonEl.classList.remove('colab-df-spinner');\n",
              "      quickchartButtonEl.classList.add('colab-df-quickchart-complete');\n",
              "    }\n",
              "    (() => {\n",
              "      let quickchartButtonEl =\n",
              "        document.querySelector('#df-2d5e3e34-b449-43cc-882f-f1d7902562d8 button');\n",
              "      quickchartButtonEl.style.display =\n",
              "        google.colab.kernel.accessAllowed ? 'block' : 'none';\n",
              "    })();\n",
              "  </script>\n",
              "</div>\n",
              "    </div>\n",
              "  </div>\n"
            ]
          },
          "metadata": {},
          "execution_count": 25
        }
      ]
    },
    {
      "cell_type": "code",
      "source": [
        "cleaned_gender_df = cleaned_gender_df[cleaned_gender_df['author_ID'] != 't2_4jnzekzd']"
      ],
      "metadata": {
        "id": "uUcKEoTXVG4X"
      },
      "execution_count": null,
      "outputs": []
    },
    {
      "cell_type": "code",
      "source": [
        "cleaned_gender_df[cleaned_gender_df['author_ID'] == 't2_8ecqs5dt']"
      ],
      "metadata": {
        "colab": {
          "base_uri": "https://localhost:8080/",
          "height": 557
        },
        "id": "MYvgD9x8foN7",
        "outputId": "56a3f8dd-6485-42f5-dd32-3eb81e0998d4"
      },
      "execution_count": null,
      "outputs": [
        {
          "output_type": "execute_result",
          "data": {
            "text/plain": [
              "        author_ID                                               post  female  \\\n",
              "3572  t2_8ecqs5dt  Hip slots were one of the first things I disco...       0   \n",
              "3573  t2_8ecqs5dt  new dog figglebottom I was on a train and I op...       0   \n",
              "3574  t2_8ecqs5dt  idk One piece fans when they see an anime that...       0   \n",
              "3575  t2_8ecqs5dt  lefts agenda. A creative decision is not alway...       0   \n",
              "3576  t2_8ecqs5dt  is Heisenbones is getting funnier, it’s other ...       0   \n",
              "3577  t2_8ecqs5dt  of LGBT, making flags and doing pride parades ...       0   \n",
              "3578  t2_8ecqs5dt  I like pyro combos that aren’t completely stup...       0   \n",
              "3579  t2_8ecqs5dt  cum cum cum cum cum cum cum cum cum cum cum cu...       0   \n",
              "3580  t2_8ecqs5dt  a good fucking warpaint Idk if this person sho...       0   \n",
              "3581  t2_8ecqs5dt  2 He likes fish sticks Pebblethrow, also he’s ...       0   \n",
              "3582  t2_8ecqs5dt  also here Nah it’s the krusty krab krew impost...       0   \n",
              "3583  t2_8ecqs5dt  falco OH GOD HES GONNA DESTROY THIS REALM Ew j...       0   \n",
              "3584  t2_8ecqs5dt  Or it’s just Scott reusing models I’m sorry gr...       0   \n",
              "3585  t2_8ecqs5dt  a community with these clowns I had a friend t...       0   \n",
              "3586  t2_8ecqs5dt  What! Don't kill these innocent people! Aw wha...       0   \n",
              "3587  t2_8ecqs5dt  Masc women are so cool Look at the middle Shit...       0   \n",
              "\n",
              "                                           cleaned_post  \n",
              "3572  hip slot thing discover play game blame people...  \n",
              "3573  new dog figglebottom train open start furiousl...  \n",
              "3574  idk piece fan anime sexualize woman 2 second p...  \n",
              "3575  lefts agenda creative decision good decision g...  \n",
              "3576  heisenbone get funny variation l4d2 dev commen...  \n",
              "3577  lgbt make flag pride parade will normalize xen...  \n",
              "3578  like pyro combo completely stupid nostalgia ra...  \n",
              "3579  cum cum cum cum cum cum cum cum cum cum cum cu...  \n",
              "3580  good fucking warpaint idk person reddit lmfao ...  \n",
              "3581  2 like fish stick pebblethrow nazi imposter so...  \n",
              "3582  nah krusty krab krew imposter like papyrus loo...  \n",
              "3583  falco oh god s go to destroy realm ew jerry un...  \n",
              "3584  scott reuse model sorry grammar completely scr...  \n",
              "3585  community clown friend setting play game lt;3 ...  \n",
              "3586  kill innocent people aw disgrace kick invite b...  \n",
              "3587  masc woman cool look middle shit think make jo...  "
            ],
            "text/html": [
              "\n",
              "  <div id=\"df-6544b752-5a0f-4ecb-9717-f81cc78afc9f\" class=\"colab-df-container\">\n",
              "    <div>\n",
              "<style scoped>\n",
              "    .dataframe tbody tr th:only-of-type {\n",
              "        vertical-align: middle;\n",
              "    }\n",
              "\n",
              "    .dataframe tbody tr th {\n",
              "        vertical-align: top;\n",
              "    }\n",
              "\n",
              "    .dataframe thead th {\n",
              "        text-align: right;\n",
              "    }\n",
              "</style>\n",
              "<table border=\"1\" class=\"dataframe\">\n",
              "  <thead>\n",
              "    <tr style=\"text-align: right;\">\n",
              "      <th></th>\n",
              "      <th>author_ID</th>\n",
              "      <th>post</th>\n",
              "      <th>female</th>\n",
              "      <th>cleaned_post</th>\n",
              "    </tr>\n",
              "  </thead>\n",
              "  <tbody>\n",
              "    <tr>\n",
              "      <th>3572</th>\n",
              "      <td>t2_8ecqs5dt</td>\n",
              "      <td>Hip slots were one of the first things I disco...</td>\n",
              "      <td>0</td>\n",
              "      <td>hip slot thing discover play game blame people...</td>\n",
              "    </tr>\n",
              "    <tr>\n",
              "      <th>3573</th>\n",
              "      <td>t2_8ecqs5dt</td>\n",
              "      <td>new dog figglebottom I was on a train and I op...</td>\n",
              "      <td>0</td>\n",
              "      <td>new dog figglebottom train open start furiousl...</td>\n",
              "    </tr>\n",
              "    <tr>\n",
              "      <th>3574</th>\n",
              "      <td>t2_8ecqs5dt</td>\n",
              "      <td>idk One piece fans when they see an anime that...</td>\n",
              "      <td>0</td>\n",
              "      <td>idk piece fan anime sexualize woman 2 second p...</td>\n",
              "    </tr>\n",
              "    <tr>\n",
              "      <th>3575</th>\n",
              "      <td>t2_8ecqs5dt</td>\n",
              "      <td>lefts agenda. A creative decision is not alway...</td>\n",
              "      <td>0</td>\n",
              "      <td>lefts agenda creative decision good decision g...</td>\n",
              "    </tr>\n",
              "    <tr>\n",
              "      <th>3576</th>\n",
              "      <td>t2_8ecqs5dt</td>\n",
              "      <td>is Heisenbones is getting funnier, it’s other ...</td>\n",
              "      <td>0</td>\n",
              "      <td>heisenbone get funny variation l4d2 dev commen...</td>\n",
              "    </tr>\n",
              "    <tr>\n",
              "      <th>3577</th>\n",
              "      <td>t2_8ecqs5dt</td>\n",
              "      <td>of LGBT, making flags and doing pride parades ...</td>\n",
              "      <td>0</td>\n",
              "      <td>lgbt make flag pride parade will normalize xen...</td>\n",
              "    </tr>\n",
              "    <tr>\n",
              "      <th>3578</th>\n",
              "      <td>t2_8ecqs5dt</td>\n",
              "      <td>I like pyro combos that aren’t completely stup...</td>\n",
              "      <td>0</td>\n",
              "      <td>like pyro combo completely stupid nostalgia ra...</td>\n",
              "    </tr>\n",
              "    <tr>\n",
              "      <th>3579</th>\n",
              "      <td>t2_8ecqs5dt</td>\n",
              "      <td>cum cum cum cum cum cum cum cum cum cum cum cu...</td>\n",
              "      <td>0</td>\n",
              "      <td>cum cum cum cum cum cum cum cum cum cum cum cu...</td>\n",
              "    </tr>\n",
              "    <tr>\n",
              "      <th>3580</th>\n",
              "      <td>t2_8ecqs5dt</td>\n",
              "      <td>a good fucking warpaint Idk if this person sho...</td>\n",
              "      <td>0</td>\n",
              "      <td>good fucking warpaint idk person reddit lmfao ...</td>\n",
              "    </tr>\n",
              "    <tr>\n",
              "      <th>3581</th>\n",
              "      <td>t2_8ecqs5dt</td>\n",
              "      <td>2 He likes fish sticks Pebblethrow, also he’s ...</td>\n",
              "      <td>0</td>\n",
              "      <td>2 like fish stick pebblethrow nazi imposter so...</td>\n",
              "    </tr>\n",
              "    <tr>\n",
              "      <th>3582</th>\n",
              "      <td>t2_8ecqs5dt</td>\n",
              "      <td>also here Nah it’s the krusty krab krew impost...</td>\n",
              "      <td>0</td>\n",
              "      <td>nah krusty krab krew imposter like papyrus loo...</td>\n",
              "    </tr>\n",
              "    <tr>\n",
              "      <th>3583</th>\n",
              "      <td>t2_8ecqs5dt</td>\n",
              "      <td>falco OH GOD HES GONNA DESTROY THIS REALM Ew j...</td>\n",
              "      <td>0</td>\n",
              "      <td>falco oh god s go to destroy realm ew jerry un...</td>\n",
              "    </tr>\n",
              "    <tr>\n",
              "      <th>3584</th>\n",
              "      <td>t2_8ecqs5dt</td>\n",
              "      <td>Or it’s just Scott reusing models I’m sorry gr...</td>\n",
              "      <td>0</td>\n",
              "      <td>scott reuse model sorry grammar completely scr...</td>\n",
              "    </tr>\n",
              "    <tr>\n",
              "      <th>3585</th>\n",
              "      <td>t2_8ecqs5dt</td>\n",
              "      <td>a community with these clowns I had a friend t...</td>\n",
              "      <td>0</td>\n",
              "      <td>community clown friend setting play game lt;3 ...</td>\n",
              "    </tr>\n",
              "    <tr>\n",
              "      <th>3586</th>\n",
              "      <td>t2_8ecqs5dt</td>\n",
              "      <td>What! Don't kill these innocent people! Aw wha...</td>\n",
              "      <td>0</td>\n",
              "      <td>kill innocent people aw disgrace kick invite b...</td>\n",
              "    </tr>\n",
              "    <tr>\n",
              "      <th>3587</th>\n",
              "      <td>t2_8ecqs5dt</td>\n",
              "      <td>Masc women are so cool Look at the middle Shit...</td>\n",
              "      <td>0</td>\n",
              "      <td>masc woman cool look middle shit think make jo...</td>\n",
              "    </tr>\n",
              "  </tbody>\n",
              "</table>\n",
              "</div>\n",
              "    <div class=\"colab-df-buttons\">\n",
              "\n",
              "  <div class=\"colab-df-container\">\n",
              "    <button class=\"colab-df-convert\" onclick=\"convertToInteractive('df-6544b752-5a0f-4ecb-9717-f81cc78afc9f')\"\n",
              "            title=\"Convert this dataframe to an interactive table.\"\n",
              "            style=\"display:none;\">\n",
              "\n",
              "  <svg xmlns=\"http://www.w3.org/2000/svg\" height=\"24px\" viewBox=\"0 -960 960 960\">\n",
              "    <path d=\"M120-120v-720h720v720H120Zm60-500h600v-160H180v160Zm220 220h160v-160H400v160Zm0 220h160v-160H400v160ZM180-400h160v-160H180v160Zm440 0h160v-160H620v160ZM180-180h160v-160H180v160Zm440 0h160v-160H620v160Z\"/>\n",
              "  </svg>\n",
              "    </button>\n",
              "\n",
              "  <style>\n",
              "    .colab-df-container {\n",
              "      display:flex;\n",
              "      gap: 12px;\n",
              "    }\n",
              "\n",
              "    .colab-df-convert {\n",
              "      background-color: #E8F0FE;\n",
              "      border: none;\n",
              "      border-radius: 50%;\n",
              "      cursor: pointer;\n",
              "      display: none;\n",
              "      fill: #1967D2;\n",
              "      height: 32px;\n",
              "      padding: 0 0 0 0;\n",
              "      width: 32px;\n",
              "    }\n",
              "\n",
              "    .colab-df-convert:hover {\n",
              "      background-color: #E2EBFA;\n",
              "      box-shadow: 0px 1px 2px rgba(60, 64, 67, 0.3), 0px 1px 3px 1px rgba(60, 64, 67, 0.15);\n",
              "      fill: #174EA6;\n",
              "    }\n",
              "\n",
              "    .colab-df-buttons div {\n",
              "      margin-bottom: 4px;\n",
              "    }\n",
              "\n",
              "    [theme=dark] .colab-df-convert {\n",
              "      background-color: #3B4455;\n",
              "      fill: #D2E3FC;\n",
              "    }\n",
              "\n",
              "    [theme=dark] .colab-df-convert:hover {\n",
              "      background-color: #434B5C;\n",
              "      box-shadow: 0px 1px 3px 1px rgba(0, 0, 0, 0.15);\n",
              "      filter: drop-shadow(0px 1px 2px rgba(0, 0, 0, 0.3));\n",
              "      fill: #FFFFFF;\n",
              "    }\n",
              "  </style>\n",
              "\n",
              "    <script>\n",
              "      const buttonEl =\n",
              "        document.querySelector('#df-6544b752-5a0f-4ecb-9717-f81cc78afc9f button.colab-df-convert');\n",
              "      buttonEl.style.display =\n",
              "        google.colab.kernel.accessAllowed ? 'block' : 'none';\n",
              "\n",
              "      async function convertToInteractive(key) {\n",
              "        const element = document.querySelector('#df-6544b752-5a0f-4ecb-9717-f81cc78afc9f');\n",
              "        const dataTable =\n",
              "          await google.colab.kernel.invokeFunction('convertToInteractive',\n",
              "                                                    [key], {});\n",
              "        if (!dataTable) return;\n",
              "\n",
              "        const docLinkHtml = 'Like what you see? Visit the ' +\n",
              "          '<a target=\"_blank\" href=https://colab.research.google.com/notebooks/data_table.ipynb>data table notebook</a>'\n",
              "          + ' to learn more about interactive tables.';\n",
              "        element.innerHTML = '';\n",
              "        dataTable['output_type'] = 'display_data';\n",
              "        await google.colab.output.renderOutput(dataTable, element);\n",
              "        const docLink = document.createElement('div');\n",
              "        docLink.innerHTML = docLinkHtml;\n",
              "        element.appendChild(docLink);\n",
              "      }\n",
              "    </script>\n",
              "  </div>\n",
              "\n",
              "\n",
              "<div id=\"df-fa698ae2-4d23-4ee5-8cc6-460bd7d52e01\">\n",
              "  <button class=\"colab-df-quickchart\" onclick=\"quickchart('df-fa698ae2-4d23-4ee5-8cc6-460bd7d52e01')\"\n",
              "            title=\"Suggest charts\"\n",
              "            style=\"display:none;\">\n",
              "\n",
              "<svg xmlns=\"http://www.w3.org/2000/svg\" height=\"24px\"viewBox=\"0 0 24 24\"\n",
              "     width=\"24px\">\n",
              "    <g>\n",
              "        <path d=\"M19 3H5c-1.1 0-2 .9-2 2v14c0 1.1.9 2 2 2h14c1.1 0 2-.9 2-2V5c0-1.1-.9-2-2-2zM9 17H7v-7h2v7zm4 0h-2V7h2v10zm4 0h-2v-4h2v4z\"/>\n",
              "    </g>\n",
              "</svg>\n",
              "  </button>\n",
              "\n",
              "<style>\n",
              "  .colab-df-quickchart {\n",
              "      --bg-color: #E8F0FE;\n",
              "      --fill-color: #1967D2;\n",
              "      --hover-bg-color: #E2EBFA;\n",
              "      --hover-fill-color: #174EA6;\n",
              "      --disabled-fill-color: #AAA;\n",
              "      --disabled-bg-color: #DDD;\n",
              "  }\n",
              "\n",
              "  [theme=dark] .colab-df-quickchart {\n",
              "      --bg-color: #3B4455;\n",
              "      --fill-color: #D2E3FC;\n",
              "      --hover-bg-color: #434B5C;\n",
              "      --hover-fill-color: #FFFFFF;\n",
              "      --disabled-bg-color: #3B4455;\n",
              "      --disabled-fill-color: #666;\n",
              "  }\n",
              "\n",
              "  .colab-df-quickchart {\n",
              "    background-color: var(--bg-color);\n",
              "    border: none;\n",
              "    border-radius: 50%;\n",
              "    cursor: pointer;\n",
              "    display: none;\n",
              "    fill: var(--fill-color);\n",
              "    height: 32px;\n",
              "    padding: 0;\n",
              "    width: 32px;\n",
              "  }\n",
              "\n",
              "  .colab-df-quickchart:hover {\n",
              "    background-color: var(--hover-bg-color);\n",
              "    box-shadow: 0 1px 2px rgba(60, 64, 67, 0.3), 0 1px 3px 1px rgba(60, 64, 67, 0.15);\n",
              "    fill: var(--button-hover-fill-color);\n",
              "  }\n",
              "\n",
              "  .colab-df-quickchart-complete:disabled,\n",
              "  .colab-df-quickchart-complete:disabled:hover {\n",
              "    background-color: var(--disabled-bg-color);\n",
              "    fill: var(--disabled-fill-color);\n",
              "    box-shadow: none;\n",
              "  }\n",
              "\n",
              "  .colab-df-spinner {\n",
              "    border: 2px solid var(--fill-color);\n",
              "    border-color: transparent;\n",
              "    border-bottom-color: var(--fill-color);\n",
              "    animation:\n",
              "      spin 1s steps(1) infinite;\n",
              "  }\n",
              "\n",
              "  @keyframes spin {\n",
              "    0% {\n",
              "      border-color: transparent;\n",
              "      border-bottom-color: var(--fill-color);\n",
              "      border-left-color: var(--fill-color);\n",
              "    }\n",
              "    20% {\n",
              "      border-color: transparent;\n",
              "      border-left-color: var(--fill-color);\n",
              "      border-top-color: var(--fill-color);\n",
              "    }\n",
              "    30% {\n",
              "      border-color: transparent;\n",
              "      border-left-color: var(--fill-color);\n",
              "      border-top-color: var(--fill-color);\n",
              "      border-right-color: var(--fill-color);\n",
              "    }\n",
              "    40% {\n",
              "      border-color: transparent;\n",
              "      border-right-color: var(--fill-color);\n",
              "      border-top-color: var(--fill-color);\n",
              "    }\n",
              "    60% {\n",
              "      border-color: transparent;\n",
              "      border-right-color: var(--fill-color);\n",
              "    }\n",
              "    80% {\n",
              "      border-color: transparent;\n",
              "      border-right-color: var(--fill-color);\n",
              "      border-bottom-color: var(--fill-color);\n",
              "    }\n",
              "    90% {\n",
              "      border-color: transparent;\n",
              "      border-bottom-color: var(--fill-color);\n",
              "    }\n",
              "  }\n",
              "</style>\n",
              "\n",
              "  <script>\n",
              "    async function quickchart(key) {\n",
              "      const quickchartButtonEl =\n",
              "        document.querySelector('#' + key + ' button');\n",
              "      quickchartButtonEl.disabled = true;  // To prevent multiple clicks.\n",
              "      quickchartButtonEl.classList.add('colab-df-spinner');\n",
              "      try {\n",
              "        const charts = await google.colab.kernel.invokeFunction(\n",
              "            'suggestCharts', [key], {});\n",
              "      } catch (error) {\n",
              "        console.error('Error during call to suggestCharts:', error);\n",
              "      }\n",
              "      quickchartButtonEl.classList.remove('colab-df-spinner');\n",
              "      quickchartButtonEl.classList.add('colab-df-quickchart-complete');\n",
              "    }\n",
              "    (() => {\n",
              "      let quickchartButtonEl =\n",
              "        document.querySelector('#df-fa698ae2-4d23-4ee5-8cc6-460bd7d52e01 button');\n",
              "      quickchartButtonEl.style.display =\n",
              "        google.colab.kernel.accessAllowed ? 'block' : 'none';\n",
              "    })();\n",
              "  </script>\n",
              "</div>\n",
              "    </div>\n",
              "  </div>\n"
            ]
          },
          "metadata": {},
          "execution_count": 31
        }
      ]
    },
    {
      "cell_type": "code",
      "source": [
        "cleaned_gender_df.info()"
      ],
      "metadata": {
        "colab": {
          "base_uri": "https://localhost:8080/"
        },
        "id": "XTpBPHCgg5Zg",
        "outputId": "6695a88c-5b6b-4e92-e81b-310b4bd42bac"
      },
      "execution_count": null,
      "outputs": [
        {
          "output_type": "stream",
          "name": "stdout",
          "text": [
            "<class 'pandas.core.frame.DataFrame'>\n",
            "Int64Index: 89215 entries, 0 to 89271\n",
            "Data columns (total 4 columns):\n",
            " #   Column        Non-Null Count  Dtype \n",
            "---  ------        --------------  ----- \n",
            " 0   author_ID     89215 non-null  object\n",
            " 1   post          89215 non-null  object\n",
            " 2   female        89215 non-null  int64 \n",
            " 3   cleaned_post  89215 non-null  object\n",
            "dtypes: int64(1), object(3)\n",
            "memory usage: 3.4+ MB\n"
          ]
        }
      ]
    },
    {
      "cell_type": "code",
      "source": [
        "filtered_nationality_df.describe()"
      ],
      "metadata": {
        "colab": {
          "base_uri": "https://localhost:8080/",
          "height": 191
        },
        "id": "D7I_tsonQYlk",
        "outputId": "0c3f5def-a072-4bc4-d23c-a7e6fdc59b35"
      },
      "execution_count": null,
      "outputs": [
        {
          "output_type": "execute_result",
          "data": {
            "text/plain": [
              "       author_ID                                               post  \\\n",
              "count     165089                                             165089   \n",
              "unique      7426                                             165050   \n",
              "top     t2_dj2ua  cunt cunt cunt Cunt cunt cunt cunt cunt Cunt c...   \n",
              "freq        1031                                                 16   \n",
              "\n",
              "       nationality                                       cleaned_post  \n",
              "count       165089                                             165089  \n",
              "unique          60                                             165049  \n",
              "top        Germany  cunt cunt cunt cunt cunt cunt cunt cunt cunt c...  \n",
              "freq         21313                                                 16  "
            ],
            "text/html": [
              "\n",
              "  <div id=\"df-d59850c9-ace0-4d76-9f1e-cf697ee08e1c\" class=\"colab-df-container\">\n",
              "    <div>\n",
              "<style scoped>\n",
              "    .dataframe tbody tr th:only-of-type {\n",
              "        vertical-align: middle;\n",
              "    }\n",
              "\n",
              "    .dataframe tbody tr th {\n",
              "        vertical-align: top;\n",
              "    }\n",
              "\n",
              "    .dataframe thead th {\n",
              "        text-align: right;\n",
              "    }\n",
              "</style>\n",
              "<table border=\"1\" class=\"dataframe\">\n",
              "  <thead>\n",
              "    <tr style=\"text-align: right;\">\n",
              "      <th></th>\n",
              "      <th>author_ID</th>\n",
              "      <th>post</th>\n",
              "      <th>nationality</th>\n",
              "      <th>cleaned_post</th>\n",
              "    </tr>\n",
              "  </thead>\n",
              "  <tbody>\n",
              "    <tr>\n",
              "      <th>count</th>\n",
              "      <td>165089</td>\n",
              "      <td>165089</td>\n",
              "      <td>165089</td>\n",
              "      <td>165089</td>\n",
              "    </tr>\n",
              "    <tr>\n",
              "      <th>unique</th>\n",
              "      <td>7426</td>\n",
              "      <td>165050</td>\n",
              "      <td>60</td>\n",
              "      <td>165049</td>\n",
              "    </tr>\n",
              "    <tr>\n",
              "      <th>top</th>\n",
              "      <td>t2_dj2ua</td>\n",
              "      <td>cunt cunt cunt Cunt cunt cunt cunt cunt Cunt c...</td>\n",
              "      <td>Germany</td>\n",
              "      <td>cunt cunt cunt cunt cunt cunt cunt cunt cunt c...</td>\n",
              "    </tr>\n",
              "    <tr>\n",
              "      <th>freq</th>\n",
              "      <td>1031</td>\n",
              "      <td>16</td>\n",
              "      <td>21313</td>\n",
              "      <td>16</td>\n",
              "    </tr>\n",
              "  </tbody>\n",
              "</table>\n",
              "</div>\n",
              "    <div class=\"colab-df-buttons\">\n",
              "\n",
              "  <div class=\"colab-df-container\">\n",
              "    <button class=\"colab-df-convert\" onclick=\"convertToInteractive('df-d59850c9-ace0-4d76-9f1e-cf697ee08e1c')\"\n",
              "            title=\"Convert this dataframe to an interactive table.\"\n",
              "            style=\"display:none;\">\n",
              "\n",
              "  <svg xmlns=\"http://www.w3.org/2000/svg\" height=\"24px\" viewBox=\"0 -960 960 960\">\n",
              "    <path d=\"M120-120v-720h720v720H120Zm60-500h600v-160H180v160Zm220 220h160v-160H400v160Zm0 220h160v-160H400v160ZM180-400h160v-160H180v160Zm440 0h160v-160H620v160ZM180-180h160v-160H180v160Zm440 0h160v-160H620v160Z\"/>\n",
              "  </svg>\n",
              "    </button>\n",
              "\n",
              "  <style>\n",
              "    .colab-df-container {\n",
              "      display:flex;\n",
              "      gap: 12px;\n",
              "    }\n",
              "\n",
              "    .colab-df-convert {\n",
              "      background-color: #E8F0FE;\n",
              "      border: none;\n",
              "      border-radius: 50%;\n",
              "      cursor: pointer;\n",
              "      display: none;\n",
              "      fill: #1967D2;\n",
              "      height: 32px;\n",
              "      padding: 0 0 0 0;\n",
              "      width: 32px;\n",
              "    }\n",
              "\n",
              "    .colab-df-convert:hover {\n",
              "      background-color: #E2EBFA;\n",
              "      box-shadow: 0px 1px 2px rgba(60, 64, 67, 0.3), 0px 1px 3px 1px rgba(60, 64, 67, 0.15);\n",
              "      fill: #174EA6;\n",
              "    }\n",
              "\n",
              "    .colab-df-buttons div {\n",
              "      margin-bottom: 4px;\n",
              "    }\n",
              "\n",
              "    [theme=dark] .colab-df-convert {\n",
              "      background-color: #3B4455;\n",
              "      fill: #D2E3FC;\n",
              "    }\n",
              "\n",
              "    [theme=dark] .colab-df-convert:hover {\n",
              "      background-color: #434B5C;\n",
              "      box-shadow: 0px 1px 3px 1px rgba(0, 0, 0, 0.15);\n",
              "      filter: drop-shadow(0px 1px 2px rgba(0, 0, 0, 0.3));\n",
              "      fill: #FFFFFF;\n",
              "    }\n",
              "  </style>\n",
              "\n",
              "    <script>\n",
              "      const buttonEl =\n",
              "        document.querySelector('#df-d59850c9-ace0-4d76-9f1e-cf697ee08e1c button.colab-df-convert');\n",
              "      buttonEl.style.display =\n",
              "        google.colab.kernel.accessAllowed ? 'block' : 'none';\n",
              "\n",
              "      async function convertToInteractive(key) {\n",
              "        const element = document.querySelector('#df-d59850c9-ace0-4d76-9f1e-cf697ee08e1c');\n",
              "        const dataTable =\n",
              "          await google.colab.kernel.invokeFunction('convertToInteractive',\n",
              "                                                    [key], {});\n",
              "        if (!dataTable) return;\n",
              "\n",
              "        const docLinkHtml = 'Like what you see? Visit the ' +\n",
              "          '<a target=\"_blank\" href=https://colab.research.google.com/notebooks/data_table.ipynb>data table notebook</a>'\n",
              "          + ' to learn more about interactive tables.';\n",
              "        element.innerHTML = '';\n",
              "        dataTable['output_type'] = 'display_data';\n",
              "        await google.colab.output.renderOutput(dataTable, element);\n",
              "        const docLink = document.createElement('div');\n",
              "        docLink.innerHTML = docLinkHtml;\n",
              "        element.appendChild(docLink);\n",
              "      }\n",
              "    </script>\n",
              "  </div>\n",
              "\n",
              "\n",
              "<div id=\"df-fe4b9ea2-d997-46ec-aafd-b7a2f10f4ce7\">\n",
              "  <button class=\"colab-df-quickchart\" onclick=\"quickchart('df-fe4b9ea2-d997-46ec-aafd-b7a2f10f4ce7')\"\n",
              "            title=\"Suggest charts\"\n",
              "            style=\"display:none;\">\n",
              "\n",
              "<svg xmlns=\"http://www.w3.org/2000/svg\" height=\"24px\"viewBox=\"0 0 24 24\"\n",
              "     width=\"24px\">\n",
              "    <g>\n",
              "        <path d=\"M19 3H5c-1.1 0-2 .9-2 2v14c0 1.1.9 2 2 2h14c1.1 0 2-.9 2-2V5c0-1.1-.9-2-2-2zM9 17H7v-7h2v7zm4 0h-2V7h2v10zm4 0h-2v-4h2v4z\"/>\n",
              "    </g>\n",
              "</svg>\n",
              "  </button>\n",
              "\n",
              "<style>\n",
              "  .colab-df-quickchart {\n",
              "      --bg-color: #E8F0FE;\n",
              "      --fill-color: #1967D2;\n",
              "      --hover-bg-color: #E2EBFA;\n",
              "      --hover-fill-color: #174EA6;\n",
              "      --disabled-fill-color: #AAA;\n",
              "      --disabled-bg-color: #DDD;\n",
              "  }\n",
              "\n",
              "  [theme=dark] .colab-df-quickchart {\n",
              "      --bg-color: #3B4455;\n",
              "      --fill-color: #D2E3FC;\n",
              "      --hover-bg-color: #434B5C;\n",
              "      --hover-fill-color: #FFFFFF;\n",
              "      --disabled-bg-color: #3B4455;\n",
              "      --disabled-fill-color: #666;\n",
              "  }\n",
              "\n",
              "  .colab-df-quickchart {\n",
              "    background-color: var(--bg-color);\n",
              "    border: none;\n",
              "    border-radius: 50%;\n",
              "    cursor: pointer;\n",
              "    display: none;\n",
              "    fill: var(--fill-color);\n",
              "    height: 32px;\n",
              "    padding: 0;\n",
              "    width: 32px;\n",
              "  }\n",
              "\n",
              "  .colab-df-quickchart:hover {\n",
              "    background-color: var(--hover-bg-color);\n",
              "    box-shadow: 0 1px 2px rgba(60, 64, 67, 0.3), 0 1px 3px 1px rgba(60, 64, 67, 0.15);\n",
              "    fill: var(--button-hover-fill-color);\n",
              "  }\n",
              "\n",
              "  .colab-df-quickchart-complete:disabled,\n",
              "  .colab-df-quickchart-complete:disabled:hover {\n",
              "    background-color: var(--disabled-bg-color);\n",
              "    fill: var(--disabled-fill-color);\n",
              "    box-shadow: none;\n",
              "  }\n",
              "\n",
              "  .colab-df-spinner {\n",
              "    border: 2px solid var(--fill-color);\n",
              "    border-color: transparent;\n",
              "    border-bottom-color: var(--fill-color);\n",
              "    animation:\n",
              "      spin 1s steps(1) infinite;\n",
              "  }\n",
              "\n",
              "  @keyframes spin {\n",
              "    0% {\n",
              "      border-color: transparent;\n",
              "      border-bottom-color: var(--fill-color);\n",
              "      border-left-color: var(--fill-color);\n",
              "    }\n",
              "    20% {\n",
              "      border-color: transparent;\n",
              "      border-left-color: var(--fill-color);\n",
              "      border-top-color: var(--fill-color);\n",
              "    }\n",
              "    30% {\n",
              "      border-color: transparent;\n",
              "      border-left-color: var(--fill-color);\n",
              "      border-top-color: var(--fill-color);\n",
              "      border-right-color: var(--fill-color);\n",
              "    }\n",
              "    40% {\n",
              "      border-color: transparent;\n",
              "      border-right-color: var(--fill-color);\n",
              "      border-top-color: var(--fill-color);\n",
              "    }\n",
              "    60% {\n",
              "      border-color: transparent;\n",
              "      border-right-color: var(--fill-color);\n",
              "    }\n",
              "    80% {\n",
              "      border-color: transparent;\n",
              "      border-right-color: var(--fill-color);\n",
              "      border-bottom-color: var(--fill-color);\n",
              "    }\n",
              "    90% {\n",
              "      border-color: transparent;\n",
              "      border-bottom-color: var(--fill-color);\n",
              "    }\n",
              "  }\n",
              "</style>\n",
              "\n",
              "  <script>\n",
              "    async function quickchart(key) {\n",
              "      const quickchartButtonEl =\n",
              "        document.querySelector('#' + key + ' button');\n",
              "      quickchartButtonEl.disabled = true;  // To prevent multiple clicks.\n",
              "      quickchartButtonEl.classList.add('colab-df-spinner');\n",
              "      try {\n",
              "        const charts = await google.colab.kernel.invokeFunction(\n",
              "            'suggestCharts', [key], {});\n",
              "      } catch (error) {\n",
              "        console.error('Error during call to suggestCharts:', error);\n",
              "      }\n",
              "      quickchartButtonEl.classList.remove('colab-df-spinner');\n",
              "      quickchartButtonEl.classList.add('colab-df-quickchart-complete');\n",
              "    }\n",
              "    (() => {\n",
              "      let quickchartButtonEl =\n",
              "        document.querySelector('#df-fe4b9ea2-d997-46ec-aafd-b7a2f10f4ce7 button');\n",
              "      quickchartButtonEl.style.display =\n",
              "        google.colab.kernel.accessAllowed ? 'block' : 'none';\n",
              "    })();\n",
              "  </script>\n",
              "</div>\n",
              "    </div>\n",
              "  </div>\n"
            ]
          },
          "metadata": {},
          "execution_count": 43
        }
      ]
    },
    {
      "cell_type": "code",
      "source": [
        "import re\n",
        "\n",
        "def contains_multiple_occurrences(text, word, min_count=2):\n",
        "    count = len(re.findall(word, text, re.IGNORECASE))\n",
        "    return count >= min_count\n",
        "\n",
        "# Test the function\n",
        "print(contains_multiple_occurrences(\"This is a test with cum and cum again\", \"cum\"))\n"
      ],
      "metadata": {
        "colab": {
          "base_uri": "https://localhost:8080/"
        },
        "id": "dV0Y6OcPmr1V",
        "outputId": "d7c0370d-c646-4a86-af0e-c0836842b98a"
      },
      "execution_count": null,
      "outputs": [
        {
          "output_type": "stream",
          "name": "stdout",
          "text": [
            "True\n"
          ]
        }
      ]
    },
    {
      "cell_type": "code",
      "source": [
        "cleaned_nationality_filtered = pd.read_csv('cleaned_nationality_filtered.csv')"
      ],
      "metadata": {
        "id": "59AdlcSVvzNG"
      },
      "execution_count": null,
      "outputs": []
    },
    {
      "cell_type": "code",
      "source": [
        "cleaned_gender_filtered = pd.read_csv('cleaned_gender_filtered.csv')"
      ],
      "metadata": {
        "id": "30eMnocjwN8x"
      },
      "execution_count": null,
      "outputs": []
    },
    {
      "cell_type": "code",
      "source": [
        "cleaned_nationality_filtered.to_csv('cleaned_nationality_filtered.csv', index=False)\n"
      ],
      "metadata": {
        "id": "42sqEadZoUio"
      },
      "execution_count": null,
      "outputs": []
    },
    {
      "cell_type": "code",
      "source": [
        "cleaned_gender_filtered = cleaned_gender_df[~cleaned_gender_df['cleaned_post'].apply(lambda x: contains_multiple_occurrences(x, 'cum') or contains_multiple_occurrences(x, 'cunt') or contains_multiple_occurrences(x, 'cock'))]\n"
      ],
      "metadata": {
        "id": "77YP7P_ModvV"
      },
      "execution_count": null,
      "outputs": []
    },
    {
      "cell_type": "code",
      "source": [
        "cleaned_gender_filtered.to_csv('cleaned_gender_filtered.csv', index=False)"
      ],
      "metadata": {
        "id": "BU72yfVGocnk"
      },
      "execution_count": null,
      "outputs": []
    },
    {
      "cell_type": "code",
      "execution_count": null,
      "metadata": {
        "colab": {
          "base_uri": "https://localhost:8080/"
        },
        "id": "n0_xmH7AJ9lZ",
        "outputId": "5d29bb72-11ea-45b9-ab03-940186854028"
      },
      "outputs": [
        {
          "data": {
            "text/plain": [
              "author_ID       0\n",
              "post            0\n",
              "female          0\n",
              "cleaned_post    0\n",
              "dtype: int64"
            ]
          },
          "execution_count": 7,
          "metadata": {},
          "output_type": "execute_result"
        }
      ],
      "source": [
        "\n",
        "cleaned_gender_df.isnull().sum()"
      ]
    },
    {
      "cell_type": "code",
      "source": [
        "#load datasets\n",
        "cleaned_gender_filtered = pd.read_csv('cleaned_gender_filtered.csv')\n",
        "cleaned_nationality_filtered = pd.read_csv('cleaned_nationality_filtered.csv')"
      ],
      "metadata": {
        "id": "i5cXbO3Hoyx_"
      },
      "execution_count": null,
      "outputs": []
    },
    {
      "cell_type": "code",
      "source": [
        "cleaned_nationality_filtered = cleaned_nationality_df[~cleaned_nationality_df['cleaned_post'].apply(lambda x: contains_multiple_occurrences(x, 'cock'))]\n"
      ],
      "metadata": {
        "id": "6V8e4X7NthYq"
      },
      "execution_count": null,
      "outputs": []
    },
    {
      "cell_type": "code",
      "source": [
        "cleaned_nationality_filtered = pd.read_csv('cleaned_nationality_filtered.csv')"
      ],
      "metadata": {
        "id": "C4G4D9m0t7JS"
      },
      "execution_count": null,
      "outputs": []
    },
    {
      "cell_type": "code",
      "source": [
        "cleaned_gender_filtered.describe()"
      ],
      "metadata": {
        "colab": {
          "base_uri": "https://localhost:8080/"
        },
        "id": "-LLJSNhJsTMx",
        "outputId": "c861cc08-db25-4293-c2ef-a04a4deb156f"
      },
      "execution_count": null,
      "outputs": [
        {
          "output_type": "stream",
          "name": "stdout",
          "text": [
            "<class 'pandas.core.frame.DataFrame'>\n",
            "RangeIndex: 83158 entries, 0 to 83157\n",
            "Data columns (total 4 columns):\n",
            " #   Column        Non-Null Count  Dtype \n",
            "---  ------        --------------  ----- \n",
            " 0   author_ID     83158 non-null  object\n",
            " 1   post          83158 non-null  object\n",
            " 2   female        83158 non-null  int64 \n",
            " 3   cleaned_post  83158 non-null  object\n",
            "dtypes: int64(1), object(3)\n",
            "memory usage: 2.5+ MB\n"
          ]
        }
      ]
    },
    {
      "cell_type": "code",
      "execution_count": null,
      "metadata": {
        "id": "6i2qdTYL6Rhe"
      },
      "outputs": [],
      "source": [
        "#rename column name\n",
        "#gender_df.rename(columns={'auhtor_ID':'author_ID'}, inplace=True)\n",
        "#nationality_df.rename(columns={'auhtor_ID':'author_ID'}, inplace=True)"
      ]
    },
    {
      "cell_type": "markdown",
      "metadata": {
        "id": "kJiNxqNT0ixL"
      },
      "source": [
        "Data Preprocessing (cleaning)"
      ]
    },
    {
      "cell_type": "code",
      "execution_count": null,
      "metadata": {
        "id": "Hzhm0EJJl25n"
      },
      "outputs": [],
      "source": [
        "#Precompile the regex pattern\n",
        "whitespace_re = re.compile(r'\\s+')\n",
        "\n",
        "#clean_text function\n",
        "nlp = spacy.load('en_core_web_sm', disable=['parser', 'ner'])\n",
        "def clean_text(text):\n",
        "    text = whitespace_re.sub(' ', text)\n",
        "    text = text.lower()\n",
        "    return ' '.join([token.lemma_ for token in nlp(text) if not token.is_stop and not token.is_punct and not token.is_space])\n",
        "\n"
      ]
    },
    {
      "cell_type": "code",
      "execution_count": null,
      "metadata": {
        "id": "USLxHGmamk-j"
      },
      "outputs": [],
      "source": [
        "# Batch Text Processing\n",
        "batch_size = 10000  #\n",
        "for start in range(0, len(gender_df), batch_size):\n",
        "    end = min(start + batch_size, len(gender_df))\n",
        "    gender_df.loc[start:end, 'cleaned_post'] = gender_df.loc[start:end, 'post'].apply(clean_text)"
      ]
    },
    {
      "cell_type": "code",
      "execution_count": null,
      "metadata": {
        "id": "komjKqDYPLWk"
      },
      "outputs": [],
      "source": [
        "#save the cleaned version to prevent headache\n",
        "gender_df.to_csv('/content/drive/MyDrive/Colab Notebooks/cleaned_gender_df.csv', index=False)\n"
      ]
    },
    {
      "cell_type": "code",
      "execution_count": null,
      "metadata": {
        "id": "zsfs1yaLStRb"
      },
      "outputs": [],
      "source": [
        "# Batch Text Processing\n",
        "batch_size = 10000\n",
        "for start in range(0, len(nationality_df), batch_size):\n",
        "    end = min(start + batch_size, len(nationality_df))\n",
        "    nationality_df.loc[start:end, 'cleaned_post'] = nationality_df.loc[start:end, 'post'].apply(clean_text)"
      ]
    },
    {
      "cell_type": "code",
      "execution_count": null,
      "metadata": {
        "id": "Z7UDzDewSna_"
      },
      "outputs": [],
      "source": [
        "#save the cleaned version to prevent headache\n",
        "nationality_df.to_csv('/content/drive/MyDrive/Colab Notebooks/cleaned_nationality_df.csv', index=False)"
      ]
    },
    {
      "cell_type": "code",
      "execution_count": null,
      "metadata": {
        "colab": {
          "base_uri": "https://localhost:8080/"
        },
        "id": "CrYKfIE3Sday",
        "outputId": "18682efb-89af-4706-e110-ecf808e48bae"
      },
      "outputs": [
        {
          "name": "stdout",
          "output_type": "stream",
          "text": [
            "<class 'pandas.core.frame.DataFrame'>\n",
            "RangeIndex: 89272 entries, 0 to 89271\n",
            "Data columns (total 4 columns):\n",
            " #   Column        Non-Null Count  Dtype \n",
            "---  ------        --------------  ----- \n",
            " 0   author_ID     89272 non-null  object\n",
            " 1   post          89272 non-null  object\n",
            " 2   female        89272 non-null  int64 \n",
            " 3   cleaned_post  89272 non-null  object\n",
            "dtypes: int64(1), object(3)\n",
            "memory usage: 2.7+ MB\n"
          ]
        }
      ],
      "source": [
        "gender_df.info()"
      ]
    },
    {
      "cell_type": "code",
      "execution_count": null,
      "metadata": {
        "id": "tJ7obmYQQKPh"
      },
      "outputs": [],
      "source": [
        "cleaned_nationality_df = pd.read_csv('cleaned_nationality_df.csv')"
      ]
    },
    {
      "cell_type": "code",
      "execution_count": null,
      "metadata": {
        "colab": {
          "base_uri": "https://localhost:8080/"
        },
        "id": "ZxO37qcUQqds",
        "outputId": "a3ee1153-e863-46aa-e877-134fc2dc70fe"
      },
      "outputs": [
        {
          "name": "stdout",
          "output_type": "stream",
          "text": [
            "<class 'pandas.core.frame.DataFrame'>\n",
            "RangeIndex: 89272 entries, 0 to 89271\n",
            "Data columns (total 4 columns):\n",
            " #   Column        Non-Null Count  Dtype \n",
            "---  ------        --------------  ----- \n",
            " 0   author_ID     89272 non-null  object\n",
            " 1   post          89272 non-null  object\n",
            " 2   female        89272 non-null  int64 \n",
            " 3   cleaned_post  89272 non-null  object\n",
            "dtypes: int64(1), object(3)\n",
            "memory usage: 2.7+ MB\n"
          ]
        }
      ],
      "source": [
        "cleaned_gender_df.info()\n",
        "#cleaned_nationality_df.info()"
      ]
    },
    {
      "cell_type": "code",
      "source": [
        "cleaned_gender_filtered[cleaned_gender_filtered['cleaned_post'].str.contains('', case=False, na=False)]"
      ],
      "metadata": {
        "colab": {
          "base_uri": "https://localhost:8080/",
          "height": 73
        },
        "id": "W3Od2BZmLeQk",
        "outputId": "0c4d8080-4314-48f2-d296-b94f3092de3d"
      },
      "execution_count": null,
      "outputs": [
        {
          "output_type": "execute_result",
          "data": {
            "text/plain": [
              "Empty DataFrame\n",
              "Columns: [author_ID, post, female, cleaned_post]\n",
              "Index: []"
            ],
            "text/html": [
              "\n",
              "  <div id=\"df-51a6302b-0500-4d73-9856-169e99f0fece\" class=\"colab-df-container\">\n",
              "    <div>\n",
              "<style scoped>\n",
              "    .dataframe tbody tr th:only-of-type {\n",
              "        vertical-align: middle;\n",
              "    }\n",
              "\n",
              "    .dataframe tbody tr th {\n",
              "        vertical-align: top;\n",
              "    }\n",
              "\n",
              "    .dataframe thead th {\n",
              "        text-align: right;\n",
              "    }\n",
              "</style>\n",
              "<table border=\"1\" class=\"dataframe\">\n",
              "  <thead>\n",
              "    <tr style=\"text-align: right;\">\n",
              "      <th></th>\n",
              "      <th>author_ID</th>\n",
              "      <th>post</th>\n",
              "      <th>female</th>\n",
              "      <th>cleaned_post</th>\n",
              "    </tr>\n",
              "  </thead>\n",
              "  <tbody>\n",
              "  </tbody>\n",
              "</table>\n",
              "</div>\n",
              "    <div class=\"colab-df-buttons\">\n",
              "\n",
              "  <div class=\"colab-df-container\">\n",
              "    <button class=\"colab-df-convert\" onclick=\"convertToInteractive('df-51a6302b-0500-4d73-9856-169e99f0fece')\"\n",
              "            title=\"Convert this dataframe to an interactive table.\"\n",
              "            style=\"display:none;\">\n",
              "\n",
              "  <svg xmlns=\"http://www.w3.org/2000/svg\" height=\"24px\" viewBox=\"0 -960 960 960\">\n",
              "    <path d=\"M120-120v-720h720v720H120Zm60-500h600v-160H180v160Zm220 220h160v-160H400v160Zm0 220h160v-160H400v160ZM180-400h160v-160H180v160Zm440 0h160v-160H620v160ZM180-180h160v-160H180v160Zm440 0h160v-160H620v160Z\"/>\n",
              "  </svg>\n",
              "    </button>\n",
              "\n",
              "  <style>\n",
              "    .colab-df-container {\n",
              "      display:flex;\n",
              "      gap: 12px;\n",
              "    }\n",
              "\n",
              "    .colab-df-convert {\n",
              "      background-color: #E8F0FE;\n",
              "      border: none;\n",
              "      border-radius: 50%;\n",
              "      cursor: pointer;\n",
              "      display: none;\n",
              "      fill: #1967D2;\n",
              "      height: 32px;\n",
              "      padding: 0 0 0 0;\n",
              "      width: 32px;\n",
              "    }\n",
              "\n",
              "    .colab-df-convert:hover {\n",
              "      background-color: #E2EBFA;\n",
              "      box-shadow: 0px 1px 2px rgba(60, 64, 67, 0.3), 0px 1px 3px 1px rgba(60, 64, 67, 0.15);\n",
              "      fill: #174EA6;\n",
              "    }\n",
              "\n",
              "    .colab-df-buttons div {\n",
              "      margin-bottom: 4px;\n",
              "    }\n",
              "\n",
              "    [theme=dark] .colab-df-convert {\n",
              "      background-color: #3B4455;\n",
              "      fill: #D2E3FC;\n",
              "    }\n",
              "\n",
              "    [theme=dark] .colab-df-convert:hover {\n",
              "      background-color: #434B5C;\n",
              "      box-shadow: 0px 1px 3px 1px rgba(0, 0, 0, 0.15);\n",
              "      filter: drop-shadow(0px 1px 2px rgba(0, 0, 0, 0.3));\n",
              "      fill: #FFFFFF;\n",
              "    }\n",
              "  </style>\n",
              "\n",
              "    <script>\n",
              "      const buttonEl =\n",
              "        document.querySelector('#df-51a6302b-0500-4d73-9856-169e99f0fece button.colab-df-convert');\n",
              "      buttonEl.style.display =\n",
              "        google.colab.kernel.accessAllowed ? 'block' : 'none';\n",
              "\n",
              "      async function convertToInteractive(key) {\n",
              "        const element = document.querySelector('#df-51a6302b-0500-4d73-9856-169e99f0fece');\n",
              "        const dataTable =\n",
              "          await google.colab.kernel.invokeFunction('convertToInteractive',\n",
              "                                                    [key], {});\n",
              "        if (!dataTable) return;\n",
              "\n",
              "        const docLinkHtml = 'Like what you see? Visit the ' +\n",
              "          '<a target=\"_blank\" href=https://colab.research.google.com/notebooks/data_table.ipynb>data table notebook</a>'\n",
              "          + ' to learn more about interactive tables.';\n",
              "        element.innerHTML = '';\n",
              "        dataTable['output_type'] = 'display_data';\n",
              "        await google.colab.output.renderOutput(dataTable, element);\n",
              "        const docLink = document.createElement('div');\n",
              "        docLink.innerHTML = docLinkHtml;\n",
              "        element.appendChild(docLink);\n",
              "      }\n",
              "    </script>\n",
              "  </div>\n",
              "\n",
              "    </div>\n",
              "  </div>\n"
            ]
          },
          "metadata": {},
          "execution_count": 68
        }
      ]
    },
    {
      "cell_type": "code",
      "source": [
        "#before eda, lets check if there are other words repeating\n",
        "\n",
        "def is_repeating_word(text):\n",
        "    if not text or pd.isna(text):\n",
        "        return False\n",
        "    words = text.split()\n",
        "    return len(set(words)) == 1\n"
      ],
      "metadata": {
        "id": "SBCADfMoMlmW"
      },
      "execution_count": null,
      "outputs": []
    },
    {
      "cell_type": "code",
      "source": [
        "cleaned_nationality_filtered['is_repeating'] = cleaned_nationality_filtered['cleaned_post'].apply(is_repeating_word)\n"
      ],
      "metadata": {
        "id": "gF3Q-c8gMp1w"
      },
      "execution_count": null,
      "outputs": []
    },
    {
      "cell_type": "code",
      "source": [
        "repeating_posts = cleaned_nationality_filtered[cleaned_nationality_filtered['is_repeating']]\n",
        "repeating_posts"
      ],
      "metadata": {
        "colab": {
          "base_uri": "https://localhost:8080/",
          "height": 433
        },
        "id": "XSzhR0BHM-g1",
        "outputId": "ebda21f7-217a-4157-d66b-778b97fa063a"
      },
      "execution_count": null,
      "outputs": [
        {
          "output_type": "execute_result",
          "data": {
            "text/plain": [
              "        Unnamed: 0    author_ID  \\\n",
              "36305        36486  t2_43mndzop   \n",
              "36306        36487  t2_43mndzop   \n",
              "41559        41768    t2_17hy0m   \n",
              "41563        41772    t2_17hy0m   \n",
              "78175        78615  t2_a01olqgn   \n",
              "...            ...          ...   \n",
              "162863      164052  t2_2m5smgve   \n",
              "163539      164734  t2_5hsvspwy   \n",
              "163540      164735  t2_5hsvspwy   \n",
              "163541      164736  t2_5hsvspwy   \n",
              "163542      164737  t2_5hsvspwy   \n",
              "\n",
              "                                                     post nationality  \\\n",
              "36305   Fuck Fuck Fuck Fuck Fuck Fuck Fuck Fuck fuck f...       Italy   \n",
              "36306   Fuck Fuck Fuck Fuck Fuck Fuck Fuck Fuck fuck f...       Italy   \n",
              "41559   piss piss piss piss Piss piss piss piss piss P...         USA   \n",
              "41563   Cum Cum Cum Cum Cum Cum Cum Cum Cum Cum Cum Cu...         USA   \n",
              "78175   cum cum cum cum cum cum cum cum cum cum cum cu...     Ukraine   \n",
              "...                                                   ...         ...   \n",
              "162863  cum cum cum cum cum cum cum cum cum cum cum cu...      Poland   \n",
              "163539  cum cum cum cum cum cum cum cum cum cum cum cu...      Poland   \n",
              "163540  cum cum cum cum cum cum cum cum cum cum cum cu...      Poland   \n",
              "163541  cum cum cum cum cum cum cum cum cum cum cum cu...      Poland   \n",
              "163542  cum cum cum cum cum cum cum cum cum cum cum cu...      Poland   \n",
              "\n",
              "                                             cleaned_post  is_repeating  \n",
              "36305   fuck fuck fuck fuck fuck fuck fuck fuck fuck f...          True  \n",
              "36306   fuck fuck fuck fuck fuck fuck fuck fuck fuck f...          True  \n",
              "41559   piss piss piss piss piss piss piss piss piss p...          True  \n",
              "41563   cum cum cum cum cum cum cum cum cum cum cum cu...          True  \n",
              "78175   cum cum cum cum cum cum cum cum cum cum cum cu...          True  \n",
              "...                                                   ...           ...  \n",
              "162863  cum cum cum cum cum cum cum cum cum cum cum cu...          True  \n",
              "163539  cum cum cum cum cum cum cum cum cum cum cum cu...          True  \n",
              "163540  cum cum cum cum cum cum cum cum cum cum cum cu...          True  \n",
              "163541  cum cum cum cum cum cum cum cum cum cum cum cu...          True  \n",
              "163542  cum cum cum cum cum cum cum cum cum cum cum cu...          True  \n",
              "\n",
              "[107 rows x 6 columns]"
            ],
            "text/html": [
              "\n",
              "  <div id=\"df-e9210478-4133-47a6-bd23-1ff3ae5038d6\" class=\"colab-df-container\">\n",
              "    <div>\n",
              "<style scoped>\n",
              "    .dataframe tbody tr th:only-of-type {\n",
              "        vertical-align: middle;\n",
              "    }\n",
              "\n",
              "    .dataframe tbody tr th {\n",
              "        vertical-align: top;\n",
              "    }\n",
              "\n",
              "    .dataframe thead th {\n",
              "        text-align: right;\n",
              "    }\n",
              "</style>\n",
              "<table border=\"1\" class=\"dataframe\">\n",
              "  <thead>\n",
              "    <tr style=\"text-align: right;\">\n",
              "      <th></th>\n",
              "      <th>Unnamed: 0</th>\n",
              "      <th>author_ID</th>\n",
              "      <th>post</th>\n",
              "      <th>nationality</th>\n",
              "      <th>cleaned_post</th>\n",
              "      <th>is_repeating</th>\n",
              "    </tr>\n",
              "  </thead>\n",
              "  <tbody>\n",
              "    <tr>\n",
              "      <th>36305</th>\n",
              "      <td>36486</td>\n",
              "      <td>t2_43mndzop</td>\n",
              "      <td>Fuck Fuck Fuck Fuck Fuck Fuck Fuck Fuck fuck f...</td>\n",
              "      <td>Italy</td>\n",
              "      <td>fuck fuck fuck fuck fuck fuck fuck fuck fuck f...</td>\n",
              "      <td>True</td>\n",
              "    </tr>\n",
              "    <tr>\n",
              "      <th>36306</th>\n",
              "      <td>36487</td>\n",
              "      <td>t2_43mndzop</td>\n",
              "      <td>Fuck Fuck Fuck Fuck Fuck Fuck Fuck Fuck fuck f...</td>\n",
              "      <td>Italy</td>\n",
              "      <td>fuck fuck fuck fuck fuck fuck fuck fuck fuck f...</td>\n",
              "      <td>True</td>\n",
              "    </tr>\n",
              "    <tr>\n",
              "      <th>41559</th>\n",
              "      <td>41768</td>\n",
              "      <td>t2_17hy0m</td>\n",
              "      <td>piss piss piss piss Piss piss piss piss piss P...</td>\n",
              "      <td>USA</td>\n",
              "      <td>piss piss piss piss piss piss piss piss piss p...</td>\n",
              "      <td>True</td>\n",
              "    </tr>\n",
              "    <tr>\n",
              "      <th>41563</th>\n",
              "      <td>41772</td>\n",
              "      <td>t2_17hy0m</td>\n",
              "      <td>Cum Cum Cum Cum Cum Cum Cum Cum Cum Cum Cum Cu...</td>\n",
              "      <td>USA</td>\n",
              "      <td>cum cum cum cum cum cum cum cum cum cum cum cu...</td>\n",
              "      <td>True</td>\n",
              "    </tr>\n",
              "    <tr>\n",
              "      <th>78175</th>\n",
              "      <td>78615</td>\n",
              "      <td>t2_a01olqgn</td>\n",
              "      <td>cum cum cum cum cum cum cum cum cum cum cum cu...</td>\n",
              "      <td>Ukraine</td>\n",
              "      <td>cum cum cum cum cum cum cum cum cum cum cum cu...</td>\n",
              "      <td>True</td>\n",
              "    </tr>\n",
              "    <tr>\n",
              "      <th>...</th>\n",
              "      <td>...</td>\n",
              "      <td>...</td>\n",
              "      <td>...</td>\n",
              "      <td>...</td>\n",
              "      <td>...</td>\n",
              "      <td>...</td>\n",
              "    </tr>\n",
              "    <tr>\n",
              "      <th>162863</th>\n",
              "      <td>164052</td>\n",
              "      <td>t2_2m5smgve</td>\n",
              "      <td>cum cum cum cum cum cum cum cum cum cum cum cu...</td>\n",
              "      <td>Poland</td>\n",
              "      <td>cum cum cum cum cum cum cum cum cum cum cum cu...</td>\n",
              "      <td>True</td>\n",
              "    </tr>\n",
              "    <tr>\n",
              "      <th>163539</th>\n",
              "      <td>164734</td>\n",
              "      <td>t2_5hsvspwy</td>\n",
              "      <td>cum cum cum cum cum cum cum cum cum cum cum cu...</td>\n",
              "      <td>Poland</td>\n",
              "      <td>cum cum cum cum cum cum cum cum cum cum cum cu...</td>\n",
              "      <td>True</td>\n",
              "    </tr>\n",
              "    <tr>\n",
              "      <th>163540</th>\n",
              "      <td>164735</td>\n",
              "      <td>t2_5hsvspwy</td>\n",
              "      <td>cum cum cum cum cum cum cum cum cum cum cum cu...</td>\n",
              "      <td>Poland</td>\n",
              "      <td>cum cum cum cum cum cum cum cum cum cum cum cu...</td>\n",
              "      <td>True</td>\n",
              "    </tr>\n",
              "    <tr>\n",
              "      <th>163541</th>\n",
              "      <td>164736</td>\n",
              "      <td>t2_5hsvspwy</td>\n",
              "      <td>cum cum cum cum cum cum cum cum cum cum cum cu...</td>\n",
              "      <td>Poland</td>\n",
              "      <td>cum cum cum cum cum cum cum cum cum cum cum cu...</td>\n",
              "      <td>True</td>\n",
              "    </tr>\n",
              "    <tr>\n",
              "      <th>163542</th>\n",
              "      <td>164737</td>\n",
              "      <td>t2_5hsvspwy</td>\n",
              "      <td>cum cum cum cum cum cum cum cum cum cum cum cu...</td>\n",
              "      <td>Poland</td>\n",
              "      <td>cum cum cum cum cum cum cum cum cum cum cum cu...</td>\n",
              "      <td>True</td>\n",
              "    </tr>\n",
              "  </tbody>\n",
              "</table>\n",
              "<p>107 rows × 6 columns</p>\n",
              "</div>\n",
              "    <div class=\"colab-df-buttons\">\n",
              "\n",
              "  <div class=\"colab-df-container\">\n",
              "    <button class=\"colab-df-convert\" onclick=\"convertToInteractive('df-e9210478-4133-47a6-bd23-1ff3ae5038d6')\"\n",
              "            title=\"Convert this dataframe to an interactive table.\"\n",
              "            style=\"display:none;\">\n",
              "\n",
              "  <svg xmlns=\"http://www.w3.org/2000/svg\" height=\"24px\" viewBox=\"0 -960 960 960\">\n",
              "    <path d=\"M120-120v-720h720v720H120Zm60-500h600v-160H180v160Zm220 220h160v-160H400v160Zm0 220h160v-160H400v160ZM180-400h160v-160H180v160Zm440 0h160v-160H620v160ZM180-180h160v-160H180v160Zm440 0h160v-160H620v160Z\"/>\n",
              "  </svg>\n",
              "    </button>\n",
              "\n",
              "  <style>\n",
              "    .colab-df-container {\n",
              "      display:flex;\n",
              "      gap: 12px;\n",
              "    }\n",
              "\n",
              "    .colab-df-convert {\n",
              "      background-color: #E8F0FE;\n",
              "      border: none;\n",
              "      border-radius: 50%;\n",
              "      cursor: pointer;\n",
              "      display: none;\n",
              "      fill: #1967D2;\n",
              "      height: 32px;\n",
              "      padding: 0 0 0 0;\n",
              "      width: 32px;\n",
              "    }\n",
              "\n",
              "    .colab-df-convert:hover {\n",
              "      background-color: #E2EBFA;\n",
              "      box-shadow: 0px 1px 2px rgba(60, 64, 67, 0.3), 0px 1px 3px 1px rgba(60, 64, 67, 0.15);\n",
              "      fill: #174EA6;\n",
              "    }\n",
              "\n",
              "    .colab-df-buttons div {\n",
              "      margin-bottom: 4px;\n",
              "    }\n",
              "\n",
              "    [theme=dark] .colab-df-convert {\n",
              "      background-color: #3B4455;\n",
              "      fill: #D2E3FC;\n",
              "    }\n",
              "\n",
              "    [theme=dark] .colab-df-convert:hover {\n",
              "      background-color: #434B5C;\n",
              "      box-shadow: 0px 1px 3px 1px rgba(0, 0, 0, 0.15);\n",
              "      filter: drop-shadow(0px 1px 2px rgba(0, 0, 0, 0.3));\n",
              "      fill: #FFFFFF;\n",
              "    }\n",
              "  </style>\n",
              "\n",
              "    <script>\n",
              "      const buttonEl =\n",
              "        document.querySelector('#df-e9210478-4133-47a6-bd23-1ff3ae5038d6 button.colab-df-convert');\n",
              "      buttonEl.style.display =\n",
              "        google.colab.kernel.accessAllowed ? 'block' : 'none';\n",
              "\n",
              "      async function convertToInteractive(key) {\n",
              "        const element = document.querySelector('#df-e9210478-4133-47a6-bd23-1ff3ae5038d6');\n",
              "        const dataTable =\n",
              "          await google.colab.kernel.invokeFunction('convertToInteractive',\n",
              "                                                    [key], {});\n",
              "        if (!dataTable) return;\n",
              "\n",
              "        const docLinkHtml = 'Like what you see? Visit the ' +\n",
              "          '<a target=\"_blank\" href=https://colab.research.google.com/notebooks/data_table.ipynb>data table notebook</a>'\n",
              "          + ' to learn more about interactive tables.';\n",
              "        element.innerHTML = '';\n",
              "        dataTable['output_type'] = 'display_data';\n",
              "        await google.colab.output.renderOutput(dataTable, element);\n",
              "        const docLink = document.createElement('div');\n",
              "        docLink.innerHTML = docLinkHtml;\n",
              "        element.appendChild(docLink);\n",
              "      }\n",
              "    </script>\n",
              "  </div>\n",
              "\n",
              "\n",
              "<div id=\"df-f8445f3a-13f3-4821-ae9d-afd7c4a11123\">\n",
              "  <button class=\"colab-df-quickchart\" onclick=\"quickchart('df-f8445f3a-13f3-4821-ae9d-afd7c4a11123')\"\n",
              "            title=\"Suggest charts\"\n",
              "            style=\"display:none;\">\n",
              "\n",
              "<svg xmlns=\"http://www.w3.org/2000/svg\" height=\"24px\"viewBox=\"0 0 24 24\"\n",
              "     width=\"24px\">\n",
              "    <g>\n",
              "        <path d=\"M19 3H5c-1.1 0-2 .9-2 2v14c0 1.1.9 2 2 2h14c1.1 0 2-.9 2-2V5c0-1.1-.9-2-2-2zM9 17H7v-7h2v7zm4 0h-2V7h2v10zm4 0h-2v-4h2v4z\"/>\n",
              "    </g>\n",
              "</svg>\n",
              "  </button>\n",
              "\n",
              "<style>\n",
              "  .colab-df-quickchart {\n",
              "      --bg-color: #E8F0FE;\n",
              "      --fill-color: #1967D2;\n",
              "      --hover-bg-color: #E2EBFA;\n",
              "      --hover-fill-color: #174EA6;\n",
              "      --disabled-fill-color: #AAA;\n",
              "      --disabled-bg-color: #DDD;\n",
              "  }\n",
              "\n",
              "  [theme=dark] .colab-df-quickchart {\n",
              "      --bg-color: #3B4455;\n",
              "      --fill-color: #D2E3FC;\n",
              "      --hover-bg-color: #434B5C;\n",
              "      --hover-fill-color: #FFFFFF;\n",
              "      --disabled-bg-color: #3B4455;\n",
              "      --disabled-fill-color: #666;\n",
              "  }\n",
              "\n",
              "  .colab-df-quickchart {\n",
              "    background-color: var(--bg-color);\n",
              "    border: none;\n",
              "    border-radius: 50%;\n",
              "    cursor: pointer;\n",
              "    display: none;\n",
              "    fill: var(--fill-color);\n",
              "    height: 32px;\n",
              "    padding: 0;\n",
              "    width: 32px;\n",
              "  }\n",
              "\n",
              "  .colab-df-quickchart:hover {\n",
              "    background-color: var(--hover-bg-color);\n",
              "    box-shadow: 0 1px 2px rgba(60, 64, 67, 0.3), 0 1px 3px 1px rgba(60, 64, 67, 0.15);\n",
              "    fill: var(--button-hover-fill-color);\n",
              "  }\n",
              "\n",
              "  .colab-df-quickchart-complete:disabled,\n",
              "  .colab-df-quickchart-complete:disabled:hover {\n",
              "    background-color: var(--disabled-bg-color);\n",
              "    fill: var(--disabled-fill-color);\n",
              "    box-shadow: none;\n",
              "  }\n",
              "\n",
              "  .colab-df-spinner {\n",
              "    border: 2px solid var(--fill-color);\n",
              "    border-color: transparent;\n",
              "    border-bottom-color: var(--fill-color);\n",
              "    animation:\n",
              "      spin 1s steps(1) infinite;\n",
              "  }\n",
              "\n",
              "  @keyframes spin {\n",
              "    0% {\n",
              "      border-color: transparent;\n",
              "      border-bottom-color: var(--fill-color);\n",
              "      border-left-color: var(--fill-color);\n",
              "    }\n",
              "    20% {\n",
              "      border-color: transparent;\n",
              "      border-left-color: var(--fill-color);\n",
              "      border-top-color: var(--fill-color);\n",
              "    }\n",
              "    30% {\n",
              "      border-color: transparent;\n",
              "      border-left-color: var(--fill-color);\n",
              "      border-top-color: var(--fill-color);\n",
              "      border-right-color: var(--fill-color);\n",
              "    }\n",
              "    40% {\n",
              "      border-color: transparent;\n",
              "      border-right-color: var(--fill-color);\n",
              "      border-top-color: var(--fill-color);\n",
              "    }\n",
              "    60% {\n",
              "      border-color: transparent;\n",
              "      border-right-color: var(--fill-color);\n",
              "    }\n",
              "    80% {\n",
              "      border-color: transparent;\n",
              "      border-right-color: var(--fill-color);\n",
              "      border-bottom-color: var(--fill-color);\n",
              "    }\n",
              "    90% {\n",
              "      border-color: transparent;\n",
              "      border-bottom-color: var(--fill-color);\n",
              "    }\n",
              "  }\n",
              "</style>\n",
              "\n",
              "  <script>\n",
              "    async function quickchart(key) {\n",
              "      const quickchartButtonEl =\n",
              "        document.querySelector('#' + key + ' button');\n",
              "      quickchartButtonEl.disabled = true;  // To prevent multiple clicks.\n",
              "      quickchartButtonEl.classList.add('colab-df-spinner');\n",
              "      try {\n",
              "        const charts = await google.colab.kernel.invokeFunction(\n",
              "            'suggestCharts', [key], {});\n",
              "      } catch (error) {\n",
              "        console.error('Error during call to suggestCharts:', error);\n",
              "      }\n",
              "      quickchartButtonEl.classList.remove('colab-df-spinner');\n",
              "      quickchartButtonEl.classList.add('colab-df-quickchart-complete');\n",
              "    }\n",
              "    (() => {\n",
              "      let quickchartButtonEl =\n",
              "        document.querySelector('#df-f8445f3a-13f3-4821-ae9d-afd7c4a11123 button');\n",
              "      quickchartButtonEl.style.display =\n",
              "        google.colab.kernel.accessAllowed ? 'block' : 'none';\n",
              "    })();\n",
              "  </script>\n",
              "</div>\n",
              "    </div>\n",
              "  </div>\n"
            ]
          },
          "metadata": {},
          "execution_count": 10
        }
      ]
    },
    {
      "cell_type": "code",
      "source": [
        "cleaned_nationality_filtered = cleaned_nationality_filtered[~cleaned_nationality_filtered ['cleaned_post'].apply(is_repeating_word)]\n"
      ],
      "metadata": {
        "id": "TLHW6uZ5OQcf"
      },
      "execution_count": null,
      "outputs": []
    },
    {
      "cell_type": "code",
      "source": [
        "cleaned_nationality_filtered.to_csv('cleaned_nationality_filtered.csv')"
      ],
      "metadata": {
        "id": "p8PWzt5uOyp2"
      },
      "execution_count": null,
      "outputs": []
    },
    {
      "cell_type": "code",
      "source": [
        "cleaned_gender_filtered['is_repeating'] = cleaned_gender_filtered['cleaned_post'].apply(is_repeating_word)\n"
      ],
      "metadata": {
        "id": "s8UTLglrMyOW"
      },
      "execution_count": null,
      "outputs": []
    },
    {
      "cell_type": "code",
      "source": [
        "cleaned_gender_filtered.to_csv('cleaned_gender_filtered.csv')"
      ],
      "metadata": {
        "id": "PbD0wUX7xlOy"
      },
      "execution_count": null,
      "outputs": []
    },
    {
      "cell_type": "code",
      "source": [
        "cleaned_gender_filtered = pd.read_csv('cleaned_gender_filtered.csv')"
      ],
      "metadata": {
        "id": "NGzznhElNGuE"
      },
      "execution_count": null,
      "outputs": []
    },
    {
      "cell_type": "code",
      "source": [
        "cleaned_nationality_filtered = pd.read_csv('cleaned_nationality_filtered.csv')"
      ],
      "metadata": {
        "id": "fDOU2JlgNNPc"
      },
      "execution_count": null,
      "outputs": []
    },
    {
      "cell_type": "markdown",
      "metadata": {
        "id": "XVPSl8de0qIt"
      },
      "source": [
        "Exploratory Data Analysis"
      ]
    },
    {
      "cell_type": "code",
      "execution_count": null,
      "metadata": {
        "colab": {
          "base_uri": "https://localhost:8080/"
        },
        "id": "9SPjnyOTrWBb",
        "outputId": "081d5f4e-7530-4c8d-f6c1-b1ff78496b39"
      },
      "outputs": [
        {
          "output_type": "stream",
          "name": "stdout",
          "text": [
            "   Count  Percentage\n",
            "0  42887   51.572909\n",
            "1  40271   48.427091\n"
          ]
        }
      ],
      "source": [
        "# Count the occurrences of each gender\n",
        "gender_counts = cleaned_gender_filtered['female'].value_counts()\n",
        "\n",
        "# Calculate the percentage of each gender\n",
        "gender_percentage = cleaned_gender_filtered['female'].value_counts(normalize=True) * 100\n",
        "\n",
        "# Create a DataFrame to display counts and percentages side by side\n",
        "gender_distribution = pd.DataFrame({'Count': gender_counts, 'Percentage': gender_percentage})\n",
        "\n",
        "\n",
        "print(gender_distribution)\n"
      ]
    },
    {
      "cell_type": "code",
      "execution_count": null,
      "metadata": {
        "colab": {
          "base_uri": "https://localhost:8080/"
        },
        "id": "acIOsPBjqqL1",
        "outputId": "e0ef08b6-584e-4368-a894-ef6bd54c71dc"
      },
      "outputs": [
        {
          "output_type": "stream",
          "name": "stdout",
          "text": [
            "0    42887\n",
            "1    40271\n",
            "Name: female, dtype: int64\n"
          ]
        }
      ],
      "source": [
        "class_counts = cleaned_gender_filtered['female'].value_counts()\n",
        "print(class_counts)\n"
      ]
    },
    {
      "cell_type": "code",
      "execution_count": null,
      "metadata": {
        "colab": {
          "base_uri": "https://localhost:8080/",
          "height": 480
        },
        "id": "1r1iNbxqQ8pd",
        "outputId": "1ba523b6-bd30-4ee7-e9a9-519d8cb1119a"
      },
      "outputs": [
        {
          "output_type": "stream",
          "name": "stdout",
          "text": [
            "Total number of posts: 83158\n",
            "Number of posts by females: 40271\n",
            "Number of posts by males: 42887\n"
          ]
        },
        {
          "output_type": "display_data",
          "data": {
            "text/plain": [
              "<Figure size 600x400 with 1 Axes>"
            ],
            "image/png": "[encoded data removed]"
          },
          "metadata": {}
        }
      ],
      "source": [
        "import matplotlib.pyplot as plt\n",
        "import seaborn as sns\n",
        "\n",
        "# Numerical summary\n",
        "total_posts = len(cleaned_gender_filtered)\n",
        "num_female_posts = cleaned_gender_filtered['female'].sum()\n",
        "num_male_posts = total_posts - num_female_posts\n",
        "\n",
        "print(f\"Total number of posts: {total_posts}\")\n",
        "print(f\"Number of posts by females: {num_female_posts}\")\n",
        "print(f\"Number of posts by males: {num_male_posts}\")\n",
        "\n",
        "# Visual representation\n",
        "gender_counts = cleaned_gender_filtered['female'].value_counts()\n",
        "plt.figure(figsize=(6, 4))\n",
        "sns.barplot(x=gender_counts.index, palette=['skyblue', 'darkblue'], y=gender_counts.values)\n",
        "plt.title('Posts by Gender')\n",
        "plt.xticks([0, 1], ['Male', 'Female'])\n",
        "plt.xlabel('Gender')\n",
        "plt.ylabel('Number of Posts')\n",
        "plt.show()\n"
      ]
    },
    {
      "cell_type": "code",
      "execution_count": null,
      "metadata": {
        "colab": {
          "base_uri": "https://localhost:8080/"
        },
        "id": "EujFZeu12x2B",
        "outputId": "53a7bb5e-5e08-4ef2-d670-97d05af3e9ca"
      },
      "outputs": [
        {
          "name": "stdout",
          "output_type": "stream",
          "text": [
            "Most common words among female posts: [('like', 342084), ('think', 212597), ('people', 194766), ('know', 190245), ('time', 185837), ('want', 176416), ('good', 163956), ('go', 157859), ('get', 157143), ('thing', 145508)]\n",
            "Most common words among male posts: [('like', 355540), ('people', 220720), ('think', 212506), ('time', 191712), ('good', 190962), ('know', 181218), ('get', 173414), ('want', 166121), ('go', 166029), ('thing', 150150)]\n"
          ]
        }
      ],
      "source": [
        "from collections import Counter\n",
        "\n",
        "# Split data by gender\n",
        "female_posts = cleaned_gender_filtered[cleaned_gender_filtered['female'] == 1]['cleaned_post']\n",
        "male_posts = cleaned_gender_df[cleaned_gender_df['female'] == 0]['cleaned_post']\n",
        "\n",
        "# Flatten the list of words\n",
        "female_words = [word for post in female_posts for word in post.split()]\n",
        "male_words = [word for post in male_posts for word in post.split()]\n",
        "\n",
        "# Count words\n",
        "female_word_counts = Counter(female_words)\n",
        "male_word_counts = Counter(male_words)\n",
        "\n",
        "# Get most common words\n",
        "most_common_female = female_word_counts.most_common(10)\n",
        "most_common_male = male_word_counts.most_common(10)\n",
        "\n",
        "# Print most common words\n",
        "print(\"Most common words among female posts:\", most_common_female)\n",
        "print(\"Most common words among male posts:\", most_common_male)\n"
      ]
    },
    {
      "cell_type": "code",
      "execution_count": null,
      "metadata": {
        "id": "g9_wNTxJ23J_"
      },
      "outputs": [],
      "source": [
        "# Add a column for post length\n",
        "cleaned_gender_filtered['post_length'] = cleaned_gender_filtered['cleaned_post'].apply(len)\n",
        "\n",
        "# Plotting\n",
        "sns.boxplot(x='female', y='post_length', data=cleaned_gender_filtered)\n",
        "plt.title('Average Post Length by Gender')\n",
        "plt.xticks([0, 1], ['Male', 'Female'])\n",
        "plt.xlabel('Gender')\n",
        "plt.ylabel('Post Length')\n",
        "plt.show()\n"
      ]
    },
    {
      "cell_type": "code",
      "source": [
        "import seaborn as sns\n",
        "import matplotlib.pyplot as plt\n",
        "\n",
        "# Add a column for post length\n",
        "cleaned_gender_filtered['post_length'] = cleaned_gender_filtered['cleaned_post'].apply(len)\n",
        "\n",
        "# Plotting with a violin plot and logarithmic scale\n",
        "plt.figure(figsize=(10, 6))  # Increase plot size\n",
        "sns.violinplot(x='female', y='post_length', data=cleaned_gender_filtered)\n",
        "plt.yscale('log')  # Apply logarithmic scale\n",
        "plt.title('Average Post Length by Gender')\n",
        "plt.xticks([0, 1], ['Male', 'Female'])\n",
        "plt.xlabel('Gender')\n",
        "plt.ylabel('Log of Post Length')\n",
        "plt.show()\n"
      ],
      "metadata": {
        "colab": {
          "base_uri": "https://localhost:8080/",
          "height": 585
        },
        "id": "CArB6YO0ZaJ3",
        "outputId": "cac86239-e42c-4107-f130-4944b4ed9597"
      },
      "execution_count": null,
      "outputs": [
        {
          "output_type": "display_data",
          "data": {
            "text/plain": [
              "<Figure size 1000x600 with 1 Axes>"
            ],
            "image/png": "[encoded data removed]"
          },
          "metadata": {}
        }
      ]
    },
    {
      "cell_type": "code",
      "execution_count": null,
      "metadata": {
        "id": "PJ0sFC4L0uu1"
      },
      "outputs": [],
      "source": [
        "# Count posts by nationality\n",
        "nationality_counts = cleaned_nationality_df['nationality'].value_counts()\n",
        "\n",
        "# Plotting\n",
        "plt.subplot(1, 2, 2)\n",
        "sns.barplot(x=nationality_counts.index, y=nationality_counts.values)\n",
        "plt.title('Posts by Nationality')\n",
        "plt.xticks(rotation=60)\n",
        "plt.show()\n"
      ]
    },
    {
      "cell_type": "code",
      "execution_count": null,
      "metadata": {
        "id": "BOWmAFox3Ba8"
      },
      "outputs": [],
      "source": [
        "# Define the number of top nationalities to display\n",
        "top_n = 10\n",
        "\n",
        "# Calculate post counts for each nationality\n",
        "nationality_counts = cleaned_nationality_df['nationality'].value_counts()\n",
        "\n",
        "# Filter for top N nationalities\n",
        "top_nationalities = nationality_counts.head(top_n)\n",
        "\n",
        "# Plotting\n",
        "plt.figure(figsize=(10, 6))\n",
        "sns.barplot(x=top_nationalities.values, y=top_nationalities.index)\n",
        "plt.title(f'Top {top_n} Nationalities in Posts')\n",
        "plt.xlabel('Number of Posts')\n",
        "plt.ylabel('Nationality')\n",
        "plt.show()\n"
      ]
    },
    {
      "cell_type": "code",
      "execution_count": null,
      "metadata": {
        "id": "YbcsTEM51Ehm"
      },
      "outputs": [],
      "source": [
        "# Add a column for post length\n",
        "cleaned_gender_df['post_length'] = cleaned_gender_df['post'].apply(len)\n",
        "cleaned_nationality_df['post_length'] = cleaned_nationality_df['post'].apply(len)\n",
        "\n",
        "# Plotting\n",
        "plt.figure(figsize=(10, 5))\n",
        "plt.subplot(1, 2, 1)\n",
        "sns.boxplot(x='gender', y='post_length', data=cleaned_gender_df)\n",
        "plt.title('Average Post Length by Gender')\n",
        "\n",
        "plt.subplot(1, 2, 2)\n",
        "sns.boxplot(x='nationality', y='post_length', data=cleaned_nationality_df)\n",
        "plt.title('Average Post Length by Nationality')\n",
        "plt.xticks(rotation=45)\n",
        "plt.show()\n"
      ]
    },
    {
      "cell_type": "markdown",
      "metadata": {
        "id": "Bckfn2BI0s33"
      },
      "source": [
        "Logistic Regression model voor gender"
      ]
    },
    {
      "cell_type": "code",
      "execution_count": null,
      "metadata": {
        "id": "hdPJ37ER7WrI"
      },
      "outputs": [],
      "source": [
        "# Feature extraction using TF-IDF\n",
        "# You can adjust the number of features and other parameters to improve your models performance\n",
        "tfidf_vectorizer = TfidfVectorizer(max_features=5000, stop_words='english', ngram_range=(1,2))"
      ]
    },
    {
      "cell_type": "code",
      "execution_count": null,
      "metadata": {
        "id": "GT2HAupp7YV7"
      },
      "outputs": [],
      "source": [
        "# Apply TF-IDF to the cleaned posts\n",
        "X = tfidf_vectorizer.fit_transform(cleaned_gender_filtered['cleaned_post'])\n",
        "y = cleaned_gender_filtered['female']"
      ]
    },
    {
      "cell_type": "code",
      "execution_count": null,
      "metadata": {
        "id": "WK-G-lc-7c2g"
      },
      "outputs": [],
      "source": [
        "# Splitting the data into training and testing sets\n",
        "X_train_gender, X_test_gender, y_train_gender, y_test_gender = train_test_split(X, y, test_size=0.2, stratify=y, random_state=42)\n"
      ]
    },
    {
      "cell_type": "code",
      "execution_count": null,
      "metadata": {
        "colab": {
          "base_uri": "https://localhost:8080/",
          "height": 93
        },
        "id": "GK_EO0_K7dip",
        "outputId": "4fdedacd-933b-458c-cfd4-3614f55af7b6"
      },
      "outputs": [
        {
          "output_type": "execute_result",
          "data": {
            "text/plain": [
              "LogisticRegression()"
            ],
            "text/html": [
              "<style>#sk-container-id-1 {color: black;background-color: white;}#sk-container-id-1 pre{padding: 0;}#sk-container-id-1 div.sk-toggleable {background-color: white;}#sk-container-id-1 label.sk-toggleable__label {cursor: pointer;display: block;width: 100%;margin-bottom: 0;padding: 0.3em;box-sizing: border-box;text-align: center;}#sk-container-id-1 label.sk-toggleable__label-arrow:before {content: \"▸\";float: left;margin-right: 0.25em;color: #696969;}#sk-container-id-1 label.sk-toggleable__label-arrow:hover:before {color: black;}#sk-container-id-1 div.sk-estimator:hover label.sk-toggleable__label-arrow:before {color: black;}#sk-container-id-1 div.sk-toggleable__content {max-height: 0;max-width: 0;overflow: hidden;text-align: left;background-color: #f0f8ff;}#sk-container-id-1 div.sk-toggleable__content pre {margin: 0.2em;color: black;border-radius: 0.25em;background-color: #f0f8ff;}#sk-container-id-1 input.sk-toggleable__control:checked~div.sk-toggleable__content {max-height: 200px;max-width: 100%;overflow: auto;}#sk-container-id-1 input.sk-toggleable__control:checked~label.sk-toggleable__label-arrow:before {content: \"▾\";}#sk-container-id-1 div.sk-estimator input.sk-toggleable__control:checked~label.sk-toggleable__label {background-color: #d4ebff;}#sk-container-id-1 div.sk-label input.sk-toggleable__control:checked~label.sk-toggleable__label {background-color: #d4ebff;}#sk-container-id-1 input.sk-hidden--visually {border: 0;clip: rect(1px 1px 1px 1px);clip: rect(1px, 1px, 1px, 1px);height: 1px;margin: -1px;overflow: hidden;padding: 0;position: absolute;width: 1px;}#sk-container-id-1 div.sk-estimator {font-family: monospace;background-color: #f0f8ff;border: 1px dotted black;border-radius: 0.25em;box-sizing: border-box;margin-bottom: 0.5em;}#sk-container-id-1 div.sk-estimator:hover {background-color: #d4ebff;}#sk-container-id-1 div.sk-parallel-item::after {content: \"\";width: 100%;border-bottom: 1px solid gray;flex-grow: 1;}#sk-container-id-1 div.sk-label:hover label.sk-toggleable__label {background-color: #d4ebff;}#sk-container-id-1 div.sk-serial::before {content: \"\";position: absolute;border-left: 1px solid gray;box-sizing: border-box;top: 0;bottom: 0;left: 50%;z-index: 0;}#sk-container-id-1 div.sk-serial {display: flex;flex-direction: column;align-items: center;background-color: white;padding-right: 0.2em;padding-left: 0.2em;position: relative;}#sk-container-id-1 div.sk-item {position: relative;z-index: 1;}#sk-container-id-1 div.sk-parallel {display: flex;align-items: stretch;justify-content: center;background-color: white;position: relative;}#sk-container-id-1 div.sk-item::before, #sk-container-id-1 div.sk-parallel-item::before {content: \"\";position: absolute;border-left: 1px solid gray;box-sizing: border-box;top: 0;bottom: 0;left: 50%;z-index: -1;}#sk-container-id-1 div.sk-parallel-item {display: flex;flex-direction: column;z-index: 1;position: relative;background-color: white;}#sk-container-id-1 div.sk-parallel-item:first-child::after {align-self: flex-end;width: 50%;}#sk-container-id-1 div.sk-parallel-item:last-child::after {align-self: flex-start;width: 50%;}#sk-container-id-1 div.sk-parallel-item:only-child::after {width: 0;}#sk-container-id-1 div.sk-dashed-wrapped {border: 1px dashed gray;margin: 0 0.4em 0.5em 0.4em;box-sizing: border-box;padding-bottom: 0.4em;background-color: white;}#sk-container-id-1 div.sk-label label {font-family: monospace;font-weight: bold;display: inline-block;line-height: 1.2em;}#sk-container-id-1 div.sk-label-container {text-align: center;}#sk-container-id-1 div.sk-container {/* jupyter's `normalize.less` sets `[hidden] { display: none; }` but bootstrap.min.css set `[hidden] { display: none !important; }` so we also need the `!important` here to be able to override the default hidden behavior on the sphinx rendered scikit-learn.org. See: https://github.com/scikit-learn/scikit-learn/issues/21755 */display: inline-block !important;position: relative;}#sk-container-id-1 div.sk-text-repr-fallback {display: none;}</style><div id=\"sk-container-id-1\" class=\"sk-top-container\"><div class=\"sk-text-repr-fallback\"><pre>LogisticRegression()</pre><b>In a Jupyter environment, please rerun this cell to show the HTML representation or trust the notebook. <br />On GitHub, the HTML representation is unable to render, please try loading this page with nbviewer.org.</b></div><div class=\"sk-container\" hidden><div class=\"sk-item\"><div class=\"sk-estimator sk-toggleable\"><input class=\"sk-toggleable__control sk-hidden--visually\" id=\"sk-estimator-id-1\" type=\"checkbox\" checked><label for=\"sk-estimator-id-1\" class=\"sk-toggleable__label sk-toggleable__label-arrow\">LogisticRegression</label><div class=\"sk-toggleable__content\"><pre>LogisticRegression()</pre></div></div></div></div></div>"
            ]
          },
          "metadata": {},
          "execution_count": 8
        }
      ],
      "source": [
        "# Initialize and train the logistic regression model\n",
        "lr_model = LogisticRegression()\n",
        "lr_model.fit(X_train_gender, y_train_gender)"
      ]
    },
    {
      "cell_type": "code",
      "execution_count": null,
      "metadata": {
        "id": "MMxjq_F97gtz"
      },
      "outputs": [],
      "source": [
        "# Predictions\n",
        "y_pred_gender = lr_model.predict(X_test_gender)"
      ]
    },
    {
      "cell_type": "code",
      "execution_count": null,
      "metadata": {
        "id": "cvTyE3iQL9_p"
      },
      "outputs": [],
      "source": [
        "# Getting predicted probabilities\n",
        "y_pred_prob_gender = lr_model.predict_proba(X_test_gender)"
      ]
    },
    {
      "cell_type": "code",
      "execution_count": null,
      "metadata": {
        "colab": {
          "base_uri": "https://localhost:8080/"
        },
        "id": "ZFSt6esq7hel",
        "outputId": "5fdb8927-9ee9-49d0-9cdd-f9052be26455"
      },
      "outputs": [
        {
          "output_type": "stream",
          "name": "stdout",
          "text": [
            "Accuracy: 0.868987493987494\n",
            "              precision    recall  f1-score   support\n",
            "\n",
            "           0     0.8605    0.8903    0.8752      8578\n",
            "           1     0.8787    0.8463    0.8622      8054\n",
            "\n",
            "    accuracy                         0.8690     16632\n",
            "   macro avg     0.8696    0.8683    0.8687     16632\n",
            "weighted avg     0.8693    0.8690    0.8689     16632\n",
            "\n"
          ]
        }
      ],
      "source": [
        "# Evaluation\n",
        "print(f'Accuracy: {accuracy_score(y_test_gender, y_pred_gender)}')\n",
        "print(classification_report(y_test_gender, y_pred_gender, digits=4))"
      ]
    },
    {
      "cell_type": "code",
      "execution_count": null,
      "metadata": {
        "colab": {
          "base_uri": "https://localhost:8080/",
          "height": 470
        },
        "id": "Q72jrSxxLcy1",
        "outputId": "1b6f77f8-9f13-4ac0-bb19-645b614d1000"
      },
      "outputs": [
        {
          "output_type": "display_data",
          "data": {
            "text/plain": [
              "<Figure size 640x480 with 2 Axes>"
            ],
            "image/png": "[encoded data removed]"
          },
          "metadata": {}
        }
      ],
      "source": [
        "\n",
        "cm = confusion_matrix(y_test_gender, y_pred_gender)\n",
        "sns.heatmap(cm, annot=True, fmt='d')\n",
        "plt.xlabel('Predicted')\n",
        "plt.ylabel('True')\n",
        "plt.show()\n"
      ]
    },
    {
      "cell_type": "code",
      "execution_count": null,
      "metadata": {
        "id": "uuJyZ7xvLgOD",
        "colab": {
          "base_uri": "https://localhost:8080/",
          "height": 493
        },
        "outputId": "6ce9694f-318b-40b5-a324-1c7f91dfac60"
      },
      "outputs": [
        {
          "output_type": "display_data",
          "data": {
            "text/plain": [
              "<Figure size 640x480 with 1 Axes>"
            ],
            "image/png": "[encoded data removed]"
          },
          "metadata": {}
        }
      ],
      "source": [
        "from sklearn.metrics import roc_curve, auc\n",
        "\n",
        "fpr, tpr, thresholds = roc_curve(y_test, y_pred_prob[:, 1])  # y_pred_prob is the probability of the positive class\n",
        "roc_auc = auc(fpr, tpr)\n",
        "\n",
        "plt.figure()\n",
        "plt.plot(fpr, tpr, label='ROC curve (area = %0.2f)' % roc_auc)\n",
        "plt.xlabel('False Positive Rate')\n",
        "plt.ylabel('True Positive Rate')\n",
        "plt.title('Receiver Operating Characteristic')\n",
        "plt.legend(loc=\"lower right\")\n",
        "plt.show()\n"
      ]
    },
    {
      "cell_type": "code",
      "execution_count": null,
      "metadata": {
        "id": "KwvCV1QoLxIc",
        "colab": {
          "base_uri": "https://localhost:8080/"
        },
        "outputId": "2850cd64-ec3f-4d12-b1a0-cda45dda9384"
      },
      "outputs": [
        {
          "output_type": "stream",
          "name": "stdout",
          "text": [
            "Cross-validated scores: [0.82208995 0.83994709 0.81661857 0.81702844 0.8236426 ]\n"
          ]
        }
      ],
      "source": [
        "from sklearn.model_selection import cross_val_score\n",
        "\n",
        "scores = cross_val_score(lr_model, X, y, cv=5, scoring='accuracy')\n",
        "print(\"Cross-validated scores:\", scores)\n"
      ]
    },
    {
      "cell_type": "code",
      "execution_count": null,
      "metadata": {
        "id": "fr9uFsThLnZm",
        "colab": {
          "base_uri": "https://localhost:8080/",
          "height": 493
        },
        "outputId": "2e7ee245-a9a7-41de-fd1e-9b962e8b65a4"
      },
      "outputs": [
        {
          "output_type": "display_data",
          "data": {
            "text/plain": [
              "<Figure size 640x480 with 1 Axes>"
            ],
            "image/png": "[encoded data removed]"
          },
          "metadata": {}
        }
      ],
      "source": [
        "from sklearn.metrics import precision_recall_curve\n",
        "from sklearn.metrics import average_precision_score\n",
        "\n",
        "precision, recall, _ = precision_recall_curve(y_test, y_pred_prob[:, 1])\n",
        "average_precision = average_precision_score(y_test, y_pred_prob[:, 1])\n",
        "\n",
        "plt.step(recall, precision, where='post')\n",
        "plt.xlabel('Recall')\n",
        "plt.ylabel('Precision')\n",
        "plt.ylim([0.0, 1.05])\n",
        "plt.xlim([0.0, 1.0])\n",
        "plt.title(f'2-class Precision-Recall curve: AP={average_precision:0.2f}')\n",
        "plt.show()\n"
      ]
    },
    {
      "cell_type": "code",
      "execution_count": null,
      "metadata": {
        "colab": {
          "base_uri": "https://localhost:8080/"
        },
        "id": "FB9ORZLc7lYR",
        "outputId": "314ed9b1-d512-47da-aef4-ac168c401a17"
      },
      "outputs": [
        {
          "output_type": "stream",
          "name": "stdout",
          "text": [
            "Most important features for prediction:\n",
            "husband: 10.880642002163995\n",
            "boyfriend: 6.282505838389301\n",
            "date guy: 6.187151232940491\n",
            "omg: 5.657014277668419\n",
            "lesbian: 5.152368765812296\n",
            "baby: 4.995810330256247\n",
            "bf: 4.462155232606152\n",
            "okay: 4.215921275385756\n",
            "hubby: 4.155843144821185\n",
            "stamp: 4.15210811292186\n",
            "gross: 3.9310375482604663\n",
            "bra: 3.8184749621402814\n",
            "period: 3.805635242992091\n",
            "super: 3.7878659326271444\n",
            "romance: 3.7659140963423425\n",
            "makeup: 3.7292183463383877\n",
            "toddler: 3.713333142986767\n",
            "edit add: 3.658141473586265\n",
            "female: 3.63901012627986\n",
            "absolutely: 3.5362821117180743\n",
            "emote: 3.484972221759067\n",
            "definitely: 3.449272973019005\n",
            "mom: 3.4376167886593567\n",
            "cute: 3.4087501118338377\n",
            "yay: 3.4036375038090467\n"
          ]
        }
      ],
      "source": [
        "feature_names = tfidf_vectorizer.get_feature_names_out()\n",
        "feature_importances = lr_model.coef_[0]\n",
        "sorted_features = sorted(zip(feature_importances, feature_names), reverse=True)\n",
        "print(\"Most important features for prediction:\")\n",
        "for importance, feature in sorted_features[:25]:\n",
        "    print(f'{feature}: {importance}')"
      ]
    },
    {
      "cell_type": "code",
      "execution_count": null,
      "metadata": {
        "colab": {
          "base_uri": "https://localhost:8080/"
        },
        "id": "6I6Mm_J5KYqE",
        "outputId": "03e1a972-08be-4029-b284-a12a71ff6dba"
      },
      "outputs": [
        {
          "output_type": "stream",
          "name": "stdout",
          "text": [
            "Most important features for prediction of male class:\n",
            "wife: -10.8241291528462\n",
            "gay: -6.393131227161072\n",
            "bro: -5.667963352425617\n",
            "gf: -4.693433702952979\n",
            "problem: -4.247272993261046\n",
            "nice: -3.9167934093615524\n",
            "ex wife: -3.8879683066609947\n",
            "simple: -3.884623639307463\n",
            "buddy: -3.713725380145851\n",
            "gay man: -3.5772230954696376\n",
            "beer: -3.569150640920493\n",
            "engineer: -3.412591810211396\n",
            "date woman: -3.403046725111506\n",
            "guitar: -3.3138052757640857\n",
            "probably: -3.3034829586318226\n",
            "album: -3.1742524658702447\n",
            "father: -3.1650148806320653\n",
            "fantastic: -3.159552869746163\n",
            "guess: -3.1347150479896913\n",
            "girlfriend: -3.107424255641105\n",
            "pussy: -3.062101626701987\n",
            "female friend: -2.9500191976845502\n",
            "power: -2.896438150253083\n",
            "game: -2.8709219082054296\n",
            "argument: -2.8298890407518598\n"
          ]
        }
      ],
      "source": [
        "feature_names = tfidf_vectorizer.get_feature_names_out()\n",
        "feature_importances = lr_model.coef_[0]\n",
        "\n",
        "# For the male class, we are interested in the most negative coefficients\n",
        "# as they are more indicative of the '0' class in binary classification\n",
        "sorted_features_for_male = sorted(zip(feature_importances, feature_names))\n",
        "print(\"Most important features for prediction of male class:\")\n",
        "for importance, feature in sorted_features_for_male[:25]:  # Top 20 features\n",
        "    print(f'{feature}: {importance}')\n"
      ]
    },
    {
      "cell_type": "markdown",
      "metadata": {
        "id": "GMshUfKM_wwo"
      },
      "source": [
        "-----------------------------------\n",
        "naive bayes"
      ]
    },
    {
      "cell_type": "code",
      "execution_count": null,
      "metadata": {
        "id": "U-cHkolN_wf4"
      },
      "outputs": [],
      "source": [
        "# Initialize the Multinomial Naive Bayes classifier\n",
        "mnb_model = MultinomialNB()"
      ]
    },
    {
      "cell_type": "code",
      "execution_count": null,
      "metadata": {
        "colab": {
          "base_uri": "https://localhost:8080/",
          "height": 93
        },
        "id": "E8us9Uaa_-HQ",
        "outputId": "a3e13ad9-d716-4b76-e852-e5337f5e60f1"
      },
      "outputs": [
        {
          "output_type": "execute_result",
          "data": {
            "text/plain": [
              "MultinomialNB()"
            ],
            "text/html": [
              "<style>#sk-container-id-2 {color: black;background-color: white;}#sk-container-id-2 pre{padding: 0;}#sk-container-id-2 div.sk-toggleable {background-color: white;}#sk-container-id-2 label.sk-toggleable__label {cursor: pointer;display: block;width: 100%;margin-bottom: 0;padding: 0.3em;box-sizing: border-box;text-align: center;}#sk-container-id-2 label.sk-toggleable__label-arrow:before {content: \"▸\";float: left;margin-right: 0.25em;color: #696969;}#sk-container-id-2 label.sk-toggleable__label-arrow:hover:before {color: black;}#sk-container-id-2 div.sk-estimator:hover label.sk-toggleable__label-arrow:before {color: black;}#sk-container-id-2 div.sk-toggleable__content {max-height: 0;max-width: 0;overflow: hidden;text-align: left;background-color: #f0f8ff;}#sk-container-id-2 div.sk-toggleable__content pre {margin: 0.2em;color: black;border-radius: 0.25em;background-color: #f0f8ff;}#sk-container-id-2 input.sk-toggleable__control:checked~div.sk-toggleable__content {max-height: 200px;max-width: 100%;overflow: auto;}#sk-container-id-2 input.sk-toggleable__control:checked~label.sk-toggleable__label-arrow:before {content: \"▾\";}#sk-container-id-2 div.sk-estimator input.sk-toggleable__control:checked~label.sk-toggleable__label {background-color: #d4ebff;}#sk-container-id-2 div.sk-label input.sk-toggleable__control:checked~label.sk-toggleable__label {background-color: #d4ebff;}#sk-container-id-2 input.sk-hidden--visually {border: 0;clip: rect(1px 1px 1px 1px);clip: rect(1px, 1px, 1px, 1px);height: 1px;margin: -1px;overflow: hidden;padding: 0;position: absolute;width: 1px;}#sk-container-id-2 div.sk-estimator {font-family: monospace;background-color: #f0f8ff;border: 1px dotted black;border-radius: 0.25em;box-sizing: border-box;margin-bottom: 0.5em;}#sk-container-id-2 div.sk-estimator:hover {background-color: #d4ebff;}#sk-container-id-2 div.sk-parallel-item::after {content: \"\";width: 100%;border-bottom: 1px solid gray;flex-grow: 1;}#sk-container-id-2 div.sk-label:hover label.sk-toggleable__label {background-color: #d4ebff;}#sk-container-id-2 div.sk-serial::before {content: \"\";position: absolute;border-left: 1px solid gray;box-sizing: border-box;top: 0;bottom: 0;left: 50%;z-index: 0;}#sk-container-id-2 div.sk-serial {display: flex;flex-direction: column;align-items: center;background-color: white;padding-right: 0.2em;padding-left: 0.2em;position: relative;}#sk-container-id-2 div.sk-item {position: relative;z-index: 1;}#sk-container-id-2 div.sk-parallel {display: flex;align-items: stretch;justify-content: center;background-color: white;position: relative;}#sk-container-id-2 div.sk-item::before, #sk-container-id-2 div.sk-parallel-item::before {content: \"\";position: absolute;border-left: 1px solid gray;box-sizing: border-box;top: 0;bottom: 0;left: 50%;z-index: -1;}#sk-container-id-2 div.sk-parallel-item {display: flex;flex-direction: column;z-index: 1;position: relative;background-color: white;}#sk-container-id-2 div.sk-parallel-item:first-child::after {align-self: flex-end;width: 50%;}#sk-container-id-2 div.sk-parallel-item:last-child::after {align-self: flex-start;width: 50%;}#sk-container-id-2 div.sk-parallel-item:only-child::after {width: 0;}#sk-container-id-2 div.sk-dashed-wrapped {border: 1px dashed gray;margin: 0 0.4em 0.5em 0.4em;box-sizing: border-box;padding-bottom: 0.4em;background-color: white;}#sk-container-id-2 div.sk-label label {font-family: monospace;font-weight: bold;display: inline-block;line-height: 1.2em;}#sk-container-id-2 div.sk-label-container {text-align: center;}#sk-container-id-2 div.sk-container {/* jupyter's `normalize.less` sets `[hidden] { display: none; }` but bootstrap.min.css set `[hidden] { display: none !important; }` so we also need the `!important` here to be able to override the default hidden behavior on the sphinx rendered scikit-learn.org. See: https://github.com/scikit-learn/scikit-learn/issues/21755 */display: inline-block !important;position: relative;}#sk-container-id-2 div.sk-text-repr-fallback {display: none;}</style><div id=\"sk-container-id-2\" class=\"sk-top-container\"><div class=\"sk-text-repr-fallback\"><pre>MultinomialNB()</pre><b>In a Jupyter environment, please rerun this cell to show the HTML representation or trust the notebook. <br />On GitHub, the HTML representation is unable to render, please try loading this page with nbviewer.org.</b></div><div class=\"sk-container\" hidden><div class=\"sk-item\"><div class=\"sk-estimator sk-toggleable\"><input class=\"sk-toggleable__control sk-hidden--visually\" id=\"sk-estimator-id-2\" type=\"checkbox\" checked><label for=\"sk-estimator-id-2\" class=\"sk-toggleable__label sk-toggleable__label-arrow\">MultinomialNB</label><div class=\"sk-toggleable__content\"><pre>MultinomialNB()</pre></div></div></div></div></div>"
            ]
          },
          "metadata": {},
          "execution_count": 17
        }
      ],
      "source": [
        "# Train the model\n",
        "mnb_model.fit(X_train_gender, y_train_gender)"
      ]
    },
    {
      "cell_type": "code",
      "source": [
        "# Get feature names, assuming you have a vectorizer like CountVectorizer or TfidfVectorizer\n",
        "feature_names = tfidf_vectorizer.get_feature_names_out()"
      ],
      "metadata": {
        "id": "opeZRrVg-3jt"
      },
      "execution_count": null,
      "outputs": []
    },
    {
      "cell_type": "code",
      "source": [
        "# Get log probabilities\n",
        "log_prob = mnb_model.feature_log_prob_"
      ],
      "metadata": {
        "id": "vDTFsGkb-711"
      },
      "execution_count": null,
      "outputs": []
    },
    {
      "cell_type": "code",
      "source": [
        "# Exponentiate to get actual probabilities\n",
        "prob = np.exp(log_prob)"
      ],
      "metadata": {
        "id": "a6fArX30ARq7"
      },
      "execution_count": null,
      "outputs": []
    },
    {
      "cell_type": "code",
      "source": [
        "# For each class, print the top N words\n",
        "top_n = 50\n",
        "for i, class_prob in enumerate(prob):\n",
        "    top_features = class_prob.argsort()[-top_n:][::-1]\n",
        "    gender = 'Female' if i == 1 else 'Male'\n",
        "    print(f\"Top {top_n} words for {gender}:\")\n",
        "    print([feature_names[j] for j in top_features])"
      ],
      "metadata": {
        "colab": {
          "base_uri": "https://localhost:8080/"
        },
        "id": "JrRI1-jSAP3w",
        "outputId": "e8bf997a-3844-462f-c816-a58a334e6b06"
      },
      "execution_count": null,
      "outputs": [
        {
          "output_type": "stream",
          "name": "stdout",
          "text": [
            "Top 50 words for Male:\n",
            "['like', 'people', 'think', 'good', 'time', 'know', 'want', 'thing', 'work', 'year', 'look', 'need', 'way', 'game', 'say', 'gt', 'feel', 'try', 'man', 'day', 'guy', 'play', 'right', 'come', 'woman', 'love', 'lot', 'life', 'tell', 'mean', 'bad', 'lol', 'use', 'start', 'friend', 'url', 'fuck', 'point', 'shit', 'date', 'make', 'sure', 'kid', 'yeah', 'long', 'ask', 'probably', 'actually', 'talk', 'great']\n",
            "Top 50 words for Female:\n",
            "['like', 'think', 'people', 'know', 'time', 'want', 'feel', 'good', 'thing', 'work', 'year', 'need', 'love', 'look', 'try', 'kid', 'say', 'day', 'woman', 'way', 'tell', 'thank', 'friend', 'lot', 'life', 'help', 'lol', 'man', 'relationship', 'child', 'date', 'come', 'right', 'ask', 'husband', 'start', 'person', 'family', 'talk', 'live', 'make', 'bad', 'parent', 'guy', 'mean', 'old', 'dog', 'sure', 'long', 'week']\n"
          ]
        }
      ]
    },
    {
      "cell_type": "code",
      "execution_count": null,
      "metadata": {
        "id": "64Qyso-K_-Uv"
      },
      "outputs": [],
      "source": [
        "# Predictions\n",
        "y_pred_mnb_gender = mnb_model.predict(X_test_gender)"
      ]
    },
    {
      "cell_type": "code",
      "execution_count": null,
      "metadata": {
        "colab": {
          "base_uri": "https://localhost:8080/"
        },
        "id": "_Poks5Q5_-iH",
        "outputId": "577ba478-6e56-4c42-80d7-39b90000745d"
      },
      "outputs": [
        {
          "output_type": "stream",
          "name": "stdout",
          "text": [
            "Accuracy: 0.7822871572871573\n",
            "              precision    recall  f1-score   support\n",
            "\n",
            "           0     0.8002    0.7702    0.7849      8578\n",
            "           1     0.7647    0.7951    0.7796      8054\n",
            "\n",
            "    accuracy                         0.7823     16632\n",
            "   macro avg     0.7824    0.7827    0.7823     16632\n",
            "weighted avg     0.7830    0.7823    0.7823     16632\n",
            "\n"
          ]
        }
      ],
      "source": [
        "# Evaluation\n",
        "print(f'Accuracy: {accuracy_score(y_test_gender, y_pred_mnb_gender)}')\n",
        "print(classification_report(y_test_gender, y_pred_mnb_gender, digits=4))\n"
      ]
    },
    {
      "cell_type": "markdown",
      "source": [
        "Baseline Model"
      ],
      "metadata": {
        "id": "BPfR7mUqmL29"
      }
    },
    {
      "cell_type": "code",
      "source": [
        "\n",
        "# For Gender Prediction\n",
        "dummy_clf_gender = DummyClassifier(strategy=\"most_frequent\")\n",
        "\n",
        "dummy_clf_gender.fit(X_train_gender, y_train_gender)\n",
        "\n",
        "gender_pred = dummy_clf_gender.predict(X_test_gender)\n",
        "\n",
        "accuracy_gender = accuracy_score(y_test_gender, gender_pred)\n",
        "\n",
        "# For Nationality Prediction\n",
        "#dummy_clf_nationality = DummyClassifier(strategy=\"most_frequent\")\n",
        "#dummy_clf_nationality.fit(X_train, y_train_nationality)  # nog invullen\n",
        "#nationality_pred = dummy_clf_nationality.predict(X_test)\n",
        "#accuracy_nationality = accuracy_score(y_test_nationality, nationality_pred)  # nog invullen\n",
        "\n",
        "print(f\"Dummy Classifier (Majority Baseline) Accuracy for Gender: {accuracy_gender}\")\n",
        "#print(f\"Dummy Classifier (Majority Baseline) Accuracy for Nationality: {accuracy_nationality}\")\n"
      ],
      "metadata": {
        "colab": {
          "base_uri": "https://localhost:8080/"
        },
        "id": "h6LYkQE_mPDv",
        "outputId": "80f66f7b-ebb5-4525-e1fa-a7ae79304257"
      },
      "execution_count": null,
      "outputs": [
        {
          "output_type": "stream",
          "name": "stdout",
          "text": [
            "Dummy Classifier (Majority Baseline) Accuracy for Gender: 0.5157527657527657\n"
          ]
        }
      ]
    }
  ],
  "metadata": {
    "colab": {
      "machine_shape": "hm",
      "provenance": [],
      "gpuType": "V100"
    },
    "kernelspec": {
      "display_name": "Python 3",
      "name": "python3"
    },
    "language_info": {
      "name": "python"
    },
    "accelerator": "GPU"
  },
  "nbformat": 4,
  "nbformat_minor": 0
}